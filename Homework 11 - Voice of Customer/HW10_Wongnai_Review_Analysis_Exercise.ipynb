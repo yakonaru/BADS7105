{
  "nbformat": 4,
  "nbformat_minor": 0,
  "metadata": {
    "colab": {
      "name": "HW10-Wongnai Review Analysis - Exercise.ipynb",
      "provenance": [],
      "collapsed_sections": []
    },
    "kernelspec": {
      "name": "python3",
      "display_name": "Python 3"
    }
  },
  "cells": [
    {
      "cell_type": "markdown",
      "metadata": {
        "id": "kaAZjbXqBKxt"
      },
      "source": [
        "## **Load libraries and data**"
      ]
    },
    {
      "cell_type": "code",
      "metadata": {
        "id": "_pJtf54KNodh",
        "colab": {
          "base_uri": "https://localhost:8080/"
        },
        "outputId": "9641fbd2-297f-4b09-98a1-f7066fd7117c"
      },
      "source": [
        "# !pip install --upgrade pythainlp\n",
        "# !pip install pyLDAvis\n",
        "# !pip install -U pandas-profiling\n",
        "# !pip install sefr_cut"
      ],
      "execution_count": 85,
      "outputs": [
        {
          "output_type": "stream",
          "text": [
            "Collecting sefr_cut\n",
            "\u001b[?25l  Downloading https://files.pythonhosted.org/packages/7b/34/9d8e8e917baebabe350f387b84d1658ac16af19b284bda347373739a3726/SEFR_CUT-1.1-py3-none-any.whl (8.7MB)\n",
            "\u001b[K     |████████████████████████████████| 8.7MB 6.1MB/s \n",
            "\u001b[?25hRequirement already satisfied: pandas in /usr/local/lib/python3.7/dist-packages (from sefr_cut) (1.2.4)\n",
            "Collecting pyahocorasick\n",
            "\u001b[?25l  Downloading https://files.pythonhosted.org/packages/7f/c2/eae730037ae1cbbfaa229d27030d1d5e34a1e41114b21447d1202ae9c220/pyahocorasick-1.4.2.tar.gz (321kB)\n",
            "\u001b[K     |████████████████████████████████| 327kB 36.5MB/s \n",
            "\u001b[?25hRequirement already satisfied: scipy in /usr/local/lib/python3.7/dist-packages (from sefr_cut) (1.4.1)\n",
            "Requirement already satisfied: numpy in /usr/local/lib/python3.7/dist-packages (from sefr_cut) (1.20.2)\n",
            "Requirement already satisfied: scikit-learn in /usr/local/lib/python3.7/dist-packages (from sefr_cut) (0.22.2.post1)\n",
            "Requirement already satisfied: tensorflow>=2.0.0 in /usr/local/lib/python3.7/dist-packages (from sefr_cut) (2.4.1)\n",
            "Requirement already satisfied: python-crfsuite in /usr/local/lib/python3.7/dist-packages (from sefr_cut) (0.9.7)\n",
            "Requirement already satisfied: pytz>=2017.3 in /usr/local/lib/python3.7/dist-packages (from pandas->sefr_cut) (2018.9)\n",
            "Requirement already satisfied: python-dateutil>=2.7.3 in /usr/local/lib/python3.7/dist-packages (from pandas->sefr_cut) (2.8.1)\n",
            "Requirement already satisfied: joblib>=0.11 in /usr/local/lib/python3.7/dist-packages (from scikit-learn->sefr_cut) (1.0.1)\n",
            "Requirement already satisfied: absl-py~=0.10 in /usr/local/lib/python3.7/dist-packages (from tensorflow>=2.0.0->sefr_cut) (0.12.0)\n",
            "Requirement already satisfied: protobuf>=3.9.2 in /usr/local/lib/python3.7/dist-packages (from tensorflow>=2.0.0->sefr_cut) (3.12.4)\n",
            "Requirement already satisfied: gast==0.3.3 in /usr/local/lib/python3.7/dist-packages (from tensorflow>=2.0.0->sefr_cut) (0.3.3)\n",
            "Requirement already satisfied: wrapt~=1.12.1 in /usr/local/lib/python3.7/dist-packages (from tensorflow>=2.0.0->sefr_cut) (1.12.1)\n",
            "Requirement already satisfied: flatbuffers~=1.12.0 in /usr/local/lib/python3.7/dist-packages (from tensorflow>=2.0.0->sefr_cut) (1.12)\n",
            "Requirement already satisfied: typing-extensions~=3.7.4 in /usr/local/lib/python3.7/dist-packages (from tensorflow>=2.0.0->sefr_cut) (3.7.4.3)\n",
            "Requirement already satisfied: h5py~=2.10.0 in /usr/local/lib/python3.7/dist-packages (from tensorflow>=2.0.0->sefr_cut) (2.10.0)\n",
            "Requirement already satisfied: opt-einsum~=3.3.0 in /usr/local/lib/python3.7/dist-packages (from tensorflow>=2.0.0->sefr_cut) (3.3.0)\n",
            "Requirement already satisfied: termcolor~=1.1.0 in /usr/local/lib/python3.7/dist-packages (from tensorflow>=2.0.0->sefr_cut) (1.1.0)\n",
            "Requirement already satisfied: wheel~=0.35 in /usr/local/lib/python3.7/dist-packages (from tensorflow>=2.0.0->sefr_cut) (0.36.2)\n",
            "Requirement already satisfied: grpcio~=1.32.0 in /usr/local/lib/python3.7/dist-packages (from tensorflow>=2.0.0->sefr_cut) (1.32.0)\n",
            "Requirement already satisfied: keras-preprocessing~=1.1.2 in /usr/local/lib/python3.7/dist-packages (from tensorflow>=2.0.0->sefr_cut) (1.1.2)\n",
            "Requirement already satisfied: tensorboard~=2.4 in /usr/local/lib/python3.7/dist-packages (from tensorflow>=2.0.0->sefr_cut) (2.4.1)\n",
            "Requirement already satisfied: tensorflow-estimator<2.5.0,>=2.4.0 in /usr/local/lib/python3.7/dist-packages (from tensorflow>=2.0.0->sefr_cut) (2.4.0)\n",
            "Requirement already satisfied: astunparse~=1.6.3 in /usr/local/lib/python3.7/dist-packages (from tensorflow>=2.0.0->sefr_cut) (1.6.3)\n",
            "Requirement already satisfied: six~=1.15.0 in /usr/local/lib/python3.7/dist-packages (from tensorflow>=2.0.0->sefr_cut) (1.15.0)\n",
            "Requirement already satisfied: google-pasta~=0.2 in /usr/local/lib/python3.7/dist-packages (from tensorflow>=2.0.0->sefr_cut) (0.2.0)\n",
            "Requirement already satisfied: setuptools in /usr/local/lib/python3.7/dist-packages (from protobuf>=3.9.2->tensorflow>=2.0.0->sefr_cut) (56.0.0)\n",
            "Requirement already satisfied: tensorboard-plugin-wit>=1.6.0 in /usr/local/lib/python3.7/dist-packages (from tensorboard~=2.4->tensorflow>=2.0.0->sefr_cut) (1.8.0)\n",
            "Requirement already satisfied: requests<3,>=2.21.0 in /usr/local/lib/python3.7/dist-packages (from tensorboard~=2.4->tensorflow>=2.0.0->sefr_cut) (2.25.1)\n",
            "Requirement already satisfied: markdown>=2.6.8 in /usr/local/lib/python3.7/dist-packages (from tensorboard~=2.4->tensorflow>=2.0.0->sefr_cut) (3.3.4)\n",
            "Requirement already satisfied: werkzeug>=0.11.15 in /usr/local/lib/python3.7/dist-packages (from tensorboard~=2.4->tensorflow>=2.0.0->sefr_cut) (1.0.1)\n",
            "Requirement already satisfied: google-auth<2,>=1.6.3 in /usr/local/lib/python3.7/dist-packages (from tensorboard~=2.4->tensorflow>=2.0.0->sefr_cut) (1.28.1)\n",
            "Requirement already satisfied: google-auth-oauthlib<0.5,>=0.4.1 in /usr/local/lib/python3.7/dist-packages (from tensorboard~=2.4->tensorflow>=2.0.0->sefr_cut) (0.4.4)\n",
            "Requirement already satisfied: certifi>=2017.4.17 in /usr/local/lib/python3.7/dist-packages (from requests<3,>=2.21.0->tensorboard~=2.4->tensorflow>=2.0.0->sefr_cut) (2020.12.5)\n",
            "Requirement already satisfied: urllib3<1.27,>=1.21.1 in /usr/local/lib/python3.7/dist-packages (from requests<3,>=2.21.0->tensorboard~=2.4->tensorflow>=2.0.0->sefr_cut) (1.24.3)\n",
            "Requirement already satisfied: chardet<5,>=3.0.2 in /usr/local/lib/python3.7/dist-packages (from requests<3,>=2.21.0->tensorboard~=2.4->tensorflow>=2.0.0->sefr_cut) (3.0.4)\n",
            "Requirement already satisfied: idna<3,>=2.5 in /usr/local/lib/python3.7/dist-packages (from requests<3,>=2.21.0->tensorboard~=2.4->tensorflow>=2.0.0->sefr_cut) (2.10)\n",
            "Requirement already satisfied: importlib-metadata; python_version < \"3.8\" in /usr/local/lib/python3.7/dist-packages (from markdown>=2.6.8->tensorboard~=2.4->tensorflow>=2.0.0->sefr_cut) (3.10.1)\n",
            "Requirement already satisfied: pyasn1-modules>=0.2.1 in /usr/local/lib/python3.7/dist-packages (from google-auth<2,>=1.6.3->tensorboard~=2.4->tensorflow>=2.0.0->sefr_cut) (0.2.8)\n",
            "Requirement already satisfied: rsa<5,>=3.1.4; python_version >= \"3.6\" in /usr/local/lib/python3.7/dist-packages (from google-auth<2,>=1.6.3->tensorboard~=2.4->tensorflow>=2.0.0->sefr_cut) (4.7.2)\n",
            "Requirement already satisfied: cachetools<5.0,>=2.0.0 in /usr/local/lib/python3.7/dist-packages (from google-auth<2,>=1.6.3->tensorboard~=2.4->tensorflow>=2.0.0->sefr_cut) (4.2.1)\n",
            "Requirement already satisfied: requests-oauthlib>=0.7.0 in /usr/local/lib/python3.7/dist-packages (from google-auth-oauthlib<0.5,>=0.4.1->tensorboard~=2.4->tensorflow>=2.0.0->sefr_cut) (1.3.0)\n",
            "Requirement already satisfied: zipp>=0.5 in /usr/local/lib/python3.7/dist-packages (from importlib-metadata; python_version < \"3.8\"->markdown>=2.6.8->tensorboard~=2.4->tensorflow>=2.0.0->sefr_cut) (3.4.1)\n",
            "Requirement already satisfied: pyasn1<0.5.0,>=0.4.6 in /usr/local/lib/python3.7/dist-packages (from pyasn1-modules>=0.2.1->google-auth<2,>=1.6.3->tensorboard~=2.4->tensorflow>=2.0.0->sefr_cut) (0.4.8)\n",
            "Requirement already satisfied: oauthlib>=3.0.0 in /usr/local/lib/python3.7/dist-packages (from requests-oauthlib>=0.7.0->google-auth-oauthlib<0.5,>=0.4.1->tensorboard~=2.4->tensorflow>=2.0.0->sefr_cut) (3.1.0)\n",
            "Building wheels for collected packages: pyahocorasick\n",
            "  Building wheel for pyahocorasick (setup.py) ... \u001b[?25l\u001b[?25hdone\n",
            "  Created wheel for pyahocorasick: filename=pyahocorasick-1.4.2-cp37-cp37m-linux_x86_64.whl size=85400 sha256=567ebe6096eafe7e52dad756343dbda3869bba4b93e1af59f7264f128d4cf202\n",
            "  Stored in directory: /root/.cache/pip/wheels/3a/03/34/77e3ece0bba8b86bfac88a79f923b36d805cad63caeba38842\n",
            "Successfully built pyahocorasick\n",
            "Installing collected packages: pyahocorasick, sefr-cut\n",
            "Successfully installed pyahocorasick-1.4.2 sefr-cut-1.1\n"
          ],
          "name": "stdout"
        }
      ]
    },
    {
      "cell_type": "code",
      "metadata": {
        "id": "Tv1WNGA3BKiZ"
      },
      "source": [
        "import pandas as pd\n",
        "import pythainlp\n",
        "import sefr_cut\n",
        "import gensim\n",
        "# import pyLDAvis.gensim\n",
        "import pyLDAvis\n",
        "import pyLDAvis.gensim_models as gensimvis\n",
        "pyLDAvis.enable_notebook()\n",
        "import warnings\n",
        "warnings.filterwarnings(\"ignore\", category=DeprecationWarning) "
      ],
      "execution_count": 308,
      "outputs": []
    },
    {
      "cell_type": "code",
      "metadata": {
        "id": "oCxTl04hBmy5"
      },
      "source": [
        "df = pd.read_csv('CustomerReviews2.csv')"
      ],
      "execution_count": 309,
      "outputs": []
    },
    {
      "cell_type": "code",
      "metadata": {
        "id": "7sPfQ6YkNH8c",
        "colab": {
          "base_uri": "https://localhost:8080/",
          "height": 340
        },
        "outputId": "f01b13ce-ee53-4e57-9300-0cdc03ad3244"
      },
      "source": [
        "df.head(5)"
      ],
      "execution_count": 310,
      "outputs": [
        {
          "output_type": "execute_result",
          "data": {
            "text/html": [
              "<div>\n",
              "<style scoped>\n",
              "    .dataframe tbody tr th:only-of-type {\n",
              "        vertical-align: middle;\n",
              "    }\n",
              "\n",
              "    .dataframe tbody tr th {\n",
              "        vertical-align: top;\n",
              "    }\n",
              "\n",
              "    .dataframe thead th {\n",
              "        text-align: right;\n",
              "    }\n",
              "</style>\n",
              "<table border=\"1\" class=\"dataframe\">\n",
              "  <thead>\n",
              "    <tr style=\"text-align: right;\">\n",
              "      <th></th>\n",
              "      <th>Review ID</th>\n",
              "      <th>Restaurant_ID</th>\n",
              "      <th>Restaurant</th>\n",
              "      <th>User</th>\n",
              "      <th>Headline</th>\n",
              "      <th>Review</th>\n",
              "      <th>Rating</th>\n",
              "      <th>สิ่งที่เราคิด</th>\n",
              "    </tr>\n",
              "  </thead>\n",
              "  <tbody>\n",
              "    <tr>\n",
              "      <th>0</th>\n",
              "      <td>1</td>\n",
              "      <td>352696Px-mo-mo-paradise-เดอะมอลล์-บางกะปิ</td>\n",
              "      <td>Mo-Mo-Paradise (โม โม พาราไดซ์) เดอะมอลล์ บางกะปิ</td>\n",
              "      <td>7b16469831074f7abc7824745ee75212</td>\n",
              "      <td>ที่สำคัญของร้านนี้คือบริการดีมากพนักงานน่ารักส...</td>\n",
              "      <td>ที่สำคัญของร้านนี้คือบริการดีมากพนักงานน่ารักส...</td>\n",
              "      <td>5.0</td>\n",
              "      <td>พนักงาน,อาหารหลากหลาย,เนื้อ,น้ำจิ้ม</td>\n",
              "    </tr>\n",
              "    <tr>\n",
              "      <th>1</th>\n",
              "      <td>2</td>\n",
              "      <td>352696Px-mo-mo-paradise-เดอะมอลล์-บางกะปิ</td>\n",
              "      <td>Mo-Mo-Paradise (โม โม พาราไดซ์) เดอะมอลล์ บางกะปิ</td>\n",
              "      <td>pakkaramonpondej</td>\n",
              "      <td>รสชาติเหมือนทุกสาขา แต่สาขานี้ บริการดี ที่นั่งดี</td>\n",
              "      <td>นึกถึงชาบูญี่ปุ่นยังไงก็ต้อง คิดถึงโมโม่ พาราไ...</td>\n",
              "      <td>5.0</td>\n",
              "      <td>คุณภาพ,ชาบู,บริการ,เครื่องดื่ม</td>\n",
              "    </tr>\n",
              "    <tr>\n",
              "      <th>2</th>\n",
              "      <td>3</td>\n",
              "      <td>352696Px-mo-mo-paradise-เดอะมอลล์-บางกะปิ</td>\n",
              "      <td>Mo-Mo-Paradise (โม โม พาราไดซ์) เดอะมอลล์ บางกะปิ</td>\n",
              "      <td>saanowy</td>\n",
              "      <td>ชาบูพรีเมี่ยมสไตล์ญี่ปุ่น เนื้อดีมากกก</td>\n",
              "      <td>มาทานช่วงนี้ สามารถนั่งโต๊ะเดียวกัน หม้อเดียวก...</td>\n",
              "      <td>4.0</td>\n",
              "      <td>โต๊ะ,น้ำจิ้ม,ชาบูน้ำดำ,น้ำซุบเห็ด,เนื้อสัตว์,ช...</td>\n",
              "    </tr>\n",
              "    <tr>\n",
              "      <th>3</th>\n",
              "      <td>4</td>\n",
              "      <td>352696Px-mo-mo-paradise-เดอะมอลล์-บางกะปิ</td>\n",
              "      <td>Mo-Mo-Paradise (โม โม พาราไดซ์) เดอะมอลล์ บางกะปิ</td>\n",
              "      <td>ployynp</td>\n",
              "      <td>เนื้อดี ไอติมดี คุ้มค่าดี</td>\n",
              "      <td>ถ้านึกถึงชาบูที่มีเนื้อเน้นๆ ในราคาไม่โหดจนเกิ...</td>\n",
              "      <td>4.0</td>\n",
              "      <td>ชาบู,ราคา,เนื้อ,โปร,เนื้ออส,ไอศกรีม</td>\n",
              "    </tr>\n",
              "    <tr>\n",
              "      <th>4</th>\n",
              "      <td>5</td>\n",
              "      <td>352696Px-mo-mo-paradise-เดอะมอลล์-บางกะปิ</td>\n",
              "      <td>Mo-Mo-Paradise (โม โม พาราไดซ์) เดอะมอลล์ บางกะปิ</td>\n",
              "      <td>665a902b335b434ab489f00f2fbb477e</td>\n",
              "      <td>อาหารมีคุณภาพ บริการดีค่ะ</td>\n",
              "      <td>เดินมาหน้าร้านแล้วได้กลิ่นชาบูหอมมาก ๆ  ประกอบ...</td>\n",
              "      <td>5.0</td>\n",
              "      <td>ชาบู,โปร,บัตรเครดิต,สาขา,ที่นั่ง,เด็ก,คุณภาพ,ขนม</td>\n",
              "    </tr>\n",
              "  </tbody>\n",
              "</table>\n",
              "</div>"
            ],
            "text/plain": [
              "   Review ID  ...                                      สิ่งที่เราคิด\n",
              "0          1  ...                พนักงาน,อาหารหลากหลาย,เนื้อ,น้ำจิ้ม\n",
              "1          2  ...                     คุณภาพ,ชาบู,บริการ,เครื่องดื่ม\n",
              "2          3  ...  โต๊ะ,น้ำจิ้ม,ชาบูน้ำดำ,น้ำซุบเห็ด,เนื้อสัตว์,ช...\n",
              "3          4  ...                ชาบู,ราคา,เนื้อ,โปร,เนื้ออส,ไอศกรีม\n",
              "4          5  ...   ชาบู,โปร,บัตรเครดิต,สาขา,ที่นั่ง,เด็ก,คุณภาพ,ขนม\n",
              "\n",
              "[5 rows x 8 columns]"
            ]
          },
          "metadata": {
            "tags": []
          },
          "execution_count": 310
        }
      ]
    },
    {
      "cell_type": "markdown",
      "metadata": {
        "id": "9NyF_CbeNX2W"
      },
      "source": [
        "## **Tokenize Words**"
      ]
    },
    {
      "cell_type": "code",
      "metadata": {
        "id": "Dl5ptrJNNa2y",
        "colab": {
          "base_uri": "https://localhost:8080/"
        },
        "outputId": "04c64993-05b1-4b74-b51f-52a48f670960"
      },
      "source": [
        "stopwords = list(pythainlp.corpus.thai_stopwords())\n",
        "removed_words = [' ', '  ', '\\n','\\n\\n', 'ร้าน', '(', ')' , '           ','–', '!', '!!','-','/','+','😆','🤣','\"','','%','\\u200b','::']\n",
        "screening_words = stopwords + removed_words\n",
        "\n",
        "sefr_cut.load_model(engine='ws1000')\n",
        "def tokenize_with_space(sentence):\n",
        "  merged = ''\n",
        "  # words = pythainlp.word_tokenize(str(sentence), engine='newmm')\n",
        "  words = sefr_cut.tokenize(sentence)\n",
        "  for word in words[0]:\n",
        "    if word not in screening_words:\n",
        "      word = word.rstrip(\"\\n\")\n",
        "      word = word.rstrip(\"\\u200b\")\n",
        "      if word is None or word == ' ' or word == '' or word ==':':\n",
        "        continue\n",
        "      else: \n",
        "        merged = merged + ',' + word\n",
        "    elif word is None:\n",
        "      continue\n",
        "  return merged[1:]\n",
        "  \n",
        "  # return words"
      ],
      "execution_count": 311,
      "outputs": [
        {
          "output_type": "stream",
          "text": [
            "loading model.....\n",
            "Success\n"
          ],
          "name": "stdout"
        }
      ]
    },
    {
      "cell_type": "code",
      "metadata": {
        "id": "wJ979qbENdzH"
      },
      "source": [
        "df['Review_tokenized'] = df['Review'].apply(lambda x: tokenize_with_space(x))"
      ],
      "execution_count": 312,
      "outputs": []
    },
    {
      "cell_type": "code",
      "metadata": {
        "colab": {
          "base_uri": "https://localhost:8080/"
        },
        "id": "RwvgeVfZt0qJ",
        "outputId": "538134a1-edb5-44e2-a31c-f8d6c04c8c84"
      },
      "source": [
        "df.info()"
      ],
      "execution_count": 313,
      "outputs": [
        {
          "output_type": "stream",
          "text": [
            "<class 'pandas.core.frame.DataFrame'>\n",
            "RangeIndex: 21 entries, 0 to 20\n",
            "Data columns (total 9 columns):\n",
            " #   Column            Non-Null Count  Dtype  \n",
            "---  ------            --------------  -----  \n",
            " 0   Review ID         21 non-null     int64  \n",
            " 1   Restaurant_ID     21 non-null     object \n",
            " 2   Restaurant        21 non-null     object \n",
            " 3   User              21 non-null     object \n",
            " 4   Headline          21 non-null     object \n",
            " 5   Review            21 non-null     object \n",
            " 6   Rating            20 non-null     float64\n",
            " 7   สิ่งที่เราคิด     19 non-null     object \n",
            " 8   Review_tokenized  21 non-null     object \n",
            "dtypes: float64(1), int64(1), object(7)\n",
            "memory usage: 1.6+ KB\n"
          ],
          "name": "stdout"
        }
      ]
    },
    {
      "cell_type": "code",
      "metadata": {
        "colab": {
          "base_uri": "https://localhost:8080/",
          "height": 35
        },
        "id": "a4scCGi3wNrz",
        "outputId": "180a54b1-5b80-481f-c2ae-359bebd6facb"
      },
      "source": [
        "df['Review_tokenized'].iloc[10]"
      ],
      "execution_count": 314,
      "outputs": [
        {
          "output_type": "execute_result",
          "data": {
            "application/vnd.google.colaboratory.intrinsic+json": {
              "type": "string"
            },
            "text/plain": [
              "'อัพเดทราคา,ชาบูชิ,ตอน,399,บาท,net,ทาน,1.,15,ชม.,น้ำซุป,เลือก,4,รส,ซูชิลาย,ตา,เทมปุระ,ทาน,เพลิน,ดี,ยืน,ทาน,ไลน์,คาว,บุฟเฟ่ต์,กุ้ง,สด,เบ,เนื้อ,สไลด์,หลัก,อิ่ม,คุ้ม'"
            ]
          },
          "metadata": {
            "tags": []
          },
          "execution_count": 314
        }
      ]
    },
    {
      "cell_type": "code",
      "metadata": {
        "id": "725oxXg9OcR5",
        "colab": {
          "base_uri": "https://localhost:8080/",
          "height": 561
        },
        "outputId": "d55464d1-f360-4960-f995-e317d1c8733f"
      },
      "source": [
        "df.tail()"
      ],
      "execution_count": 315,
      "outputs": [
        {
          "output_type": "execute_result",
          "data": {
            "text/html": [
              "<div>\n",
              "<style scoped>\n",
              "    .dataframe tbody tr th:only-of-type {\n",
              "        vertical-align: middle;\n",
              "    }\n",
              "\n",
              "    .dataframe tbody tr th {\n",
              "        vertical-align: top;\n",
              "    }\n",
              "\n",
              "    .dataframe thead th {\n",
              "        text-align: right;\n",
              "    }\n",
              "</style>\n",
              "<table border=\"1\" class=\"dataframe\">\n",
              "  <thead>\n",
              "    <tr style=\"text-align: right;\">\n",
              "      <th></th>\n",
              "      <th>Review ID</th>\n",
              "      <th>Restaurant_ID</th>\n",
              "      <th>Restaurant</th>\n",
              "      <th>User</th>\n",
              "      <th>Headline</th>\n",
              "      <th>Review</th>\n",
              "      <th>Rating</th>\n",
              "      <th>สิ่งที่เราคิด</th>\n",
              "      <th>Review_tokenized</th>\n",
              "    </tr>\n",
              "  </thead>\n",
              "  <tbody>\n",
              "    <tr>\n",
              "      <th>16</th>\n",
              "      <td>17</td>\n",
              "      <td>436045MJ-ข้าน้อยขอชาบู</td>\n",
              "      <td>ข้าน้อยขอชาบู</td>\n",
              "      <td>ployynp</td>\n",
              "      <td>บุฟเฟ่ต์ชาบูและพิซซ่าไม่อั้นในราคา 199 บาท เน้...</td>\n",
              "      <td>หลังจากที่เคยลองสาขายูเนี่ยนมอลล์ไป รอบนี้มาที...</td>\n",
              "      <td>4.0</td>\n",
              "      <td>สาขา,ยูเนี่ยนมอลล์,เดอะมอลล์บางกะปิ,ค่ายมวย,พิ...</td>\n",
              "      <td>ลอง,สาขา,ยู,เนี่ยน,มอลล์,รอบ,สาขา,เดอะมอลล์,บา...</td>\n",
              "    </tr>\n",
              "    <tr>\n",
              "      <th>17</th>\n",
              "      <td>18</td>\n",
              "      <td>436045MJ-ข้าน้อยขอชาบู</td>\n",
              "      <td>ข้าน้อยขอชาบู</td>\n",
              "      <td>27a91236fe5e4559a4f097c97a480781</td>\n",
              "      <td>ร้านบุฟเฟ่ต์ ราคามิตรภาพ อยู่ชั้น4 ติดโรงหนัง ...</td>\n",
              "      <td>ร้านบุฟเฟ่ต์ที่มีโปรโมชั่นหัวละ199บาท ไม่รวมน้...</td>\n",
              "      <td>4.0</td>\n",
              "      <td>บุฟเฟต์,โปรโมชัน,น้ำ,VAT,วันธรรมดา,ชอบ,เวลา,น้...</td>\n",
              "      <td>บุฟเฟ่ต์,โปรโมชั่น,หัว,199,บาท,น้ำ,รวมVAT,ทาน,...</td>\n",
              "    </tr>\n",
              "    <tr>\n",
              "      <th>18</th>\n",
              "      <td>19</td>\n",
              "      <td>436045MJ-ข้าน้อยขอชาบู</td>\n",
              "      <td>ข้าน้อยขอชาบู</td>\n",
              "      <td>0b81d251e4db486f9bcdba73b374ed99</td>\n",
              "      <td>ของหลากหลาย ปนๆ งงๆ นิดหน่อย</td>\n",
              "      <td>เคยรู้จักร้านนี้จากที่ union mall ไม่เคยได้ลอง...</td>\n",
              "      <td>3.0</td>\n",
              "      <td>union mall,ชาบู,ไม่เคยได้ลองกิน,พิซซ่า,สปาเก็ต...</td>\n",
              "      <td>รู้จัก,union,mall,ลอง,กิน,ขึ้นใจ,ชื่อ,ชื่อ,อยู...</td>\n",
              "    </tr>\n",
              "    <tr>\n",
              "      <th>19</th>\n",
              "      <td>20</td>\n",
              "      <td>436045MJ-ข้าน้อยขอชาบู</td>\n",
              "      <td>ข้าน้อยขอชาบู</td>\n",
              "      <td>40e0e087f3914fd49a8933b5a29936ca</td>\n",
              "      <td>อร่อยมากค่ะ คุ้มค่าสมราคา บุฟเฟ่หมูผักต่างๆ รว...</td>\n",
              "      <td>อร่อยมากค่ะ คุ้มค่าสมราคา บุฟเฟ่หมูผักต่างๆ รว...</td>\n",
              "      <td>5.0</td>\n",
              "      <td>NaN</td>\n",
              "      <td>อร่อย,คุ้ม,ค่า,สมราคา,บุฟเฟ่,หมู,ผัก,น้ำ,จบ,25...</td>\n",
              "    </tr>\n",
              "    <tr>\n",
              "      <th>20</th>\n",
              "      <td>21</td>\n",
              "      <td>436045MJ-ข้าน้อยขอชาบู</td>\n",
              "      <td>ข้าน้อยขอชาบู</td>\n",
              "      <td>41841cb99ea243a3a8d4b006e946c586</td>\n",
              "      <td>แม้จะแปลกบ้าง แต่ก็ถือว่าอยู่ในเกณฑ์ที่ดี มีอา...</td>\n",
              "      <td>ก็ตามที่เขียนเลยครับ ว่า ถ้าจะจ่ายในราคา 199 บ...</td>\n",
              "      <td>NaN</td>\n",
              "      <td>NaN</td>\n",
              "      <td>จ่าย,ราคา,199,บาท,จ่าย,เงิน,สด,ราคา,น้ำ,VAT 7,...</td>\n",
              "    </tr>\n",
              "  </tbody>\n",
              "</table>\n",
              "</div>"
            ],
            "text/plain": [
              "    Review ID  ...                                   Review_tokenized\n",
              "16         17  ...  ลอง,สาขา,ยู,เนี่ยน,มอลล์,รอบ,สาขา,เดอะมอลล์,บา...\n",
              "17         18  ...  บุฟเฟ่ต์,โปรโมชั่น,หัว,199,บาท,น้ำ,รวมVAT,ทาน,...\n",
              "18         19  ...  รู้จัก,union,mall,ลอง,กิน,ขึ้นใจ,ชื่อ,ชื่อ,อยู...\n",
              "19         20  ...  อร่อย,คุ้ม,ค่า,สมราคา,บุฟเฟ่,หมู,ผัก,น้ำ,จบ,25...\n",
              "20         21  ...  จ่าย,ราคา,199,บาท,จ่าย,เงิน,สด,ราคา,น้ำ,VAT 7,...\n",
              "\n",
              "[5 rows x 9 columns]"
            ]
          },
          "metadata": {
            "tags": []
          },
          "execution_count": 315
        }
      ]
    },
    {
      "cell_type": "markdown",
      "metadata": {
        "id": "26a47MzoPh7p"
      },
      "source": [
        "## **Create Dictionary**"
      ]
    },
    {
      "cell_type": "code",
      "metadata": {
        "id": "U06F7vYCPdgX"
      },
      "source": [
        "# documents = df['Review_tokenized'].to_list()\n",
        "documents = df['Review_tokenized']\n",
        "texts = [[text for text in doc.split(',')] for doc in documents]\n",
        "dictionary = gensim.corpora.Dictionary(texts)"
      ],
      "execution_count": 316,
      "outputs": []
    },
    {
      "cell_type": "code",
      "metadata": {
        "id": "vo1LdutKP3vR",
        "colab": {
          "base_uri": "https://localhost:8080/"
        },
        "outputId": "4c380d4f-678c-46db-fa81-25e6ba4208c8"
      },
      "source": [
        "print(dictionary.token2id.keys())"
      ],
      "execution_count": 317,
      "outputs": [
        {
          "output_type": "stream",
          "text": [
            "dict_keys(['1', '4', '560', 'กิน', 'ก็รสชาติ', 'คอ', 'คุณภาพ', 'คุ้ม', 'จำกัด', 'จิ้ม', 'ซุป', 'ดี', 'ติม', 'ต้องการ', 'ถาด', 'ถาม', 'น้ำ', 'บริการ', 'บริการรสชาติ', 'บาท', 'ประทับใจ', 'พนักงาน', 'รสชาติ', 'รัก', 'ราคา', 'ร่อย', 'ละกัน', 'สรุป', 'สะอาด', 'สะอ้าน', 'สัน', 'อร่อย', 'อาหาร', 'เคลม', 'เจี้ยว', 'เซ็ท', 'เต้า', 'เนื้อ', 'เป็ด', 'เผ็ด', 'แปลก', 'แฟน', 'โมจิอ', 'ใจ', 'ใส่', 'ไอ', '\\u200b ', '\\u200bกับ', '\\u200bดำ', '\\u200bดี', '\\u200bพอ', '\\u200bภาพ', '\\u200bหลากหลาย', '\\u200bแต่', '\\u200bใหม่', '\\u200bไม่', '21', '30', '9', 'CTW', 'Terminal', 'การงดรับ', 'งาน', 'ชาบู', 'ญี่ปุ่น', 'ฐาน', 'ดื่ม', 'ทะยอย', 'ทาน', 'ทำ', 'นาที', 'นึก', 'พระราม', 'พรีเมียม', 'พาราไดซ์', 'มาตรา', 'รายละเอียด', 'ลูกค้า', 'สาขา', 'สู้', 'ออร์เดอร์', 'เครื่อง', 'เค้า', 'เจอ', 'เหวี่ยง', 'แจ้ง', 'โม', 'โม่', 'โอกาส', 'โอเค', '', '2', '555', '600+', 'กก', 'กรุบ', 'กั้น', 'คน', 'คาว', 'คุโรบู', 'ค่ะ', 'ค่า', 'จาน', 'จืด', 'ฉาก', 'ชอบ', 'ชา', 'ชาบูน้ำดำ', 'ชิ้น', 'ชื่อ', 'ซอยซอส', 'ตก', 'ตะ', 'ตัก', 'ตัว', 'ถั่ว', 'ถ่าย', 'นั่ง', 'นุ่ม', 'นุ่มลิ้น', 'น้ำจิ้ม', 'บด', 'บาร์ผัก', 'ฟูกุ', 'ภาษา', 'มาก', 'รส', 'รูป', 'รู้สึก', 'ลอง', 'ลืม', 'วัว', 'สด', 'สตอเบอรี่', 'สัตว์', 'สั่ง', 'สามรส', 'หนึบ', 'หมู', 'หม้อ', 'หวาน', 'อย่าง', 'เขียว', 'เข้มข้น', 'เค็ม', 'เลือก', 'เสิร์ฟ', 'เหนียว', 'เห็ด', 'แดง', 'แตกต่าง', 'แตา', 'แนว', 'แย้ววว', 'แล้ว', 'โควิด', 'โต๊ะ', 'ใส', 'ไก่', 'ไข่', 'ได', 'ไผ่', 'ไม้', 'ไหว', '3', 'ข้าว', 'จ่าย', 'ถ้วย', 'ธรรมดา', 'นะ', 'รสชาเขียว', 'ออส', 'เลี่ยน', 'โปรมา', 'โหด', 'ไว', 'ไอศกรีม', 'กลิ่น', 'ขนม', 'ตัดสิน', 'ผัก', 'ลูก', 'สบายดี', 'หน้า', 'หลากหลาย', 'หอม', 'เครดิต', 'เดิน', 'เด็ก', 'เนื้อต่าง', 'เส้น', 'เหมือน', 'แคบ', 'โปรบัตร', 'คะ', 'บุฟเฟ่', 'บ๋วยอร่อย', 'พอนซึ', 'สาย', 'หยิบ', 'โซน', 'โปรโมชั่น', ')', '20', '4.0/', '5', '600', 'Menu ', 'Number', 'กรรมวิธี', 'กะปิ', 'คะแนน', 'ชนิด', 'ชุด', 'บุฟเฟ่ต์', 'ประยุคก์', 'พาราไดส์', 'สุกี้', 'สุกี้ชาบูน้ำดำ', 'สไตล์', 'เดอะมอล', 'เดิม', 'เมนู', 'แบบฉบับ', 'แบ่ง', 'โมโม', 'โมโมฯ', 'ไทย', '500', 'กาแฟ', 'กี้', 'ครีม', 'ชาบูเฟรนไชส์รสชาติ', 'ตอน', 'ตำครับ', 'ติด', 'ทั่วไป', 'บ๊วย', 'ปกติ', 'ร้อน', 'ลุย', 'สุกี้ยา', 'ส่งน', 'อยู่แล้ว', 'ออสเตรเลีย', 'เริ่มงวด', 'เรื่อง', 'เหมาะสม', 'แนะนำ', 'โชยุหวาน', 'ไอศ', ' าน', '..', '399', 'กุ้ง', 'ขา', 'งั้น', 'ซูชิ', 'ซ่า', 'ตา', 'นิดนึง', 'บูชิ', 'ปู', 'ละลาน', 'สายพาน', 'หิว', 'อัด', 'ฮ่า', 'เกี๊ยว', 'เทมปุระ', 'เทียบ', 'เล่น', 'แพง', 'กลาย', 'กี่', 'ชั่วคราว', 'ชาบูชิ', 'ชื่นใจ', 'ญี่ปุน', 'ดึก', 'ตบ', 'ทอด', 'ท้าย', 'น้ะ', 'ปลา', 'ปุระ', 'สมใจ', 'หลัก', 'หวัง', 'อย่า', 'เติม', 'เทม', 'เย็น', 'เสริม', '1.', '15', 'net', 'ชม.', 'ซูชิลาย', 'น้ำซุป', 'ยืน', 'สไลด์', 'อัพเดทราคา', 'อิ่ม', 'เบ', 'เพลิน', 'ไลน์', ' Net/คน', '359', 'G', 'Shabushi', 'กด', 'กรอบ', 'กรีม', 'กุ้งเทมปุระ', 'ข่าว', 'ครึ่ง', 'คิว', 'จุ', 'ชั่วโมง', 'ชั้น', 'ชื่น', 'ดิบ', 'ดู', 'ตักไอ', 'ตับ', 'ตั้งใจ', 'ติง', 'ติมวานิลา', 'ถนน', 'ทิ้ง', 'นิด', 'นี้', 'นุ่มดี', 'น้ำฝรั่ง', 'น้ำมัน', 'บิล', 'ปอก', 'ฝั่ง', 'มื้อ', 'รอ', 'ระดับ', 'รายการ', 'ลด', 'ลา', 'วาง', 'วานิลา', 'สาร', 'สาเหตุ', 'สำหรับ', 'สไปรท์', 'หนา', 'หยุด', 'หอยตลับ', 'หา', 'หาย', 'ห่าง', 'ห้าง', 'อม', 'อาทิตย์', 'เช็ค', 'เดอะมอลล์', 'เด่น', 'เด้ง', 'เนื่อง', 'เบคอน', 'เปรี้ยว', 'เปลือก', 'เพื่อน', 'เลิก', 'เวลา', 'เสาร์', 'แก้ว', 'แถม', 'แน่น', 'แป้ง', 'แย่', 'แออัด', 'โดน', 'โฟลต', 'โอเด้ง', 'ได้ยิน', 'ไหร่', ':15', 'ชอคโกแลต', 'นัด', 'พอสมควร', 'มะนาว', 'วนิลา ', 'สตอเบอร์รี่', 'หมุสไลด์', 'หลากรส', 'อยุ่', 'ฯ', 'เดอะแกงค์', 'เอย', 'ใหม่', 'ขยัน', 'จอง', 'ชูชิ', 'บางกะปิ', 'บุฟเฟต์', 'ประตูปทาง', 'พลาด', 'พาน', 'พี่', 'รอบ', 'ร้อย', 'สาม', 'สุดท้าย', 'หล่ะ', 'อารามณ์', 'เต็ม', 'โชค', 'โอเคนะ', 'ข้อ', 'ทั่วถึง', 'นํ้า', 'บุฟเฟขวัญใจ', 'มี่', 'ระบบ', 'รีวิว', 'สวัสดี', 'เก้บ', '^^', 'xx', 'กลยุทธ์', 'ขนาด', 'ข้น', 'คณะ', 'ชอป', 'ซุ้ม', 'ดำ', 'ด้วย', 'ตรงข้าม', 'ต้ม', 'ต้มยำ', 'ท่าน', 'บริเวณ', 'บัตร', 'ประตู', 'ปรับปรุง', 'ปั้น', 'ยอด', 'ยาวหน้า', 'ลาน', 'สมาชิก', 'สลัด', 'หมู่', 'อิอิ', 'เครือโออิชิลด', 'เคลื่อน', 'เคาน์เตอร์', 'เบา', 'เลย', 'แมคโดนัล', 'โชคชะตา', 'โน้น', ' HALL', ' ธรรมดา', '199', '39', '40', '49', 'MCC', 'คุ้มดี', 'ค่าย', 'นาราย', 'พิซซ่า', 'พิซเซอเรีย', 'มวย', 'มอลล์', 'ยู', 'รีฟีล', 'เขียวหวาน', 'เนี่ยน', 'แกง', 'แน่นอน', 'แวะ', '10', '300', '6', 'กำเงิน', 'ช่อง', 'ซี', 'ทอน', 'นารายพิซเซอเรีย', 'น้ำซึป', 'ประกัน', 'ฟู้ด', 'รวมVAT', 'ลอตเตอรี่', 'สัปดาห์', 'หวย', 'หัว', 'อันนึง', 'แลกฮัน', 'โทสฟรี', 'Narai pizzeria', 'mall', 'pizza', 'union', 'ขึ้นใจ', 'ตัด', 'ตู้', 'นิวออลีน', 'ปรุง', 'รู้จัก', 'สปาเกตตี้', 'สั่งเอา', 'สุก', '128', '255', '29', 'กาไก่', 'จบ', 'จุก', 'บราว', 'พิซซ่าบุพเฟ่', 'รสชาต', 'วิปครีม', 'สมราคา', 'สวย', 'อร่อยยมาก', 'เซตไอ', 'เด็ด', 'เรย', 'เริส', 'เเบบ', 'เเป้ง', 'VAT 7', 'ทดแทน', 'ปรกติ', 'เงิน', 'เนื้อวัว', 'เป็นต้น'])\n"
          ],
          "name": "stdout"
        }
      ]
    },
    {
      "cell_type": "code",
      "metadata": {
        "id": "VP1X-3ntQGKt"
      },
      "source": [
        "gensim_corpus = [dictionary.doc2bow(text, allow_update=True) for text in texts]\n",
        "word_frequencies = [[(dictionary[id], frequence) for id, frequence in couple] for couple in gensim_corpus]"
      ],
      "execution_count": 318,
      "outputs": []
    },
    {
      "cell_type": "markdown",
      "metadata": {
        "id": "DXgYt5g-0Zcd"
      },
      "source": [
        "## **Topic Modeling**"
      ]
    },
    {
      "cell_type": "code",
      "metadata": {
        "id": "kaDtxDpuQZon",
        "colab": {
          "base_uri": "https://localhost:8080/"
        },
        "outputId": "fd0455e3-f7cf-4d8b-b66a-5f0776a5a6e7"
      },
      "source": [
        "num_topics = 5\n",
        "chunksize = 4000 # size of the doc looked at every pass\n",
        "passes = 20 # number of passes through documents\n",
        "iterations = 100\n",
        "eval_every = 1  # Don't evaluate model perplexity, takes too much time.\n",
        "\n",
        "# Make a index to word dictionary.\n",
        "temp = dictionary[0]  # This is only to \"load\" the dictionary.\n",
        "id2word = dictionary.id2token\n",
        "\n",
        "%time model = gensim.models.LdaModel(corpus=gensim_corpus, id2word=id2word, chunksize=chunksize, \\\n",
        "                       alpha='auto', eta='auto', \\\n",
        "                       iterations=iterations, num_topics=num_topics, \\\n",
        "                       passes=passes, eval_every=eval_every)"
      ],
      "execution_count": 528,
      "outputs": [
        {
          "output_type": "stream",
          "text": [
            "CPU times: user 395 ms, sys: 1.49 ms, total: 397 ms\n",
            "Wall time: 397 ms\n"
          ],
          "name": "stdout"
        }
      ]
    },
    {
      "cell_type": "code",
      "metadata": {
        "id": "bdrm8raPROPN",
        "colab": {
          "base_uri": "https://localhost:8080/",
          "height": 861
        },
        "outputId": "c39ba2e1-c760-4e38-e781-c8800cbbc480"
      },
      "source": [
        "# pyLDAvis.gensim.prepare(model, gensim_corpus, dictionary)\n",
        "gensimvis.prepare(model, gensim_corpus, dictionary)"
      ],
      "execution_count": 529,
      "outputs": [
        {
          "output_type": "execute_result",
          "data": {
            "text/html": [
              "\n",
              "<link rel=\"stylesheet\" type=\"text/css\" href=\"https://cdn.jsdelivr.net/gh/bmabey/pyLDAvis@3.3.1/pyLDAvis/js/ldavis.v1.0.0.css\">\n",
              "\n",
              "\n",
              "<div id=\"ldavis_el247140153208877392403873900\"></div>\n",
              "<script type=\"text/javascript\">\n",
              "\n",
              "var ldavis_el247140153208877392403873900_data = {\"mdsDat\": {\"x\": [0.052827053826046515, -0.04379117277864749, 0.004425596240516116, -0.013396022619381734, -6.5454668533362e-05], \"y\": [-0.019655081743490937, -0.03176862931768387, 0.01742746432689232, 0.03208919404600371, 0.001907052688278788], \"topics\": [1, 2, 3, 4, 5], \"cluster\": [1, 1, 1, 1, 1], \"Freq\": [44.15717298602881, 22.70089601448284, 13.218764240577515, 12.519259386766882, 7.403907372143954]}, \"tinfo\": {\"Term\": [\"\\u0e17\\u0e32\\u0e19\", \"\\u0e14\\u0e35\", \"\\u0e40\\u0e25\\u0e37\\u0e2d\\u0e01\", \"\\u0e2d\\u0e32\\u0e2b\\u0e32\\u0e23\", \"\\u0e40\\u0e19\\u0e37\\u0e49\\u0e2d\", \"\", \"\\u0e2d\\u0e23\\u0e48\\u0e2d\\u0e22\", \"\\u0e2a\\u0e32\\u0e02\\u0e32\", \"\\u0e04\\u0e48\\u0e32\", \"\\u0e23\\u0e32\\u0e04\\u0e32\", \"\\u0e2b\\u0e27\\u0e32\\u0e19\", \"\\u0e0a\\u0e32\\u0e1a\\u0e39\", \"\\u0e2b\\u0e21\\u0e49\\u0e2d\", \"\\u0e19\\u0e49\\u0e33\", \"\\u0e01\\u0e38\\u0e49\\u0e07\", \"\\u0e04\\u0e38\\u0e49\\u0e21\", \"\\u0e1a\\u0e23\\u0e34\\u0e01\\u0e32\\u0e23\", \"\\u0e2a\\u0e31\\u0e48\\u0e07\", \"\\u0e2b\\u0e19\\u0e49\\u0e32\", \"3\", \"\\u0e15\\u0e34\\u0e21\", \"\\u0e1a\\u0e32\\u0e17\", \"\\u0e2a\\u0e32\\u0e22\", \"\\u0e0a\\u0e2d\\u0e1a\", \"\\u0e19\\u0e36\\u0e01\", \"\\u0e04\\u0e38\\u0e13\\u0e20\\u0e32\\u0e1e\", \"\\u0e2b\\u0e49\\u0e32\\u0e07\", \"\\u0e25\\u0e2d\\u0e07\", \"\\u0e0a\\u0e32\\u0e1a\\u0e39\\u0e0a\\u0e34\", \"\\u0e1e\\u0e32\\u0e19\", \"\\u0e41\\u0e19\\u0e30\\u0e19\\u0e33\", \"\\u200b \", \"\\u0e2a\\u0e33\\u0e2b\\u0e23\\u0e31\\u0e1a\", \"\\u0e15\\u0e34\\u0e14\", \"\\u0e2b\\u0e27\\u0e22\", \"\\u0e0a\\u0e31\\u0e48\\u0e27\\u0e42\\u0e21\\u0e07\", \"\\u0e41\\u0e1e\\u0e07\", \"\\u0e40\\u0e15\\u0e47\\u0e21\", \"\\u0e1b\\u0e23\\u0e30\\u0e17\\u0e31\\u0e1a\\u0e43\\u0e08\", \"\\u0e1a\\u0e38\\u0e1f\\u0e40\\u0e1f\\u0e15\\u0e4c\", \"\\u0e41\\u0e19\\u0e48\\u0e19\\u0e2d\\u0e19\", \"\\u0e01\\u0e47\\u0e23\\u0e2a\\u0e0a\\u0e32\\u0e15\\u0e34\", \"\\u0e2b\\u0e34\\u0e27\", \"\\u0e2a\\u0e31\\u0e19\", \"\\u0e1a\\u0e32\\u0e07\\u0e01\\u0e30\\u0e1b\\u0e34\", \"\\u0e23\\u0e2d\\u0e1a\", \"\\u0e40\\u0e17\\u0e35\\u0e22\\u0e1a\", \"\\u0e19\\u0e34\\u0e14\\u0e19\\u0e36\\u0e07\", \"\\u0e2a\\u0e30\\u0e2d\\u0e32\\u0e14\", \"\\u0e2a\\u0e32\\u0e22\\u0e1e\\u0e32\\u0e19\", \"\\u0e43\\u0e2a\\u0e48\", \"\\u0e40\\u0e25\\u0e34\\u0e01\", \"Shabushi\", \"\\u0e04\\u0e23\\u0e36\\u0e48\\u0e07\", \"\\u0e40\\u0e23\\u0e37\\u0e48\\u0e2d\\u0e07\", \"\\u0e44\\u0e2d\\u0e28\", \"\\u0e01\\u0e34\\u0e19\", \"\\u0e1a\\u0e34\\u0e25\", \"\\u0e0a\\u0e37\\u0e48\\u0e19\", \"\\u0e40\\u0e0a\\u0e47\\u0e04\", \"\\u0e40\\u0e27\\u0e25\\u0e32\", \"\\u0e23\\u0e2d\", \"\\u0e04\\u0e19\", \"1\", \"\\u0e04\\u0e34\\u0e27\", \"\\u0e1a\\u0e32\\u0e17\", \"\\u0e43\\u0e08\", \"\\u0e14\\u0e35\", \"\\u0e01\\u0e38\\u0e49\\u0e07\", \"\\u0e15\\u0e2d\\u0e19\", \"\\u0e0b\\u0e38\\u0e1b\", \"\\u0e2d\\u0e32\\u0e2b\\u0e32\\u0e23\", \"\\u0e19\\u0e49\\u0e33\", \"\\u0e2a\\u0e14\", \"\\u0e1a\\u0e38\\u0e1f\\u0e40\\u0e1f\\u0e48\\u0e15\\u0e4c\", \"\\u0e23\\u0e32\\u0e04\\u0e32\", \"\\u0e40\\u0e14\\u0e2d\\u0e30\\u0e21\\u0e2d\\u0e25\\u0e25\\u0e4c\", \"\\u0e2a\\u0e32\\u0e02\\u0e32\", \"\\u0e15\\u0e31\\u0e27\", \"\\u0e14\\u0e39\", \"\\u0e18\\u0e23\\u0e23\\u0e21\\u0e14\\u0e32\", \"\\u0e0a\\u0e31\\u0e49\\u0e19\", \"\\u0e40\\u0e19\\u0e37\\u0e49\\u0e2d\", \"\\u0e17\\u0e32\\u0e19\", \"\\u0e23\\u0e2a\\u0e0a\\u0e32\\u0e15\\u0e34\", \"\\u0e04\\u0e38\\u0e49\\u0e21\", \"\\u0e2b\\u0e27\\u0e32\\u0e19\", \"\\u0e40\\u0e25\\u0e37\\u0e2d\\u0e01\", \"\\u0e2d\\u0e23\\u0e48\\u0e2d\\u0e22\", \"\\u0e04\\u0e48\\u0e30\", \"\\u0e2b\\u0e21\\u0e39\", \"\", \"\\u0e27\\u0e31\\u0e27\", \"\\u0e40\\u0e2b\\u0e47\\u0e14\", \"\\u0e0a\\u0e37\\u0e48\\u0e2d\", \"\\u0e44\\u0e21\\u0e49\", \"\\u0e44\\u0e1c\\u0e48\", \"\\u0e1f\\u0e39\\u0e01\\u0e38\", \"\\u0e19\\u0e49\\u0e33\\u0e08\\u0e34\\u0e49\\u0e21\", \"\\u0e44\\u0e14\", \"\\u0e19\\u0e4d\\u0e49\\u0e32\", \"\\u0e25\\u0e2d\\u0e07\", \"\\u0e17\\u0e14\\u0e41\\u0e17\\u0e19\", \"\\u0e40\\u0e1b\\u0e47\\u0e19\\u0e15\\u0e49\\u0e19\", \"VAT 7\", \"\\u0e1b\\u0e23\\u0e01\\u0e15\\u0e34\", \"\\u0e04\\u0e30\", \"\\u0e40\\u0e19\\u0e37\\u0e49\\u0e2d\\u0e27\\u0e31\\u0e27\", \"\\u0e1a\\u0e4b\\u0e27\\u0e22\\u0e2d\\u0e23\\u0e48\\u0e2d\\u0e22\", \"\\u0e40\\u0e07\\u0e34\\u0e19\", \"\\u0e2d\\u0e22\\u0e48\\u0e32\\u0e07\", \"\\u0e09\\u0e32\\u0e01\", \"\\u0e16\\u0e31\\u0e48\\u0e27\", \"\\u0e2a\\u0e32\\u0e21\\u0e23\\u0e2a\", \"\\u0e01\\u0e23\\u0e38\\u0e1a\", \"\\u0e15\\u0e01\", \"\\u0e15\\u0e30\", \"\\u0e40\\u0e2b\\u0e19\\u0e35\\u0e22\\u0e27\", \"\\u0e16\\u0e48\\u0e32\\u0e22\", \"\\u0e44\\u0e2b\\u0e27\", \"\\u0e0b\\u0e2d\\u0e22\\u0e0b\\u0e2d\\u0e2a\", \"\\u0e44\\u0e01\\u0e48\", \"\\u0e0a\\u0e32\\u0e1a\\u0e39\\u0e19\\u0e49\\u0e33\\u0e14\\u0e33\", \"\\u0e2a\\u0e31\\u0e48\\u0e07\", \"\\u0e40\\u0e19\\u0e37\\u0e49\\u0e2d\", \"\\u0e2d\\u0e23\\u0e48\\u0e2d\\u0e22\", \"\\u0e41\\u0e19\\u0e27\", \"\\u0e42\\u0e15\\u0e4a\\u0e30\", \"555\", \"\\u0e2b\\u0e22\\u0e34\\u0e1a\", \"\\u0e40\\u0e25\\u0e37\\u0e2d\\u0e01\", \"\\u0e0b\\u0e38\\u0e1b\", \"\\u0e19\\u0e49\\u0e33\", \"\\u0e0a\\u0e2d\\u0e1a\", \"\\u0e44\\u0e2d\", \"\\u0e2b\\u0e27\\u0e32\\u0e19\", \"\\u0e17\\u0e32\\u0e19\", \"\\u0e15\\u0e34\\u0e21\", \"\\u0e40\\u0e1b\\u0e47\\u0e14\", \"\\u0e40\\u0e2a\\u0e34\\u0e23\\u0e4c\\u0e1f\", \"\\u0e23\\u0e32\\u0e04\\u0e32\", \"\\u0e04\\u0e38\\u0e49\\u0e21\", \"2\", \"\\u0e08\\u0e34\\u0e49\\u0e21\", \"\\u0e2a\\u0e14\", \"\\u0e14\\u0e35\", \"\\u0e2d\\u0e32\\u0e2b\\u0e32\\u0e23\", \"\\u0e2b\\u0e21\\u0e39\", \"\\u0e1e\\u0e19\\u0e31\\u0e01\\u0e07\\u0e32\\u0e19\", \"\\u0e23\\u0e2a\\u0e0a\\u0e32\\u0e15\\u0e34\", \"\\u0e04\\u0e48\\u0e30\", \"\\u0e01\\u0e34\\u0e19\", \"\\u0e04\\u0e19\", \"\\u0e0a\\u0e32\\u0e1a\\u0e39\", \"\\u0e2b\\u0e25\\u0e31\\u0e01\", \"\\u0e1b\\u0e38\\u0e23\\u0e30\", \"\\u0e40\\u0e17\\u0e21\", \"net\", \"\\u0e0b\\u0e39\\u0e0a\\u0e34\\u0e25\\u0e32\\u0e22\", \"\\u0e2d\\u0e31\\u0e1e\\u0e40\\u0e14\\u0e17\\u0e23\\u0e32\\u0e04\\u0e32\", \"\\u0e22\\u0e37\\u0e19\", \"1.\", \"\\u0e0a\\u0e31\\u0e48\\u0e27\\u0e04\\u0e23\\u0e32\\u0e27\", \"\\u0e19\\u0e49\\u0e30\", \"\\u0e40\\u0e2a\\u0e23\\u0e34\\u0e21\", \"\\u0e40\\u0e22\\u0e47\\u0e19\", \"\\u0e2a\\u0e21\\u0e43\\u0e08\", \"\\u0e01\\u0e25\\u0e32\\u0e22\", \"\\u0e0d\\u0e35\\u0e48\\u0e1b\\u0e38\\u0e19\", \"\\u0e0a\\u0e37\\u0e48\\u0e19\\u0e43\\u0e08\", \"\\u0e40\\u0e14\\u0e2d\\u0e30\\u0e21\\u0e2d\\u0e25\", \"\\u0e14\\u0e36\\u0e01\", \"\\u0e01\\u0e35\\u0e48\", \"\\u0e2b\\u0e25\\u0e32\\u0e01\\u0e23\\u0e2a\", \"\\u0e2a\\u0e44\\u0e15\\u0e25\\u0e4c\", \"Number\", \"\\u0e2b\\u0e21\\u0e38\\u0e2a\\u0e44\\u0e25\\u0e14\\u0e4c\", \"\\u0e42\\u0e21\\u0e42\\u0e21\\u0e2f\", \"\\u0e40\\u0e14\\u0e2d\\u0e30\\u0e41\\u0e01\\u0e07\\u0e04\\u0e4c\", \"\\u0e0a\\u0e19\\u0e34\\u0e14\", \"\\u0e19\\u0e31\\u0e14\", \"\\u0e1e\\u0e2d\\u0e2a\\u0e21\\u0e04\\u0e27\\u0e23\", \"600\", \"\\u0e2a\\u0e38\\u0e01\\u0e35\\u0e49\", \"\\u0e40\\u0e17\\u0e21\\u0e1b\\u0e38\\u0e23\\u0e30\", \"\\u0e17\\u0e32\\u0e19\", \"\\u0e01\\u0e38\\u0e49\\u0e07\", \"\\u0e2d\\u0e32\\u0e2b\\u0e32\\u0e23\", \"\\u0e0a\\u0e21.\", \"\\u0e40\\u0e25\\u0e37\\u0e2d\\u0e01\", \"\\u0e1a\\u0e38\\u0e1f\\u0e40\\u0e1f\\u0e48\\u0e15\\u0e4c\", \"\\u0e23\\u0e2a\\u0e0a\\u0e32\\u0e15\\u0e34\", \"\\u0e0a\\u0e32\\u0e1a\\u0e39\\u0e0a\\u0e34\", \"\\u0e19\\u0e49\\u0e33\", \"\\u0e17\\u0e2d\\u0e14\", \"\\u0e1a\\u0e32\\u0e17\", \"\\u0e14\\u0e35\", \"\\u0e40\\u0e19\\u0e37\\u0e49\\u0e2d\", \"\\u0e40\\u0e21\\u0e19\\u0e39\", \"\\u0e23\\u0e32\\u0e04\\u0e32\", \"\\u0e04\\u0e38\\u0e49\\u0e21\", \"\\u0e08\\u0e34\\u0e49\\u0e21\", \"\\u0e0b\\u0e39\\u0e0a\\u0e34\", \"\\u0e2a\\u0e14\", \"\\u0e2d\\u0e23\\u0e48\\u0e2d\\u0e22\", \"\\u0e04\\u0e19\", \"\\u0e2a\\u0e32\\u0e02\\u0e32\", \"\\u0e15\\u0e34\\u0e21\", \"\\u0e0a\\u0e32\\u0e1a\\u0e39\", \"\\u0e0a\\u0e2d\\u0e1a\", \"\\u0e15\\u0e31\\u0e27\", \"\\u0e2b\\u0e21\\u0e39\", \"\\u0e2b\\u0e27\\u0e32\\u0e19\", \"\\u0e01\\u0e34\\u0e19\", \"\\u0e1c\\u0e31\\u0e01\", \"CTW\", \"\\u0e42\\u0e21\\u0e48\", \"\\u0e42\\u0e21\", \"\\u0e2a\\u0e1a\\u0e32\\u0e22\\u0e14\\u0e35\", \"\\u0e44\\u0e27\", \"\\u0e40\\u0e2a\\u0e49\\u0e19\", \"\\u0e41\\u0e04\\u0e1a\", \"\\u0e40\\u0e04\\u0e23\\u0e14\\u0e34\\u0e15\", \"\\u0e40\\u0e19\\u0e37\\u0e49\\u0e2d\\u0e15\\u0e48\\u0e32\\u0e07\", \"\\u0e40\\u0e14\\u0e47\\u0e01\", \"\\u0e42\\u0e1b\\u0e23\\u0e1a\\u0e31\\u0e15\\u0e23\", \"\\u0e02\\u0e19\\u0e21\", \"\\u0e01\\u0e25\\u0e34\\u0e48\\u0e19\", \"\\u0e42\\u0e2b\\u0e14\", \"\\u0e42\\u0e1b\\u0e23\\u0e21\\u0e32\", \"\\u0e15\\u0e31\\u0e14\\u0e2a\\u0e34\\u0e19\", \"\\u0e23\\u0e2a\\u0e0a\\u0e32\\u0e40\\u0e02\\u0e35\\u0e22\\u0e27\", \"\\u0e16\\u0e49\\u0e27\\u0e22\", \"\\u0e40\\u0e25\\u0e35\\u0e48\\u0e22\\u0e19\", \"\\u0e19\\u0e30\", \"\\u0e2d\\u0e2d\\u0e2a\", \"\\u0e23\\u0e2a\\u0e0a\\u0e32\\u0e15\", \"\\u0e2a\\u0e21\\u0e23\\u0e32\\u0e04\\u0e32\", \"\\u0e40\\u0e40\\u0e1a\\u0e1a\", \"\\u0e2a\\u0e27\\u0e22\", \"\\u0e1e\\u0e34\\u0e0b\\u0e0b\\u0e48\\u0e32\\u0e1a\\u0e38\\u0e1e\\u0e40\\u0e1f\\u0e48\", \"\\u0e40\\u0e40\\u0e1b\\u0e49\\u0e07\", \"\\u0e01\\u0e32\\u0e44\\u0e01\\u0e48\", \"\\u0e40\\u0e14\\u0e47\\u0e14\", \"\\u0e2d\\u0e23\\u0e48\\u0e2d\\u0e22\\u0e22\\u0e21\\u0e32\\u0e01\", \"\\u0e17\\u0e49\\u0e32\\u0e22\", \"\\u0e19\\u0e36\\u0e01\", \"\\u0e19\\u0e31\\u0e48\\u0e07\", \"\\u0e1a\\u0e23\\u0e34\\u0e01\\u0e32\\u0e23\", \"\\u0e0a\\u0e32\\u0e1a\\u0e39\", \"\\u0e2a\\u0e32\\u0e02\\u0e32\", \"\\u0e07\\u0e32\\u0e19\", \"\\u0e14\\u0e35\", \"\\u0e2d\\u0e23\\u0e48\\u0e2d\\u0e22\", \"\\u0e1a\\u0e38\\u0e1f\\u0e40\\u0e1f\\u0e48\", \"\\u0e2b\\u0e27\\u0e32\\u0e19\", \"\\u0e40\\u0e19\\u0e37\\u0e49\\u0e2d\", \"\\u0e17\\u0e32\\u0e19\", \"\\u0e2b\\u0e2d\\u0e21\", \"\\u0e40\\u0e25\\u0e37\\u0e2d\\u0e01\", \"\\u0e04\\u0e38\\u0e13\\u0e20\\u0e32\\u0e1e\", \"\\u0e1c\\u0e31\\u0e01\", \"\\u0e23\\u0e32\\u0e04\\u0e32\", \"\\u0e19\\u0e49\\u0e33\", \"\\u0e0a\\u0e2d\\u0e1a\", \"2\", \"\\u0e1e\\u0e19\\u0e31\\u0e01\\u0e07\\u0e32\\u0e19\", \"\\u0e2d\\u0e32\\u0e2b\\u0e32\\u0e23\", \"\\u0e2a\\u0e31\\u0e48\\u0e07\", \"\\u0e04\\u0e38\\u0e49\\u0e21\", \"\\u0e15\\u0e34\\u0e21\", \"\\u0e15\\u0e31\\u0e27\", \"\\u0e01\\u0e34\\u0e19\", \"\\u0e2b\\u0e21\\u0e39\", \"\\u0e04\\u0e48\\u0e32\", \"\\u0e1a\\u0e32\\u0e17\", \"\\u0e2a\\u0e14\", \"\\u0e15\\u0e23\\u0e07\\u0e02\\u0e49\\u0e32\\u0e21\", \"\\u0e22\\u0e2d\\u0e14\", \"\\u0e2d\\u0e34\\u0e2d\\u0e34\", \"\\u0e1b\\u0e31\\u0e49\\u0e19\", \"\\u0e0a\\u0e2d\\u0e1b\", \"\\u0e40\\u0e1a\\u0e32\", \"\\u0e2b\\u0e21\\u0e39\\u0e48\", \"\\u0e2a\\u0e21\\u0e32\\u0e0a\\u0e34\\u0e01\", \"xx\", \"\\u0e0b\\u0e38\\u0e49\\u0e21\", \"\\u0e1a\\u0e31\\u0e15\\u0e23\", \"\\u0e25\\u0e32\\u0e19\", \"\\u0e14\\u0e33\", \"^^\", \"\\u0e01\\u0e25\\u0e22\\u0e38\\u0e17\\u0e18\\u0e4c\", \"\\u0e1b\\u0e23\\u0e30\\u0e15\\u0e39\", \"\\u0e1b\\u0e23\\u0e31\\u0e1a\\u0e1b\\u0e23\\u0e38\\u0e07\", \"\\u0e40\\u0e04\\u0e23\\u0e37\\u0e2d\\u0e42\\u0e2d\\u0e2d\\u0e34\\u0e0a\\u0e34\\u0e25\\u0e14\", \"\\u0e02\\u0e19\\u0e32\\u0e14\", \"\\u0e40\\u0e25\\u0e22\", \"\\u0e42\\u0e0a\\u0e04\\u0e0a\\u0e30\\u0e15\\u0e32\", \"\\u0e02\\u0e49\\u0e19\", \"\\u0e40\\u0e04\\u0e32\\u0e19\\u0e4c\\u0e40\\u0e15\\u0e2d\\u0e23\\u0e4c\", \"\\u0e1a\\u0e23\\u0e34\\u0e40\\u0e27\\u0e13\", \"\\u0e2a\\u0e25\\u0e31\\u0e14\", \"\\u0e41\\u0e21\\u0e04\\u0e42\\u0e14\\u0e19\\u0e31\\u0e25\", \"\\u0e04\\u0e13\\u0e30\", \"\\u0e15\\u0e49\\u0e21\", \"\\u0e22\\u0e32\\u0e27\\u0e2b\\u0e19\\u0e49\\u0e32\", \"\\u0e42\\u0e19\\u0e49\\u0e19\", \")\", \"\\u0e2b\\u0e21\\u0e49\\u0e2d\", \"\\u0e04\\u0e48\\u0e32\", \"\\u0e14\\u0e35\", \"\\u0e40\\u0e25\\u0e37\\u0e2d\\u0e01\", \"\\u0e1e\\u0e32\\u0e19\", \"3\", \"\\u0e17\\u0e32\\u0e19\", \"\\u0e2a\\u0e32\\u0e22\", \"\\u0e2b\\u0e19\\u0e49\\u0e32\", \"\\u0e2d\\u0e32\\u0e2b\\u0e32\\u0e23\", \"\\u0e2b\\u0e49\\u0e32\\u0e07\", \"\\u0e40\\u0e19\\u0e37\\u0e49\\u0e2d\", \"\\u0e23\\u0e32\\u0e04\\u0e32\", \"\\u0e04\\u0e38\\u0e49\\u0e21\", \"\\u0e2b\\u0e27\\u0e32\\u0e19\", \"\\u0e19\\u0e49\\u0e33\", \"\\u0e2a\\u0e32\\u0e02\\u0e32\", \"\\u0e15\\u0e34\\u0e21\", \"\\u0e1a\\u0e32\\u0e17\", \"\\u0e15\\u0e31\\u0e27\", \"\\u0e2d\\u0e23\\u0e48\\u0e2d\\u0e22\", \"\\u0e04\\u0e38\\u0e13\\u0e20\\u0e32\\u0e1e\", \"\\u0e40\\u0e21\\u0e19\\u0e39\", \"\\u0e02\\u0e49\\u0e32\\u0e27\", \"\\u0e0a\\u0e32\\u0e1a\\u0e39\\u0e0a\\u0e34\", \"\\u0e44\\u0e2d\", \"\\u0e17\\u0e2d\\u0e14\", \"\\u0e2b\\u0e22\\u0e34\\u0e1a\", \"\\u0e40\\u0e04\\u0e25\\u0e37\\u0e48\\u0e2d\\u0e19\", \"\\u0e08\\u0e32\\u0e19\", \"\\u0e01\\u0e34\\u0e19\", \"\\u0e2a\\u0e14\", \"\\u0e04\\u0e19\", \"\\u0e23\\u0e2a\\u0e0a\\u0e32\\u0e15\\u0e34\"], \"Freq\": [24.0, 29.0, 19.0, 21.0, 24.0, 6.0, 17.0, 11.0, 6.0, 18.0, 13.0, 8.0, 4.0, 23.0, 10.0, 13.0, 7.0, 7.0, 6.0, 4.0, 7.0, 14.0, 4.0, 8.0, 4.0, 6.0, 4.0, 5.0, 5.0, 3.0, 2.8362594945490427, 2.1439694630028723, 3.594003472510225, 2.907733345084247, 1.4722981749004163, 2.224172313338635, 1.4877115939451069, 1.489059927656594, 1.4900502217827991, 1.5013329640463282, 1.5040515792429943, 1.5089801765917987, 1.5091773099085104, 1.5123972862969748, 1.514580032055255, 1.5150825831865908, 1.5234210183878423, 1.5251235574349908, 1.5266456223189524, 1.52761251430092, 1.5279380288721773, 1.5324304472727375, 1.533114926937806, 1.5356175020006644, 1.5443693750834435, 1.545186599114695, 15.320293847623995, 1.5534503325560924, 1.5548071280598463, 1.556330118452337, 4.522050010491792, 3.815681804277505, 9.98091562006347, 3.8409262393499795, 3.1391094196511116, 8.225196323967204, 3.1676124380392667, 14.57474331231904, 5.677353316792419, 4.111508706229272, 6.3736128544201724, 10.334566708331328, 10.92407862106737, 6.867575266605365, 4.006261991740855, 8.589001562955028, 2.449712395551602, 5.642213080095119, 4.691914672762377, 3.271611567030371, 2.460412067441758, 2.462326283511077, 8.79121618592299, 8.628491689739397, 4.749713473701668, 5.340411623941089, 5.312212172350499, 6.516174486218415, 5.838376992730417, 3.4101157694367608, 3.262951451507483, 4.976393871681436, 2.0883585965367906, 1.6065112549308251, 1.6210200882072878, 1.114592027755595, 1.1158634266688896, 1.1167973492066428, 1.1170671943649308, 1.1186526196337145, 1.1370827040894325, 3.3002557688050054, 0.598668272517209, 0.5986806432524253, 0.5986875763018322, 0.5986898873183011, 0.5986914506529714, 0.5986998110949032, 0.5987010345742103, 0.5987168718341299, 0.6098643316564807, 0.6107961470909825, 0.6110548449933615, 0.611397147315059, 0.6114196457400952, 0.611456554032526, 0.6114957053703532, 0.6118013712839103, 0.6118850436743015, 0.6119551898212419, 0.6123203983944112, 2.807191432969402, 1.7989554418139164, 3.6263483491049024, 8.34974491632553, 6.1659828019747165, 1.282814926824956, 1.2852213746798764, 1.2933640372950623, 2.0003152583499904, 5.740095636627615, 3.78346892114413, 6.221545619343063, 2.971452230244865, 2.196736024865447, 3.9269128977200136, 5.91205429381906, 2.399660263608866, 1.2627192792058393, 1.28527004196787, 4.4969732333100305, 3.483513937108245, 2.199259247023123, 2.219155331573037, 3.2258203752982064, 4.753034945608689, 3.9346732910228033, 2.412010063734733, 2.3193353126019782, 2.584881980257856, 2.0587278309088632, 2.990166569726266, 2.283300040627818, 2.044174272666619, 0.7913113294376141, 0.7939842225552537, 0.7979641149699775, 0.4321980541871803, 0.43219841040405615, 0.4322047827281683, 0.432206088856713, 0.43220668255150607, 0.43575036761194597, 0.43600260873968866, 0.4362592432088999, 0.43651120727907244, 0.4368952090712205, 0.43708246040895005, 0.43730580839009736, 0.4375375472576532, 0.43766527079746576, 0.4377777957505761, 0.4380334407284656, 0.43814564904435305, 0.43820098139906577, 0.43829961389401867, 0.43836982819821063, 0.4383766754781572, 0.4384071122312145, 0.4385020638184504, 0.4385177769406399, 0.43857718599959833, 0.4386491418085166, 0.438651160370813, 1.2816456005265133, 5.60620325275601, 2.362815509706424, 3.8436924964526025, 0.9165283689932197, 2.807379711897454, 1.469140828077066, 1.8662029557606203, 1.2004625871345787, 2.820035068424827, 1.13767872949456, 2.0492438100178396, 3.0978253370511237, 2.685105815329287, 1.3357336501123072, 2.243532410027751, 1.8465717645741562, 1.2679652101491043, 1.2772656369805762, 1.6608208123255994, 1.7775337676654843, 1.6490434908175018, 1.3404121234001927, 1.0637786097086845, 1.1415617309190575, 1.142262369934168, 1.1674515734546025, 1.0727239278946037, 1.1636331660235895, 1.1560007049233794, 0.9358117341902594, 0.7692322396551821, 0.7698397247075812, 0.7704214199465749, 0.41669467427356466, 0.4166947492439525, 0.4166971482963623, 0.416698047941016, 0.41669973477474165, 0.41669973477474165, 0.41669992220071117, 0.4167002595674563, 0.4167005594490075, 0.4167016465196307, 0.4167028835310295, 0.4167036707201015, 0.41670397060165276, 0.4167048702463064, 0.4167112802144639, 0.41671720287510067, 0.4167207639685215, 0.41672237583185934, 0.4174396175320078, 0.4175257959927918, 0.4175330681204091, 0.41754453858974355, 0.4175933068270119, 0.41761313649458687, 0.41769616619908295, 0.41769699087334883, 0.41771974438604825, 0.8790153519513585, 1.3763916956601312, 1.3753714986228551, 1.9184880256364871, 2.067753018174567, 2.5815231365850715, 0.9054610063094618, 4.275923173659021, 2.680763837977456, 1.0206772226100032, 2.088890019372065, 2.911287584510888, 2.826819048331972, 0.9648222594934026, 2.3845943705317834, 1.2378269266921769, 1.2246815439237297, 2.163565023850991, 2.397140964812817, 1.4237720811094294, 1.2086999564141603, 1.291976988219661, 2.094007797925314, 1.2350208600469528, 1.458077031162104, 1.0256831453446447, 1.1255137887186815, 1.4366764340810774, 1.0344320396609326, 0.9577162662555148, 1.0094382618330975, 0.9560281580332671, 0.28899481479541383, 0.28900217483558166, 0.28936669634305007, 0.2894234041224154, 0.2896335199679293, 0.2896463778694273, 0.2896777467153233, 0.28972383564155496, 0.28979313529687006, 0.28983066706796684, 0.2898394902486499, 0.2898578903490695, 0.28986502870128045, 0.28986460749416243, 0.2899064400116223, 0.28995188604277905, 0.28996922204100567, 0.2899835874206103, 0.289980217763666, 0.2900590500011262, 0.2900872043716477, 0.290235757471541, 0.29028444014686794, 0.2903089366661012, 0.29046272160177644, 0.2905126457296618, 0.29071360586255734, 0.29088998080103684, 0.29118054720609604, 0.291209654834832, 0.6111637691947309, 0.9421123647624333, 1.0917767420459088, 2.4744735257798047, 1.84446135877915, 0.691067912263926, 0.7856851746669216, 1.9261491144740752, 0.739743316225866, 0.8389003046094842, 1.6467045281850994, 0.6807383175763435, 1.544534224079037, 1.2544490592365922, 0.9935990380429333, 0.9841945915369278, 1.1940140845901264, 0.8805927152806323, 0.6988698208673666, 0.9071631696879349, 0.7671556084805569, 0.948269969452236, 0.6238940671047649, 0.6579720728463865, 0.5246009623156334, 0.5690743597304341, 0.6026391135143285, 0.5278385375752394, 0.5096234579244792, 0.29147483796883056, 0.47886279076934263, 0.7595075513191786, 0.6518731267899696, 0.6442631556195803, 0.5672929196466814], \"Total\": [24.0, 29.0, 19.0, 21.0, 24.0, 6.0, 17.0, 11.0, 6.0, 18.0, 13.0, 8.0, 4.0, 23.0, 10.0, 13.0, 7.0, 7.0, 6.0, 4.0, 7.0, 14.0, 4.0, 8.0, 4.0, 6.0, 4.0, 5.0, 5.0, 3.0, 3.5426394875217895, 2.709224841052833, 4.584138679851732, 3.768745439295474, 1.9409027908711693, 2.9623050858043385, 1.9894093972761149, 1.9936605720638043, 1.9967991549305744, 2.032463224761666, 2.0408948081577893, 2.056370499935423, 2.0571099929219323, 2.0671530958193407, 2.0742876900522043, 2.075881912483911, 2.1019168605626346, 2.107285726250479, 2.112083369321997, 2.1151590459372507, 2.1161813815799153, 2.1303603296800655, 2.1325315248162307, 2.140466747510442, 2.1682599098894793, 2.1708860180119327, 21.662645107673896, 2.1973473652110274, 2.201632360672774, 2.206418776604346, 6.491416172693724, 5.4973784430354025, 15.502810357345197, 5.6922479309855145, 4.71361876563638, 14.103609703603729, 4.906611219137567, 29.176000294417676, 10.11699347844578, 7.002852439068893, 12.060695626418667, 21.853644821917147, 23.556814358238203, 13.362117739052406, 6.877081856841863, 18.747521289380394, 3.8895888582267886, 11.837969823850223, 9.368851177013585, 5.833919860569091, 4.025695436131421, 4.044008375497469, 24.28188872616773, 24.899717399120515, 10.600514684467063, 13.122173394828527, 13.475842847003095, 19.292705564054415, 17.410927369800312, 6.735954617854228, 8.267301883007384, 6.099335767837455, 2.8550327047979205, 2.312351302669186, 2.3742796579262126, 1.726715132208583, 1.7321766665254805, 1.736218234566797, 1.7373709838465634, 1.7442249979671678, 1.824174893712132, 5.621446815685385, 1.038609719016432, 1.0386623357477378, 1.0386918588610161, 1.0387016634194752, 1.0387084305856682, 1.0387439962695488, 1.0387491426445343, 1.0388165407255996, 1.086385009563519, 1.0903919559114459, 1.0914877047289453, 1.092947671790741, 1.0930524674543352, 1.0932301577568209, 1.0933780066289827, 1.0946874681083814, 1.095062371310526, 1.0953647933016193, 1.0969151227984584, 5.031406811485642, 3.463890856788553, 7.649383996708577, 24.28188872616773, 17.410927369800312, 2.6601946248533426, 2.670615760136086, 2.706327961735207, 4.831296572434647, 19.292705564054415, 12.060695626418667, 23.556814358238203, 8.835771435383833, 5.998144941380056, 13.475842847003095, 24.899717399120515, 7.181934122291445, 2.9817936771568574, 3.0777250798537117, 18.747521289380394, 13.122173394828527, 6.726201831391791, 6.835883129479733, 13.362117739052406, 29.176000294417676, 21.853644821917147, 8.267301883007384, 7.862198993140926, 10.600514684467063, 6.735954617854228, 21.662645107673896, 15.502810357345197, 8.549103736275182, 1.3901669870045952, 1.4059596012582252, 1.4295284916912898, 0.9099203763009618, 0.9099225623962689, 0.9099603504977716, 0.9099680215955815, 0.9099714514972921, 0.9308848225482103, 0.9323750856704733, 0.9338917238411149, 0.9353810066751441, 0.9376513555619266, 0.9387589046809814, 0.9400801807064617, 0.941451286538974, 0.942228239707182, 0.9428728526110493, 0.9443862850923229, 0.9450424641815937, 0.9454028379188208, 0.945987743873898, 0.9463694037613893, 0.9464447576203557, 0.94659042822323, 0.9471881111008215, 0.9472456896862961, 0.9475974764112934, 0.9480608194555566, 0.9480729613968659, 3.268615027306603, 24.899717399120515, 10.11699347844578, 21.853644821917147, 2.753103753058517, 19.292705564054415, 6.877081856841863, 10.600514684467063, 5.104745438691328, 23.556814358238203, 4.898994129287822, 14.103609703603729, 29.176000294417676, 24.28188872616773, 7.153922171208941, 18.747521289380394, 13.122173394828527, 6.835883129479733, 7.052902617500311, 13.362117739052406, 17.410927369800312, 15.502810357345197, 11.837969823850223, 7.181934122291445, 8.549103736275182, 8.835771435383833, 9.368851177013585, 8.267301883007384, 13.475842847003095, 21.662645107673896, 6.232414295220095, 1.404800359223469, 1.4085386404469304, 1.4121209814321212, 0.8978827055852446, 0.8978830860049359, 0.8978978840958234, 0.8979032222697453, 0.8979137955402114, 0.8979137974045708, 0.8979148592132393, 0.8979170490590426, 0.8979188629164724, 0.8979255409948548, 0.8979329618809048, 0.897937899400534, 0.8979394919990064, 0.8979452960654395, 0.8979845055460262, 0.8980205564461781, 0.8980423486346195, 0.8980521979124354, 0.9024414333057095, 0.902968855220477, 0.9030134682292593, 0.9030837126003067, 0.9033819815055942, 0.9035035127616298, 0.904011752957099, 0.9040167419008464, 0.9041562232747831, 2.4082785776659406, 4.423522927748437, 4.547277212734084, 7.307164057614744, 8.549103736275182, 11.837969823850223, 2.861918157828094, 29.176000294417676, 17.410927369800312, 3.7355651968513093, 13.475842847003095, 24.28188872616773, 24.899717399120515, 3.849901893358557, 19.292705564054415, 6.198516194011067, 6.232414295220095, 18.747521289380394, 23.556814358238203, 8.835771435383833, 6.726201831391791, 7.862198993140926, 21.853644821917147, 7.649383996708577, 13.122173394828527, 7.181934122291445, 9.368851177013585, 21.662645107673896, 8.267301883007384, 6.5724981882462465, 14.103609703603729, 13.362117739052406, 0.8406429393304962, 0.8407223776098715, 0.8439997632236187, 0.8445184370885563, 0.8463930686063609, 0.8465344207800631, 0.8468282322822918, 0.8472221686872252, 0.8478446775908155, 0.8481892251548382, 0.8482616405161949, 0.848443145784471, 0.8484920601408736, 0.8484970965069744, 0.848880498652393, 0.849294606070504, 0.8494303808623536, 0.849549877896304, 0.8495540902926534, 0.8502611380473286, 0.8504982078391469, 0.8518380515574779, 0.8522917942976957, 0.8524852761046526, 0.8539191273765884, 0.8543472071093161, 0.8561592798989321, 0.857755484447493, 0.8604043396707237, 0.8606626124317265, 2.3128853330346355, 4.2841556756222605, 6.5724981882462465, 29.176000294417676, 19.292705564054415, 3.7833979382793226, 4.952295766035373, 24.899717399120515, 4.681849229349534, 6.054503546813978, 21.853644821917147, 4.478511237143136, 24.28188872616773, 18.747521289380394, 13.122173394828527, 13.475842847003095, 23.556814358238203, 11.837969823850223, 7.181934122291445, 14.103609703603729, 9.368851177013585, 17.410927369800312, 6.198516194011067, 7.153922171208941, 4.069028345557461, 5.104745438691328, 5.998144941380056, 4.898994129287822, 4.831296572434647, 0.8630574118248374, 4.092156973714059, 21.662645107673896, 13.362117739052406, 15.502810357345197, 10.600514684467063], \"Category\": [\"Default\", \"Default\", \"Default\", \"Default\", \"Default\", \"Default\", \"Default\", \"Default\", \"Default\", \"Default\", \"Default\", \"Default\", \"Default\", \"Default\", \"Default\", \"Default\", \"Default\", \"Default\", \"Default\", \"Default\", \"Default\", \"Default\", \"Default\", \"Default\", \"Default\", \"Default\", \"Default\", \"Default\", \"Default\", \"Default\", \"Topic1\", \"Topic1\", \"Topic1\", \"Topic1\", \"Topic1\", \"Topic1\", \"Topic1\", \"Topic1\", \"Topic1\", \"Topic1\", \"Topic1\", \"Topic1\", \"Topic1\", \"Topic1\", \"Topic1\", \"Topic1\", \"Topic1\", \"Topic1\", \"Topic1\", \"Topic1\", \"Topic1\", \"Topic1\", \"Topic1\", \"Topic1\", \"Topic1\", \"Topic1\", \"Topic1\", \"Topic1\", \"Topic1\", \"Topic1\", \"Topic1\", \"Topic1\", \"Topic1\", \"Topic1\", \"Topic1\", \"Topic1\", \"Topic1\", \"Topic1\", \"Topic1\", \"Topic1\", \"Topic1\", \"Topic1\", \"Topic1\", \"Topic1\", \"Topic1\", \"Topic1\", \"Topic1\", \"Topic1\", \"Topic1\", \"Topic1\", \"Topic1\", \"Topic1\", \"Topic1\", \"Topic1\", \"Topic1\", \"Topic1\", \"Topic1\", \"Topic1\", \"Topic1\", \"Topic1\", \"Topic1\", \"Topic2\", \"Topic2\", \"Topic2\", \"Topic2\", \"Topic2\", \"Topic2\", \"Topic2\", \"Topic2\", \"Topic2\", \"Topic2\", \"Topic2\", \"Topic2\", \"Topic2\", \"Topic2\", \"Topic2\", \"Topic2\", \"Topic2\", \"Topic2\", \"Topic2\", \"Topic2\", \"Topic2\", \"Topic2\", \"Topic2\", \"Topic2\", \"Topic2\", \"Topic2\", \"Topic2\", \"Topic2\", \"Topic2\", \"Topic2\", \"Topic2\", \"Topic2\", \"Topic2\", \"Topic2\", \"Topic2\", \"Topic2\", \"Topic2\", \"Topic2\", \"Topic2\", \"Topic2\", \"Topic2\", \"Topic2\", \"Topic2\", \"Topic2\", \"Topic2\", \"Topic2\", \"Topic2\", \"Topic2\", \"Topic2\", \"Topic2\", \"Topic2\", \"Topic2\", \"Topic2\", \"Topic2\", \"Topic2\", \"Topic2\", \"Topic2\", \"Topic2\", \"Topic2\", \"Topic2\", \"Topic2\", \"Topic2\", \"Topic2\", \"Topic3\", \"Topic3\", \"Topic3\", \"Topic3\", \"Topic3\", \"Topic3\", \"Topic3\", \"Topic3\", \"Topic3\", \"Topic3\", \"Topic3\", \"Topic3\", \"Topic3\", \"Topic3\", \"Topic3\", \"Topic3\", \"Topic3\", \"Topic3\", \"Topic3\", \"Topic3\", \"Topic3\", \"Topic3\", \"Topic3\", \"Topic3\", \"Topic3\", \"Topic3\", \"Topic3\", \"Topic3\", \"Topic3\", \"Topic3\", \"Topic3\", \"Topic3\", \"Topic3\", \"Topic3\", \"Topic3\", \"Topic3\", \"Topic3\", \"Topic3\", \"Topic3\", \"Topic3\", \"Topic3\", \"Topic3\", \"Topic3\", \"Topic3\", \"Topic3\", \"Topic3\", \"Topic3\", \"Topic3\", \"Topic3\", \"Topic3\", \"Topic3\", \"Topic3\", \"Topic3\", \"Topic3\", \"Topic3\", \"Topic3\", \"Topic3\", \"Topic3\", \"Topic3\", \"Topic3\", \"Topic3\", \"Topic4\", \"Topic4\", \"Topic4\", \"Topic4\", \"Topic4\", \"Topic4\", \"Topic4\", \"Topic4\", \"Topic4\", \"Topic4\", \"Topic4\", \"Topic4\", \"Topic4\", \"Topic4\", \"Topic4\", \"Topic4\", \"Topic4\", \"Topic4\", \"Topic4\", \"Topic4\", \"Topic4\", \"Topic4\", \"Topic4\", \"Topic4\", \"Topic4\", \"Topic4\", \"Topic4\", \"Topic4\", \"Topic4\", \"Topic4\", \"Topic4\", \"Topic4\", \"Topic4\", \"Topic4\", \"Topic4\", \"Topic4\", \"Topic4\", \"Topic4\", \"Topic4\", \"Topic4\", \"Topic4\", \"Topic4\", \"Topic4\", \"Topic4\", \"Topic4\", \"Topic4\", \"Topic4\", \"Topic4\", \"Topic4\", \"Topic4\", \"Topic4\", \"Topic4\", \"Topic4\", \"Topic4\", \"Topic4\", \"Topic4\", \"Topic4\", \"Topic4\", \"Topic4\", \"Topic4\", \"Topic4\", \"Topic4\", \"Topic5\", \"Topic5\", \"Topic5\", \"Topic5\", \"Topic5\", \"Topic5\", \"Topic5\", \"Topic5\", \"Topic5\", \"Topic5\", \"Topic5\", \"Topic5\", \"Topic5\", \"Topic5\", \"Topic5\", \"Topic5\", \"Topic5\", \"Topic5\", \"Topic5\", \"Topic5\", \"Topic5\", \"Topic5\", \"Topic5\", \"Topic5\", \"Topic5\", \"Topic5\", \"Topic5\", \"Topic5\", \"Topic5\", \"Topic5\", \"Topic5\", \"Topic5\", \"Topic5\", \"Topic5\", \"Topic5\", \"Topic5\", \"Topic5\", \"Topic5\", \"Topic5\", \"Topic5\", \"Topic5\", \"Topic5\", \"Topic5\", \"Topic5\", \"Topic5\", \"Topic5\", \"Topic5\", \"Topic5\", \"Topic5\", \"Topic5\", \"Topic5\", \"Topic5\", \"Topic5\", \"Topic5\", \"Topic5\", \"Topic5\", \"Topic5\", \"Topic5\", \"Topic5\", \"Topic5\", \"Topic5\", \"Topic5\", \"Topic5\", \"Topic5\", \"Topic5\"], \"logprob\": [30.0, 29.0, 28.0, 27.0, 26.0, 25.0, 24.0, 23.0, 22.0, 21.0, 20.0, 19.0, 18.0, 17.0, 16.0, 15.0, 14.0, 13.0, 12.0, 11.0, 10.0, 9.0, 8.0, 7.0, 6.0, 5.0, 4.0, 3.0, 2.0, 1.0, -5.2994, -5.5792, -5.0626, -5.2745, -5.9551, -5.5425, -5.9446, -5.9437, -5.9431, -5.9355, -5.9337, -5.9304, -5.9303, -5.9282, -5.9267, -5.9264, -5.9209, -5.9198, -5.9188, -5.9182, -5.918, -5.915, -5.9146, -5.9129, -5.9073, -5.9067, -3.6127, -5.9014, -5.9005, -5.8995, -4.8329, -5.0028, -4.0412, -4.9962, -5.1979, -4.2347, -5.1889, -3.6626, -4.6054, -4.9281, -4.4897, -4.0064, -3.9509, -4.4151, -4.954, -4.1914, -5.4459, -4.6116, -4.796, -5.1566, -5.4415, -5.4408, -4.1681, -4.1868, -4.7838, -4.6666, -4.6719, -4.4676, -4.5774, -5.1151, -5.1592, -4.0718, -4.9401, -5.2025, -5.1935, -5.568, -5.5669, -5.5661, -5.5658, -5.5644, -5.5481, -4.4825, -6.1896, -6.1896, -6.1895, -6.1895, -6.1895, -6.1895, -6.1895, -6.1895, -6.171, -6.1695, -6.1691, -6.1685, -6.1685, -6.1684, -6.1684, -6.1679, -6.1677, -6.1676, -6.167, -4.6443, -5.0893, -4.3883, -3.5543, -3.8575, -5.4275, -5.4256, -5.4193, -4.9832, -3.9291, -4.3459, -3.8485, -4.5875, -4.8896, -4.3087, -3.8995, -4.8012, -5.4433, -5.4256, -4.1731, -4.4285, -4.8884, -4.8794, -4.5053, -4.1177, -4.3067, -4.7961, -4.8352, -4.7268, -4.9544, -4.5812, -4.8509, -4.9615, -5.3698, -5.3665, -5.3615, -5.9746, -5.9746, -5.9746, -5.9746, -5.9746, -5.9664, -5.9659, -5.9653, -5.9647, -5.9638, -5.9634, -5.9629, -5.9624, -5.9621, -5.9618, -5.9612, -5.961, -5.9608, -5.9606, -5.9605, -5.9604, -5.9604, -5.9601, -5.9601, -5.96, -5.9598, -5.9598, -4.8876, -3.4119, -4.2759, -3.7893, -5.2229, -4.1035, -4.7511, -4.5119, -4.9531, -4.099, -5.0068, -4.4183, -4.0051, -4.148, -4.8463, -4.3277, -4.5224, -4.8983, -4.891, -4.6284, -4.5605, -4.6356, -4.8428, -5.0739, -5.0034, -5.0027, -4.9809, -5.0656, -4.9842, -4.9908, -5.2021, -5.3438, -5.343, -5.3422, -5.9568, -5.9568, -5.9568, -5.9568, -5.9568, -5.9568, -5.9568, -5.9568, -5.9568, -5.9568, -5.9568, -5.9568, -5.9568, -5.9568, -5.9568, -5.9567, -5.9567, -5.9567, -5.955, -5.9548, -5.9548, -5.9548, -5.9546, -5.9546, -5.9544, -5.9544, -5.9543, -5.2103, -4.7619, -4.7627, -4.4299, -4.3549, -4.133, -5.1807, -3.6284, -4.0953, -5.0609, -4.3448, -4.0128, -4.0422, -5.1172, -4.2124, -4.868, -4.8787, -4.3096, -4.2071, -4.7281, -4.8918, -4.8252, -4.3423, -4.8703, -4.7043, -5.056, -4.9632, -4.7191, -5.0475, -5.1246, -5.072, -5.1264, -5.7975, -5.7975, -5.7962, -5.796, -5.7953, -5.7952, -5.7951, -5.795, -5.7947, -5.7946, -5.7946, -5.7945, -5.7945, -5.7945, -5.7943, -5.7942, -5.7941, -5.7941, -5.7941, -5.7938, -5.7937, -5.7932, -5.793, -5.7929, -5.7924, -5.7922, -5.7915, -5.7909, -5.7899, -5.7898, -5.0485, -4.6158, -4.4683, -3.6501, -3.9439, -4.9256, -4.7973, -3.9006, -4.8576, -4.7318, -4.0574, -4.9407, -4.1214, -4.3294, -4.5626, -4.5721, -4.3788, -4.6833, -4.9144, -4.6536, -4.8212, -4.6092, -5.0279, -4.9747, -5.2012, -5.1199, -5.0626, -5.1951, -5.2302, -5.7889, -5.2925, -4.8312, -4.984, -4.9958, -5.123], \"loglift\": [30.0, 29.0, 28.0, 27.0, 26.0, 25.0, 24.0, 23.0, 22.0, 21.0, 20.0, 19.0, 18.0, 17.0, 16.0, 15.0, 14.0, 13.0, 12.0, 11.0, 10.0, 9.0, 8.0, 7.0, 6.0, 5.0, 4.0, 3.0, 2.0, 1.0, 0.595, 0.5834, 0.5741, 0.558, 0.5411, 0.5308, 0.5268, 0.5256, 0.5247, 0.5145, 0.5122, 0.5079, 0.5077, 0.5049, 0.5029, 0.5025, 0.4955, 0.4941, 0.4928, 0.492, 0.4917, 0.488, 0.4874, 0.4853, 0.4781, 0.4774, 0.471, 0.4706, 0.4696, 0.4684, 0.4559, 0.4523, 0.3771, 0.424, 0.4109, 0.2782, 0.3798, 0.1234, 0.2397, 0.2849, 0.1796, 0.0685, 0.049, 0.1518, 0.2771, 0.0368, 0.3551, 0.0764, 0.1259, 0.239, 0.325, 0.3213, -0.1986, -0.2424, 0.0146, -0.0816, -0.1135, -0.268, -0.2752, 0.1367, -0.1123, 1.2793, 1.1701, 1.1186, 1.1011, 1.045, 1.043, 1.0415, 1.0411, 1.0386, 1.0101, 0.9502, 0.9318, 0.9318, 0.9318, 0.9318, 0.9318, 0.9318, 0.9318, 0.9317, 0.9054, 0.9032, 0.9027, 0.9019, 0.9018, 0.9017, 0.9016, 0.9009, 0.9007, 0.9006, 0.8998, 0.8993, 0.8276, 0.7364, 0.4153, 0.4447, 0.7534, 0.7514, 0.7444, 0.601, 0.2705, 0.3235, 0.1514, 0.393, 0.4783, 0.2497, 0.0449, 0.3865, 0.6235, 0.6095, 0.0551, 0.1565, 0.3649, 0.3577, 0.0615, -0.3318, -0.2318, 0.2509, 0.262, 0.0715, 0.2974, -0.4975, -0.4326, 0.0519, 1.46, 1.4521, 1.4405, 1.2791, 1.2791, 1.279, 1.279, 1.279, 1.2645, 1.2634, 1.2624, 1.2614, 1.2598, 1.2591, 1.2582, 1.2573, 1.2567, 1.2563, 1.2553, 1.2549, 1.2546, 1.2542, 1.254, 1.2539, 1.2538, 1.2534, 1.2534, 1.2531, 1.2528, 1.2528, 1.0873, 0.5326, 0.5692, 0.2856, 0.9236, 0.0961, 0.48, 0.2865, 0.5761, -0.0991, 0.5635, 0.0946, -0.2191, -0.1785, 0.3454, -0.0995, 0.0626, 0.3388, 0.3148, -0.0616, -0.2583, -0.2173, -0.1548, 0.1138, 0.0101, -0.0223, -0.059, -0.0186, -0.4258, -0.9071, 0.1274, 1.4756, 1.4738, 1.472, 1.3102, 1.3102, 1.3102, 1.3102, 1.3102, 1.3102, 1.3102, 1.3102, 1.3102, 1.3102, 1.3102, 1.3102, 1.3102, 1.3102, 1.3101, 1.3101, 1.3101, 1.3101, 1.3069, 1.3066, 1.3065, 1.3065, 1.3063, 1.3062, 1.3058, 1.3058, 1.3057, 1.07, 0.9104, 0.8821, 0.7406, 0.6585, 0.555, 0.9271, 0.1576, 0.2069, 0.7805, 0.2136, -0.0432, -0.0978, 0.694, -0.0128, 0.4669, 0.4508, -0.0814, -0.2072, 0.2524, 0.3614, 0.272, -0.2674, 0.2544, -0.1193, 0.1317, -0.0412, -0.6354, -0.0006, 0.1518, -0.5591, -0.5595, 1.5354, 1.5353, 1.5327, 1.5323, 1.5308, 1.5307, 1.5304, 1.5301, 1.5296, 1.5294, 1.5293, 1.5291, 1.5291, 1.5291, 1.5288, 1.5285, 1.5284, 1.5283, 1.5283, 1.5277, 1.5275, 1.5265, 1.5261, 1.526, 1.5248, 1.5245, 1.523, 1.5218, 1.5197, 1.5195, 1.2723, 1.0886, 0.8081, 0.1358, 0.2556, 0.903, 0.7621, 0.0438, 0.758, 0.6267, 0.0176, 0.7193, -0.1518, -0.1012, 0.0224, -0.0137, -0.3789, 0.0047, 0.2733, -0.1407, 0.1007, -0.3071, 0.3071, 0.2169, 0.5546, 0.4092, 0.3053, 0.3752, 0.354, 1.5176, 0.4577, -0.7475, -0.4172, -0.5775, -0.3246]}, \"token.table\": {\"Topic\": [2, 3, 5, 1, 2, 3, 1, 2, 3, 4, 1, 2, 3, 4, 5, 2, 4, 1, 2, 2, 1, 2, 3, 4, 5, 1, 2, 3, 4, 1, 1, 2, 3, 4, 5, 1, 2, 3, 4, 5, 1, 2, 1, 1, 2, 3, 4, 5, 1, 2, 3, 4, 5, 1, 2, 1, 2, 3, 4, 5, 1, 4, 1, 2, 1, 2, 3, 4, 2, 1, 3, 1, 2, 3, 4, 5, 1, 1, 3, 1, 2, 3, 4, 5, 1, 2, 3, 4, 5, 1, 2, 3, 1, 2, 2, 1, 2, 3, 4, 1, 2, 3, 4, 1, 2, 3, 4, 5, 1, 2, 2, 1, 2, 3, 4, 2, 1, 2, 3, 4, 5, 1, 1, 2, 3, 4, 5, 2, 2, 2, 1, 2, 3, 5, 1, 2, 3, 4, 5, 3, 4, 1, 4, 1, 2, 4, 1, 1, 2, 3, 4, 1, 2, 3, 4, 5, 2, 2, 1, 2, 3, 4, 1, 1, 2, 3, 4, 5, 1, 1, 1, 2, 3, 4, 1, 2, 3, 2, 2, 1, 3, 1, 2, 3, 4, 1, 2, 3, 4, 1, 2, 5, 2, 1, 2, 3, 4, 5, 1, 2, 1, 1, 2, 3, 4, 5, 1, 2, 2, 1, 2, 3, 4, 5, 1, 1, 1, 2, 3, 4, 1, 2, 3, 4, 5, 2, 1, 2, 5, 1, 1, 1, 2, 3, 4, 5, 1, 2, 3, 4, 1, 2, 5, 1, 2, 5, 3, 1, 1, 2, 3, 4, 5, 1, 4, 1, 1, 2, 5, 2, 1, 2, 3, 4, 5, 1, 2, 3, 4, 5, 2, 1, 1, 1, 3, 1, 3, 1, 1, 2, 3, 4, 5, 2, 1, 2, 2, 1, 2, 3, 4, 5, 1, 1, 1, 2, 3, 4, 5, 1, 2, 3, 1, 2, 2, 2, 2, 1, 1, 1, 2, 4, 4, 1, 4, 1, 1, 2, 2, 2, 2, 2, 1, 2, 3, 4, 5, 1, 1], \"Freq\": [0.8197613953908904, 0.43236038800416615, 0.43236038800416615, 0.7027100801822364, 0.1756775200455591, 0.1756775200455591, 0.2973446307640992, 0.2973446307640992, 0.1486723153820496, 0.1486723153820496, 0.40385310055928403, 0.20192655027964201, 0.20192655027964201, 0.20192655027964201, 0.20192655027964201, 0.36950436685390986, 0.7118449204787858, 0.9378524897409658, 0.9627494347520507, 0.914869166645724, 0.6924362156810812, 0.13848724313621624, 0.04616241437873875, 0.04616241437873875, 0.04616241437873875, 0.593061566440957, 0.09884359440682616, 0.19768718881365233, 0.09884359440682616, 0.9725873815359667, 0.2457589171360267, 0.2457589171360267, 0.2457589171360267, 0.2457589171360267, 0.2457589171360267, 0.6450443351557882, 0.12900886703115763, 0.12900886703115763, 0.06450443351557882, 0.06450443351557882, 0.9343756460249534, 0.9627340748896756, 0.6364536779832201, 0.3226578647858299, 0.16132893239291496, 0.16132893239291496, 0.16132893239291496, 0.16132893239291496, 0.38103444067965975, 0.22862066440779585, 0.1524137762718639, 0.07620688813593195, 0.07620688813593195, 0.445371171600272, 0.29691411440018134, 0.30429829612987147, 0.15214914806493574, 0.15214914806493574, 0.15214914806493574, 0.15214914806493574, 0.3494160017346194, 0.3494160017346194, 0.2443699023335353, 0.2443699023335353, 0.29257375559494336, 0.29257375559494336, 0.14628687779747168, 0.14628687779747168, 0.9171014097991137, 0.363226412694787, 0.363226412694787, 0.3395289276028763, 0.3395289276028763, 0.11317630920095877, 0.11317630920095877, 0.11317630920095877, 0.6751499059243423, 0.49455881746386643, 0.24727940873193321, 0.3509139779495869, 0.23394265196639125, 0.11697132598319562, 0.23394265196639125, 0.11697132598319562, 0.39179230855294667, 0.19589615427647333, 0.19589615427647333, 0.19589615427647333, 0.19589615427647333, 0.28869269885920174, 0.5773853977184035, 0.28869269885920174, 0.9084168800048165, 0.8423607527964406, 0.9116475643519184, 0.4974837427168913, 0.3316558284779275, 0.08291395711948188, 0.08291395711948188, 0.4253567875098862, 0.28357119167325745, 0.14178559583662873, 0.14178559583662873, 0.5141211903151095, 0.17137373010503648, 0.10282423806302189, 0.13709898408402918, 0.06854949204201459, 0.5142340093282245, 0.17141133644274148, 0.9147204665958739, 0.571195814106265, 0.14279895352656624, 0.14279895352656624, 0.14279895352656624, 0.9145967761717849, 0.533683362616269, 0.2134733450465076, 0.1067366725232538, 0.1067366725232538, 0.1067366725232538, 0.7960208637919619, 0.27847651704188653, 0.27847651704188653, 0.13923825852094326, 0.13923825852094326, 0.13923825852094326, 0.9161807280718156, 0.9131899937382021, 0.9628255750841658, 0.4082470701573885, 0.20412353507869424, 0.20412353507869424, 0.20412353507869424, 0.361449885383755, 0.24096659025583667, 0.24096659025583667, 0.12048329512791833, 0.08032219675194555, 0.4152343542287295, 0.4152343542287295, 0.4968085717686441, 0.24840428588432206, 0.21991181826338285, 0.21991181826338285, 0.21991181826338285, 0.9490881920216041, 0.2260641611524319, 0.2260641611524319, 0.2260641611524319, 0.2260641611524319, 0.4669561780603463, 0.254703369851098, 0.127351684925549, 0.08490112328369932, 0.04245056164184966, 0.5755823075771567, 0.5481930507030688, 0.27370399572674353, 0.27370399572674353, 0.13685199786337177, 0.27370399572674353, 0.9641864094317917, 0.5672306713050812, 0.1418076678262703, 0.1418076678262703, 0.07090383391313515, 0.07090383391313515, 0.9101883624157555, 0.9840276446992182, 0.2676971080153802, 0.2676971080153802, 0.2676971080153802, 0.2676971080153802, 0.5816420515658811, 0.14541051289147028, 0.14541051289147028, 0.9626963421159767, 0.9627403471252113, 0.5008014939964097, 0.7112579899913748, 0.32090292866664616, 0.16045146433332308, 0.16045146433332308, 0.16045146433332308, 0.3815726366907318, 0.2543817577938212, 0.1271908788969106, 0.1271908788969106, 0.2643126671615191, 0.2643126671615191, 0.2643126671615191, 0.5759644612012208, 0.4716752109523985, 0.2830051265714391, 0.1886700843809594, 0.0943350421904797, 0.0943350421904797, 0.727619544742745, 0.18190488618568626, 0.9634459397581465, 0.4800634633815877, 0.21336153928070561, 0.10668076964035281, 0.10668076964035281, 0.053340384820176404, 0.1778901469297414, 0.5336704407892242, 0.7005173694294197, 0.5238690555421206, 0.22451530951805168, 0.14967687301203444, 0.07483843650601722, 0.07483843650601722, 0.9469323176584752, 0.9675142126845115, 0.2614589620367564, 0.5229179240735128, 0.1307294810183782, 0.1307294810183782, 0.5068436640133738, 0.08447394400222896, 0.08447394400222896, 0.2534218320066869, 0.08447394400222896, 0.9149568875164438, 0.2135908165797414, 0.4271816331594828, 0.2135908165797414, 0.9455553726995397, 0.8725739510414147, 0.3303326167927422, 0.1651663083963711, 0.1651663083963711, 0.1651663083963711, 0.1651663083963711, 0.3628753422160864, 0.24191689481072426, 0.12095844740536213, 0.12095844740536213, 0.2334182218657946, 0.2334182218657946, 0.2334182218657946, 0.2069837744396775, 0.413967548879355, 0.2069837744396775, 0.7193380430898512, 0.5152241548125924, 0.3710343061110982, 0.2968274448888786, 0.07420686122221964, 0.1484137224444393, 0.07420686122221964, 0.5194937573474764, 0.2597468786737382, 0.9722377543648928, 0.6698654622364449, 0.22328848741214832, 0.22328848741214832, 0.9204839823791141, 0.3446111670310652, 0.3446111670310652, 0.11487038901035507, 0.1723055835155326, 0.057435194505177534, 0.4575895728830983, 0.18303582915323932, 0.18303582915323932, 0.09151791457661966, 0.09151791457661966, 0.9626338826887694, 0.9064462382240863, 0.5141931635704482, 0.5015898965011966, 0.699531353038574, 0.30593997507990955, 0.30593997507990955, 0.9515124206504753, 0.37064662067662885, 0.32946366282367007, 0.12354887355887627, 0.12354887355887627, 0.08236591570591752, 0.9627011117188734, 0.3353686097267135, 0.3353686097267135, 0.9627768001042373, 0.4193503826577177, 0.1397834608859059, 0.1397834608859059, 0.1397834608859059, 0.1397834608859059, 0.9223986436671904, 0.9388083190135057, 0.36283143267589113, 0.31099837086504956, 0.15549918543252478, 0.10366612362168318, 0.10366612362168318, 0.7702479500594344, 0.15404959001188687, 0.15404959001188687, 0.3249153105148467, 0.3249153105148467, 0.9135027385743246, 0.8649204805910616, 0.37591234515599786, 0.8468262182948267, 0.9799623145718602, 0.5026617454251462, 0.3744454799252152, 0.7081546221243995, 0.7099556741181763, 0.6114199527973421, 0.20380665093244735, 0.9450985711379921, 0.1987515693855664, 0.5962547081566992, 0.5733205298430332, 0.577308319252371, 0.5791343235180512, 0.9129378688407783, 0.3334364240187632, 0.3334364240187632, 0.1667182120093816, 0.1667182120093816, 0.1667182120093816, 0.9212828234213661, 0.7382185375292732], \"Term\": [\"\", \")\", \")\", \"1\", \"1\", \"1\", \"2\", \"2\", \"2\", \"2\", \"3\", \"3\", \"3\", \"3\", \"3\", \"555\", \"CTW\", \"Shabushi\", \"VAT 7\", \"\\u0e01\\u0e23\\u0e38\\u0e1a\", \"\\u0e01\\u0e34\\u0e19\", \"\\u0e01\\u0e34\\u0e19\", \"\\u0e01\\u0e34\\u0e19\", \"\\u0e01\\u0e34\\u0e19\", \"\\u0e01\\u0e34\\u0e19\", \"\\u0e01\\u0e38\\u0e49\\u0e07\", \"\\u0e01\\u0e38\\u0e49\\u0e07\", \"\\u0e01\\u0e38\\u0e49\\u0e07\", \"\\u0e01\\u0e38\\u0e49\\u0e07\", \"\\u0e01\\u0e47\\u0e23\\u0e2a\\u0e0a\\u0e32\\u0e15\\u0e34\", \"\\u0e02\\u0e49\\u0e32\\u0e27\", \"\\u0e02\\u0e49\\u0e32\\u0e27\", \"\\u0e02\\u0e49\\u0e32\\u0e27\", \"\\u0e02\\u0e49\\u0e32\\u0e27\", \"\\u0e02\\u0e49\\u0e32\\u0e27\", \"\\u0e04\\u0e19\", \"\\u0e04\\u0e19\", \"\\u0e04\\u0e19\", \"\\u0e04\\u0e19\", \"\\u0e04\\u0e19\", \"\\u0e04\\u0e23\\u0e36\\u0e48\\u0e07\", \"\\u0e04\\u0e30\", \"\\u0e04\\u0e34\\u0e27\", \"\\u0e04\\u0e38\\u0e13\\u0e20\\u0e32\\u0e1e\", \"\\u0e04\\u0e38\\u0e13\\u0e20\\u0e32\\u0e1e\", \"\\u0e04\\u0e38\\u0e13\\u0e20\\u0e32\\u0e1e\", \"\\u0e04\\u0e38\\u0e13\\u0e20\\u0e32\\u0e1e\", \"\\u0e04\\u0e38\\u0e13\\u0e20\\u0e32\\u0e1e\", \"\\u0e04\\u0e38\\u0e49\\u0e21\", \"\\u0e04\\u0e38\\u0e49\\u0e21\", \"\\u0e04\\u0e38\\u0e49\\u0e21\", \"\\u0e04\\u0e38\\u0e49\\u0e21\", \"\\u0e04\\u0e38\\u0e49\\u0e21\", \"\\u0e04\\u0e48\\u0e30\", \"\\u0e04\\u0e48\\u0e30\", \"\\u0e04\\u0e48\\u0e32\", \"\\u0e04\\u0e48\\u0e32\", \"\\u0e04\\u0e48\\u0e32\", \"\\u0e04\\u0e48\\u0e32\", \"\\u0e04\\u0e48\\u0e32\", \"\\u0e07\\u0e32\\u0e19\", \"\\u0e07\\u0e32\\u0e19\", \"\\u0e08\\u0e32\\u0e19\", \"\\u0e08\\u0e32\\u0e19\", \"\\u0e08\\u0e34\\u0e49\\u0e21\", \"\\u0e08\\u0e34\\u0e49\\u0e21\", \"\\u0e08\\u0e34\\u0e49\\u0e21\", \"\\u0e08\\u0e34\\u0e49\\u0e21\", \"\\u0e09\\u0e32\\u0e01\", \"\\u0e0a\\u0e21.\", \"\\u0e0a\\u0e21.\", \"\\u0e0a\\u0e2d\\u0e1a\", \"\\u0e0a\\u0e2d\\u0e1a\", \"\\u0e0a\\u0e2d\\u0e1a\", \"\\u0e0a\\u0e2d\\u0e1a\", \"\\u0e0a\\u0e2d\\u0e1a\", \"\\u0e0a\\u0e31\\u0e48\\u0e27\\u0e42\\u0e21\\u0e07\", \"\\u0e0a\\u0e31\\u0e49\\u0e19\", \"\\u0e0a\\u0e31\\u0e49\\u0e19\", \"\\u0e0a\\u0e32\\u0e1a\\u0e39\", \"\\u0e0a\\u0e32\\u0e1a\\u0e39\", \"\\u0e0a\\u0e32\\u0e1a\\u0e39\", \"\\u0e0a\\u0e32\\u0e1a\\u0e39\", \"\\u0e0a\\u0e32\\u0e1a\\u0e39\", \"\\u0e0a\\u0e32\\u0e1a\\u0e39\\u0e0a\\u0e34\", \"\\u0e0a\\u0e32\\u0e1a\\u0e39\\u0e0a\\u0e34\", \"\\u0e0a\\u0e32\\u0e1a\\u0e39\\u0e0a\\u0e34\", \"\\u0e0a\\u0e32\\u0e1a\\u0e39\\u0e0a\\u0e34\", \"\\u0e0a\\u0e32\\u0e1a\\u0e39\\u0e0a\\u0e34\", \"\\u0e0a\\u0e32\\u0e1a\\u0e39\\u0e19\\u0e49\\u0e33\\u0e14\\u0e33\", \"\\u0e0a\\u0e32\\u0e1a\\u0e39\\u0e19\\u0e49\\u0e33\\u0e14\\u0e33\", \"\\u0e0a\\u0e32\\u0e1a\\u0e39\\u0e19\\u0e49\\u0e33\\u0e14\\u0e33\", \"\\u0e0a\\u0e37\\u0e48\\u0e19\", \"\\u0e0a\\u0e37\\u0e48\\u0e2d\", \"\\u0e0b\\u0e2d\\u0e22\\u0e0b\\u0e2d\\u0e2a\", \"\\u0e0b\\u0e38\\u0e1b\", \"\\u0e0b\\u0e38\\u0e1b\", \"\\u0e0b\\u0e38\\u0e1b\", \"\\u0e0b\\u0e38\\u0e1b\", \"\\u0e0b\\u0e39\\u0e0a\\u0e34\", \"\\u0e0b\\u0e39\\u0e0a\\u0e34\", \"\\u0e0b\\u0e39\\u0e0a\\u0e34\", \"\\u0e0b\\u0e39\\u0e0a\\u0e34\", \"\\u0e14\\u0e35\", \"\\u0e14\\u0e35\", \"\\u0e14\\u0e35\", \"\\u0e14\\u0e35\", \"\\u0e14\\u0e35\", \"\\u0e14\\u0e39\", \"\\u0e14\\u0e39\", \"\\u0e15\\u0e01\", \"\\u0e15\\u0e2d\\u0e19\", \"\\u0e15\\u0e2d\\u0e19\", \"\\u0e15\\u0e2d\\u0e19\", \"\\u0e15\\u0e2d\\u0e19\", \"\\u0e15\\u0e30\", \"\\u0e15\\u0e31\\u0e27\", \"\\u0e15\\u0e31\\u0e27\", \"\\u0e15\\u0e31\\u0e27\", \"\\u0e15\\u0e31\\u0e27\", \"\\u0e15\\u0e31\\u0e27\", \"\\u0e15\\u0e34\\u0e14\", \"\\u0e15\\u0e34\\u0e21\", \"\\u0e15\\u0e34\\u0e21\", \"\\u0e15\\u0e34\\u0e21\", \"\\u0e15\\u0e34\\u0e21\", \"\\u0e15\\u0e34\\u0e21\", \"\\u0e16\\u0e31\\u0e48\\u0e27\", \"\\u0e16\\u0e48\\u0e32\\u0e22\", \"\\u0e17\\u0e14\\u0e41\\u0e17\\u0e19\", \"\\u0e17\\u0e2d\\u0e14\", \"\\u0e17\\u0e2d\\u0e14\", \"\\u0e17\\u0e2d\\u0e14\", \"\\u0e17\\u0e2d\\u0e14\", \"\\u0e17\\u0e32\\u0e19\", \"\\u0e17\\u0e32\\u0e19\", \"\\u0e17\\u0e32\\u0e19\", \"\\u0e17\\u0e32\\u0e19\", \"\\u0e17\\u0e32\\u0e19\", \"\\u0e17\\u0e49\\u0e32\\u0e22\", \"\\u0e17\\u0e49\\u0e32\\u0e22\", \"\\u0e18\\u0e23\\u0e23\\u0e21\\u0e14\\u0e32\", \"\\u0e18\\u0e23\\u0e23\\u0e21\\u0e14\\u0e32\", \"\\u0e19\\u0e31\\u0e48\\u0e07\", \"\\u0e19\\u0e31\\u0e48\\u0e07\", \"\\u0e19\\u0e31\\u0e48\\u0e07\", \"\\u0e19\\u0e34\\u0e14\\u0e19\\u0e36\\u0e07\", \"\\u0e19\\u0e36\\u0e01\", \"\\u0e19\\u0e36\\u0e01\", \"\\u0e19\\u0e36\\u0e01\", \"\\u0e19\\u0e36\\u0e01\", \"\\u0e19\\u0e49\\u0e33\", \"\\u0e19\\u0e49\\u0e33\", \"\\u0e19\\u0e49\\u0e33\", \"\\u0e19\\u0e49\\u0e33\", \"\\u0e19\\u0e49\\u0e33\", \"\\u0e19\\u0e49\\u0e33\\u0e08\\u0e34\\u0e49\\u0e21\", \"\\u0e19\\u0e4d\\u0e49\\u0e32\", \"\\u0e1a\\u0e23\\u0e34\\u0e01\\u0e32\\u0e23\", \"\\u0e1a\\u0e23\\u0e34\\u0e01\\u0e32\\u0e23\", \"\\u0e1a\\u0e23\\u0e34\\u0e01\\u0e32\\u0e23\", \"\\u0e1a\\u0e23\\u0e34\\u0e01\\u0e32\\u0e23\", \"\\u0e1a\\u0e32\\u0e07\\u0e01\\u0e30\\u0e1b\\u0e34\", \"\\u0e1a\\u0e32\\u0e17\", \"\\u0e1a\\u0e32\\u0e17\", \"\\u0e1a\\u0e32\\u0e17\", \"\\u0e1a\\u0e32\\u0e17\", \"\\u0e1a\\u0e32\\u0e17\", \"\\u0e1a\\u0e34\\u0e25\", \"\\u0e1a\\u0e38\\u0e1f\\u0e40\\u0e1f\\u0e15\\u0e4c\", \"\\u0e1a\\u0e38\\u0e1f\\u0e40\\u0e1f\\u0e48\", \"\\u0e1a\\u0e38\\u0e1f\\u0e40\\u0e1f\\u0e48\", \"\\u0e1a\\u0e38\\u0e1f\\u0e40\\u0e1f\\u0e48\", \"\\u0e1a\\u0e38\\u0e1f\\u0e40\\u0e1f\\u0e48\", \"\\u0e1a\\u0e38\\u0e1f\\u0e40\\u0e1f\\u0e48\\u0e15\\u0e4c\", \"\\u0e1a\\u0e38\\u0e1f\\u0e40\\u0e1f\\u0e48\\u0e15\\u0e4c\", \"\\u0e1a\\u0e38\\u0e1f\\u0e40\\u0e1f\\u0e48\\u0e15\\u0e4c\", \"\\u0e1a\\u0e4b\\u0e27\\u0e22\\u0e2d\\u0e23\\u0e48\\u0e2d\\u0e22\", \"\\u0e1b\\u0e23\\u0e01\\u0e15\\u0e34\", \"\\u0e1b\\u0e23\\u0e30\\u0e17\\u0e31\\u0e1a\\u0e43\\u0e08\", \"\\u0e1b\\u0e38\\u0e23\\u0e30\", \"\\u0e1c\\u0e31\\u0e01\", \"\\u0e1c\\u0e31\\u0e01\", \"\\u0e1c\\u0e31\\u0e01\", \"\\u0e1c\\u0e31\\u0e01\", \"\\u0e1e\\u0e19\\u0e31\\u0e01\\u0e07\\u0e32\\u0e19\", \"\\u0e1e\\u0e19\\u0e31\\u0e01\\u0e07\\u0e32\\u0e19\", \"\\u0e1e\\u0e19\\u0e31\\u0e01\\u0e07\\u0e32\\u0e19\", \"\\u0e1e\\u0e19\\u0e31\\u0e01\\u0e07\\u0e32\\u0e19\", \"\\u0e1e\\u0e32\\u0e19\", \"\\u0e1e\\u0e32\\u0e19\", \"\\u0e1e\\u0e32\\u0e19\", \"\\u0e1f\\u0e39\\u0e01\\u0e38\", \"\\u0e23\\u0e2a\\u0e0a\\u0e32\\u0e15\\u0e34\", \"\\u0e23\\u0e2a\\u0e0a\\u0e32\\u0e15\\u0e34\", \"\\u0e23\\u0e2a\\u0e0a\\u0e32\\u0e15\\u0e34\", \"\\u0e23\\u0e2a\\u0e0a\\u0e32\\u0e15\\u0e34\", \"\\u0e23\\u0e2a\\u0e0a\\u0e32\\u0e15\\u0e34\", \"\\u0e23\\u0e2d\", \"\\u0e23\\u0e2d\", \"\\u0e23\\u0e2d\\u0e1a\", \"\\u0e23\\u0e32\\u0e04\\u0e32\", \"\\u0e23\\u0e32\\u0e04\\u0e32\", \"\\u0e23\\u0e32\\u0e04\\u0e32\", \"\\u0e23\\u0e32\\u0e04\\u0e32\", \"\\u0e23\\u0e32\\u0e04\\u0e32\", \"\\u0e25\\u0e2d\\u0e07\", \"\\u0e25\\u0e2d\\u0e07\", \"\\u0e27\\u0e31\\u0e27\", \"\\u0e2a\\u0e14\", \"\\u0e2a\\u0e14\", \"\\u0e2a\\u0e14\", \"\\u0e2a\\u0e14\", \"\\u0e2a\\u0e14\", \"\\u0e2a\\u0e30\\u0e2d\\u0e32\\u0e14\", \"\\u0e2a\\u0e31\\u0e19\", \"\\u0e2a\\u0e31\\u0e48\\u0e07\", \"\\u0e2a\\u0e31\\u0e48\\u0e07\", \"\\u0e2a\\u0e31\\u0e48\\u0e07\", \"\\u0e2a\\u0e31\\u0e48\\u0e07\", \"\\u0e2a\\u0e32\\u0e02\\u0e32\", \"\\u0e2a\\u0e32\\u0e02\\u0e32\", \"\\u0e2a\\u0e32\\u0e02\\u0e32\", \"\\u0e2a\\u0e32\\u0e02\\u0e32\", \"\\u0e2a\\u0e32\\u0e02\\u0e32\", \"\\u0e2a\\u0e32\\u0e21\\u0e23\\u0e2a\", \"\\u0e2a\\u0e32\\u0e22\", \"\\u0e2a\\u0e32\\u0e22\", \"\\u0e2a\\u0e32\\u0e22\", \"\\u0e2a\\u0e32\\u0e22\\u0e1e\\u0e32\\u0e19\", \"\\u0e2a\\u0e33\\u0e2b\\u0e23\\u0e31\\u0e1a\", \"\\u0e2b\\u0e19\\u0e49\\u0e32\", \"\\u0e2b\\u0e19\\u0e49\\u0e32\", \"\\u0e2b\\u0e19\\u0e49\\u0e32\", \"\\u0e2b\\u0e19\\u0e49\\u0e32\", \"\\u0e2b\\u0e19\\u0e49\\u0e32\", \"\\u0e2b\\u0e21\\u0e39\", \"\\u0e2b\\u0e21\\u0e39\", \"\\u0e2b\\u0e21\\u0e39\", \"\\u0e2b\\u0e21\\u0e39\", \"\\u0e2b\\u0e21\\u0e49\\u0e2d\", \"\\u0e2b\\u0e21\\u0e49\\u0e2d\", \"\\u0e2b\\u0e21\\u0e49\\u0e2d\", \"\\u0e2b\\u0e22\\u0e34\\u0e1a\", \"\\u0e2b\\u0e22\\u0e34\\u0e1a\", \"\\u0e2b\\u0e22\\u0e34\\u0e1a\", \"\\u0e2b\\u0e25\\u0e31\\u0e01\", \"\\u0e2b\\u0e27\\u0e22\", \"\\u0e2b\\u0e27\\u0e32\\u0e19\", \"\\u0e2b\\u0e27\\u0e32\\u0e19\", \"\\u0e2b\\u0e27\\u0e32\\u0e19\", \"\\u0e2b\\u0e27\\u0e32\\u0e19\", \"\\u0e2b\\u0e27\\u0e32\\u0e19\", \"\\u0e2b\\u0e2d\\u0e21\", \"\\u0e2b\\u0e2d\\u0e21\", \"\\u0e2b\\u0e34\\u0e27\", \"\\u0e2b\\u0e49\\u0e32\\u0e07\", \"\\u0e2b\\u0e49\\u0e32\\u0e07\", \"\\u0e2b\\u0e49\\u0e32\\u0e07\", \"\\u0e2d\\u0e22\\u0e48\\u0e32\\u0e07\", \"\\u0e2d\\u0e23\\u0e48\\u0e2d\\u0e22\", \"\\u0e2d\\u0e23\\u0e48\\u0e2d\\u0e22\", \"\\u0e2d\\u0e23\\u0e48\\u0e2d\\u0e22\", \"\\u0e2d\\u0e23\\u0e48\\u0e2d\\u0e22\", \"\\u0e2d\\u0e23\\u0e48\\u0e2d\\u0e22\", \"\\u0e2d\\u0e32\\u0e2b\\u0e32\\u0e23\", \"\\u0e2d\\u0e32\\u0e2b\\u0e32\\u0e23\", \"\\u0e2d\\u0e32\\u0e2b\\u0e32\\u0e23\", \"\\u0e2d\\u0e32\\u0e2b\\u0e32\\u0e23\", \"\\u0e2d\\u0e32\\u0e2b\\u0e32\\u0e23\", \"\\u0e40\\u0e07\\u0e34\\u0e19\", \"\\u0e40\\u0e0a\\u0e47\\u0e04\", \"\\u0e40\\u0e14\\u0e2d\\u0e30\\u0e21\\u0e2d\\u0e25\\u0e25\\u0e4c\", \"\\u0e40\\u0e15\\u0e47\\u0e21\", \"\\u0e40\\u0e17\\u0e21\", \"\\u0e40\\u0e17\\u0e21\\u0e1b\\u0e38\\u0e23\\u0e30\", \"\\u0e40\\u0e17\\u0e21\\u0e1b\\u0e38\\u0e23\\u0e30\", \"\\u0e40\\u0e17\\u0e35\\u0e22\\u0e1a\", \"\\u0e40\\u0e19\\u0e37\\u0e49\\u0e2d\", \"\\u0e40\\u0e19\\u0e37\\u0e49\\u0e2d\", \"\\u0e40\\u0e19\\u0e37\\u0e49\\u0e2d\", \"\\u0e40\\u0e19\\u0e37\\u0e49\\u0e2d\", \"\\u0e40\\u0e19\\u0e37\\u0e49\\u0e2d\", \"\\u0e40\\u0e19\\u0e37\\u0e49\\u0e2d\\u0e27\\u0e31\\u0e27\", \"\\u0e40\\u0e1b\\u0e47\\u0e14\", \"\\u0e40\\u0e1b\\u0e47\\u0e14\", \"\\u0e40\\u0e1b\\u0e47\\u0e19\\u0e15\\u0e49\\u0e19\", \"\\u0e40\\u0e21\\u0e19\\u0e39\", \"\\u0e40\\u0e21\\u0e19\\u0e39\", \"\\u0e40\\u0e21\\u0e19\\u0e39\", \"\\u0e40\\u0e21\\u0e19\\u0e39\", \"\\u0e40\\u0e21\\u0e19\\u0e39\", \"\\u0e40\\u0e23\\u0e37\\u0e48\\u0e2d\\u0e07\", \"\\u0e40\\u0e25\\u0e34\\u0e01\", \"\\u0e40\\u0e25\\u0e37\\u0e2d\\u0e01\", \"\\u0e40\\u0e25\\u0e37\\u0e2d\\u0e01\", \"\\u0e40\\u0e25\\u0e37\\u0e2d\\u0e01\", \"\\u0e40\\u0e25\\u0e37\\u0e2d\\u0e01\", \"\\u0e40\\u0e25\\u0e37\\u0e2d\\u0e01\", \"\\u0e40\\u0e27\\u0e25\\u0e32\", \"\\u0e40\\u0e27\\u0e25\\u0e32\", \"\\u0e40\\u0e27\\u0e25\\u0e32\", \"\\u0e40\\u0e2a\\u0e34\\u0e23\\u0e4c\\u0e1f\", \"\\u0e40\\u0e2a\\u0e34\\u0e23\\u0e4c\\u0e1f\", \"\\u0e40\\u0e2b\\u0e19\\u0e35\\u0e22\\u0e27\", \"\\u0e40\\u0e2b\\u0e47\\u0e14\", \"\\u0e41\\u0e19\\u0e27\", \"\\u0e41\\u0e19\\u0e30\\u0e19\\u0e33\", \"\\u0e41\\u0e19\\u0e48\\u0e19\\u0e2d\\u0e19\", \"\\u0e41\\u0e1e\\u0e07\", \"\\u0e42\\u0e15\\u0e4a\\u0e30\", \"\\u0e42\\u0e21\", \"\\u0e42\\u0e21\\u0e48\", \"\\u0e43\\u0e08\", \"\\u0e43\\u0e08\", \"\\u0e43\\u0e2a\\u0e48\", \"\\u0e44\\u0e01\\u0e48\", \"\\u0e44\\u0e01\\u0e48\", \"\\u0e44\\u0e14\", \"\\u0e44\\u0e1c\\u0e48\", \"\\u0e44\\u0e21\\u0e49\", \"\\u0e44\\u0e2b\\u0e27\", \"\\u0e44\\u0e2d\", \"\\u0e44\\u0e2d\", \"\\u0e44\\u0e2d\", \"\\u0e44\\u0e2d\", \"\\u0e44\\u0e2d\", \"\\u0e44\\u0e2d\\u0e28\", \"\\u200b \"]}, \"R\": 30, \"lambda.step\": 0.01, \"plot.opts\": {\"xlab\": \"PC1\", \"ylab\": \"PC2\"}, \"topic.order\": [2, 3, 1, 5, 4]};\n",
              "\n",
              "function LDAvis_load_lib(url, callback){\n",
              "  var s = document.createElement('script');\n",
              "  s.src = url;\n",
              "  s.async = true;\n",
              "  s.onreadystatechange = s.onload = callback;\n",
              "  s.onerror = function(){console.warn(\"failed to load library \" + url);};\n",
              "  document.getElementsByTagName(\"head\")[0].appendChild(s);\n",
              "}\n",
              "\n",
              "if(typeof(LDAvis) !== \"undefined\"){\n",
              "   // already loaded: just create the visualization\n",
              "   !function(LDAvis){\n",
              "       new LDAvis(\"#\" + \"ldavis_el247140153208877392403873900\", ldavis_el247140153208877392403873900_data);\n",
              "   }(LDAvis);\n",
              "}else if(typeof define === \"function\" && define.amd){\n",
              "   // require.js is available: use it to load d3/LDAvis\n",
              "   require.config({paths: {d3: \"https://d3js.org/d3.v5\"}});\n",
              "   require([\"d3\"], function(d3){\n",
              "      window.d3 = d3;\n",
              "      LDAvis_load_lib(\"https://cdn.jsdelivr.net/gh/bmabey/pyLDAvis@3.3.1/pyLDAvis/js/ldavis.v3.0.0.js\", function(){\n",
              "        new LDAvis(\"#\" + \"ldavis_el247140153208877392403873900\", ldavis_el247140153208877392403873900_data);\n",
              "      });\n",
              "    });\n",
              "}else{\n",
              "    // require.js not available: dynamically load d3 & LDAvis\n",
              "    LDAvis_load_lib(\"https://d3js.org/d3.v5.js\", function(){\n",
              "         LDAvis_load_lib(\"https://cdn.jsdelivr.net/gh/bmabey/pyLDAvis@3.3.1/pyLDAvis/js/ldavis.v3.0.0.js\", function(){\n",
              "                 new LDAvis(\"#\" + \"ldavis_el247140153208877392403873900\", ldavis_el247140153208877392403873900_data);\n",
              "            })\n",
              "         });\n",
              "}\n",
              "</script>"
            ],
            "text/plain": [
              "PreparedData(topic_coordinates=              x         y  topics  cluster       Freq\n",
              "topic                                                \n",
              "1      0.052827 -0.019655       1        1  44.157173\n",
              "2     -0.043791 -0.031769       2        1  22.700896\n",
              "0      0.004426  0.017427       3        1  13.218764\n",
              "4     -0.013396  0.032089       4        1  12.519259\n",
              "3     -0.000065  0.001907       5        1   7.403907, topic_info=       Term       Freq      Total Category  logprob  loglift\n",
              "68      ทาน  24.000000  24.000000  Default  30.0000  30.0000\n",
              "11       ดี  29.000000  29.000000  Default  29.0000  29.0000\n",
              "145   เลือก  19.000000  19.000000  Default  28.0000  28.0000\n",
              "32    อาหาร  21.000000  21.000000  Default  27.0000  27.0000\n",
              "37    เนื้อ  24.000000  24.000000  Default  26.0000  26.0000\n",
              "..      ...        ...        ...      ...      ...      ...\n",
              "102     จาน   0.478863   4.092157   Topic5  -5.2925   0.4577\n",
              "3       กิน   0.759508  21.662645   Topic5  -4.8312  -0.7475\n",
              "132      สด   0.651873  13.362118   Topic5  -4.9840  -0.4172\n",
              "97       คน   0.644263  15.502810   Topic5  -4.9958  -0.5775\n",
              "22   รสชาติ   0.567293  10.600515   Topic5  -5.1230  -0.3246\n",
              "\n",
              "[342 rows x 6 columns], token_table=      Topic      Freq Term\n",
              "term                      \n",
              "90        2  0.819761     \n",
              "202       3  0.432360    )\n",
              "202       5  0.432360    )\n",
              "0         1  0.702710    1\n",
              "0         2  0.175678    1\n",
              "...     ...       ...  ...\n",
              "45        3  0.166718   ไอ\n",
              "45        4  0.166718   ไอ\n",
              "45        5  0.166718   ไอ\n",
              "250       1  0.921283  ไอศ\n",
              "46        1  0.738219   ​ \n",
              "\n",
              "[329 rows x 3 columns], R=30, lambda_step=0.01, plot_opts={'xlab': 'PC1', 'ylab': 'PC2'}, topic_order=[2, 3, 1, 5, 4])"
            ]
          },
          "metadata": {
            "tags": []
          },
          "execution_count": 529
        }
      ]
    },
    {
      "cell_type": "markdown",
      "metadata": {
        "id": "00NKgRyddDBS"
      },
      "source": [
        "#Review Topic"
      ]
    },
    {
      "cell_type": "code",
      "metadata": {
        "id": "KwvMjfSrrHU0",
        "colab": {
          "base_uri": "https://localhost:8080/"
        },
        "outputId": "3154df32-0c9f-4d3c-802c-d540e76d2618"
      },
      "source": [
        "list_topic = list()\n",
        "for i in range(0,num_topics):\n",
        "  print('topic:',i)\n",
        "  list_topic.append(set(convert_to_topic(model.show_topic(i,20))))\n",
        "  print(list_topic[i])"
      ],
      "execution_count": 547,
      "outputs": [
        {
          "output_type": "stream",
          "text": [
            "topic: 0\n",
            "{'เลือก', 'เนื้อ', 'อาหาร', 'ราคา', 'ซูชิ', 'กุ้ง', 'จิ้ม', 'บาท', 'รสชาติ', 'เมนู', 'สด', 'คุ้ม', 'คน', 'น้ำ', 'ทาน', 'ดี', 'เทมปุระ', 'บุฟเฟ่ต์', 'สาขา', 'อร่อย'}\n",
            "topic: 1\n",
            "{'เวลา', 'เลือก', 'เนื้อ', 'อาหาร', 'ซุป', 'ราคา', 'กุ้ง', 'กิน', 'บาท', 'รสชาติ', 'สด', 'คุ้ม', 'คน', 'น้ำ', 'ทาน', 'ดี', 'หวาน', 'ตัว', 'สาขา', 'อร่อย'}\n",
            "topic: 2\n",
            "{'', 'เลือก', 'เนื้อ', 'อาหาร', 'ชอบ', 'ซุป', 'ราคา', 'กิน', 'ไก่', 'รสชาติ', 'สด', 'คุ้ม', 'น้ำ', 'ทาน', 'ดี', 'หวาน', 'หมู', 'ลอง', 'อร่อย', 'สั่ง'}\n",
            "topic: 3\n",
            "{'สาย', 'เลือก', 'เนื้อ', 'อาหาร', 'หน้า', 'ราคา', 'กิน', 'หม้อ', 'ติม', 'ค่า', 'บาท', 'คุ้ม', 'น้ำ', '3', 'ทาน', 'ดี', 'หวาน', 'ตัว', 'สาขา', 'อร่อย'}\n",
            "topic: 4\n",
            "{'เลือก', 'เนื้อ', 'อาหาร', 'ชอบ', 'ราคา', 'พนักงาน', 'กิน', 'ชาบู', 'บริการ', 'คุ้ม', 'คุณภาพ', 'น้ำ', 'นึก', 'ทาน', 'ดี', 'นั่ง', 'หวาน', 'สาขา', 'อร่อย', 'สั่ง'}\n"
          ],
          "name": "stdout"
        }
      ]
    },
    {
      "cell_type": "markdown",
      "metadata": {
        "id": "H7wLwg1XdHKi"
      },
      "source": [
        "# Find unique Keyword each topic"
      ]
    },
    {
      "cell_type": "code",
      "metadata": {
        "colab": {
          "base_uri": "https://localhost:8080/"
        },
        "id": "w85LieVgA5tU",
        "outputId": "e3e36070-2ca1-4aa5-a55f-55094ce04202"
      },
      "source": [
        "c = list()\n",
        "for i in range(0,num_topics):\n",
        "  a = list_topic[i]\n",
        "  b = set()\n",
        "  for j in range(0,num_topics):\n",
        "    if i != j:\n",
        "      b = b.union(list_topic[j])\n",
        "  a = a-b\n",
        "  c.append(list(a))\n",
        "  print(i,a)"
      ],
      "execution_count": 531,
      "outputs": [
        {
          "output_type": "stream",
          "text": [
            "0 {'เมนู', 'เทมปุระ', 'ซูชิ', 'บุฟเฟ่ต์', 'จิ้ม'}\n",
            "1 {'เวลา'}\n",
            "2 {'', 'หมู', 'ไก่', 'ลอง'}\n",
            "3 {'สาย', 'หม้อ', 'ติม', 'หน้า', 'ค่า', '3'}\n",
            "4 {'ชาบู', 'บริการ', 'คุณภาพ', 'พนักงาน', 'นึก', 'นั่ง'}\n"
          ],
          "name": "stdout"
        }
      ]
    },
    {
      "cell_type": "markdown",
      "metadata": {
        "id": "8J5NFO0MdTZ_"
      },
      "source": [
        "# Find  Keyword Intersection for each topic"
      ]
    },
    {
      "cell_type": "code",
      "metadata": {
        "colab": {
          "base_uri": "https://localhost:8080/"
        },
        "id": "jJIo0y0Maw5x",
        "outputId": "a640121a-58c8-45e4-df43-ed25b6f23608"
      },
      "source": [
        "d = list_topic[0]\n",
        "print(d)\n",
        "for i in range(1,num_topics):\n",
        "  # print(list_topic[i])\n",
        "  d = d.intersection(list_topic[i])\n",
        "  print(i,d)"
      ],
      "execution_count": 548,
      "outputs": [
        {
          "output_type": "stream",
          "text": [
            "{'เลือก', 'เนื้อ', 'อาหาร', 'ราคา', 'ซูชิ', 'กุ้ง', 'จิ้ม', 'บาท', 'รสชาติ', 'เมนู', 'สด', 'คุ้ม', 'คน', 'น้ำ', 'ทาน', 'ดี', 'เทมปุระ', 'บุฟเฟ่ต์', 'สาขา', 'อร่อย'}\n",
            "1 {'เลือก', 'เนื้อ', 'อาหาร', 'สด', 'อร่อย', 'คุ้ม', 'คน', 'บาท', 'น้ำ', 'ราคา', 'รสชาติ', 'ทาน', 'กุ้ง', 'สาขา', 'ดี'}\n",
            "2 {'เลือก', 'เนื้อ', 'อาหาร', 'สด', 'คุ้ม', 'ดี', 'น้ำ', 'ราคา', 'รสชาติ', 'ทาน', 'อร่อย'}\n",
            "3 {'เลือก', 'เนื้อ', 'อาหาร', 'อร่อย', 'คุ้ม', 'น้ำ', 'ราคา', 'ทาน', 'ดี'}\n",
            "4 {'เลือก', 'เนื้อ', 'อาหาร', 'คุ้ม', 'ดี', 'น้ำ', 'ราคา', 'ทาน', 'อร่อย'}\n"
          ],
          "name": "stdout"
        }
      ]
    },
    {
      "cell_type": "code",
      "metadata": {
        "id": "liIeTXgeUHuD"
      },
      "source": [
        "def convert_to_keyword(x):\n",
        "  new_x = str(c[x])\n",
        "  return new_x\n"
      ],
      "execution_count": 534,
      "outputs": []
    },
    {
      "cell_type": "code",
      "metadata": {
        "id": "WcXc7SAu06Nv"
      },
      "source": [
        "def convert_to_topic(x):\n",
        "  new_x = [i[0] for i in x]\n",
        "  return new_x\n"
      ],
      "execution_count": 535,
      "outputs": []
    },
    {
      "cell_type": "code",
      "metadata": {
        "id": "BSPNeUAjujS-"
      },
      "source": [
        "df['topics'] = df['Review_tokenized'].apply(lambda x: model.get_document_topics(dictionary.doc2bow(x.split(',')))[0][0])\n",
        "df['score'] = df['Review_tokenized'].apply(lambda x: model.get_document_topics(dictionary.doc2bow(x.split(',')))[0][1])\n",
        "df['topic_name'] = df['Review_tokenized'].apply(lambda x: model.show_topic(model.get_document_topics(dictionary.doc2bow(x.split(',')))[0][0]))\n",
        "df['topic_name2'] = df['topic_name'].apply(lambda x:convert_to_topic(x))\n",
        "df['keyword'] = df['topics'].apply(lambda x:convert_to_keyword(x))\n",
        "# df2 = df['Review_tokenized'].apply(lambda x: model.get_document_topics(dictionary.doc2bow(x.split(','))))"
      ],
      "execution_count": 536,
      "outputs": []
    },
    {
      "cell_type": "code",
      "metadata": {
        "id": "gqZjJuheum3D",
        "colab": {
          "base_uri": "https://localhost:8080/",
          "height": 1000
        },
        "outputId": "51a6f962-3733-4ce3-b320-3d445b1f4834"
      },
      "source": [
        "df[['Restaurant', 'Review', 'topics','score','topic_name2','keyword']]"
      ],
      "execution_count": 537,
      "outputs": [
        {
          "output_type": "execute_result",
          "data": {
            "text/html": [
              "<div>\n",
              "<style scoped>\n",
              "    .dataframe tbody tr th:only-of-type {\n",
              "        vertical-align: middle;\n",
              "    }\n",
              "\n",
              "    .dataframe tbody tr th {\n",
              "        vertical-align: top;\n",
              "    }\n",
              "\n",
              "    .dataframe thead th {\n",
              "        text-align: right;\n",
              "    }\n",
              "</style>\n",
              "<table border=\"1\" class=\"dataframe\">\n",
              "  <thead>\n",
              "    <tr style=\"text-align: right;\">\n",
              "      <th></th>\n",
              "      <th>Restaurant</th>\n",
              "      <th>Review</th>\n",
              "      <th>topics</th>\n",
              "      <th>score</th>\n",
              "      <th>topic_name2</th>\n",
              "      <th>keyword</th>\n",
              "    </tr>\n",
              "  </thead>\n",
              "  <tbody>\n",
              "    <tr>\n",
              "      <th>0</th>\n",
              "      <td>Mo-Mo-Paradise (โม โม พาราไดซ์) เดอะมอลล์ บางกะปิ</td>\n",
              "      <td>ที่สำคัญของร้านนี้คือบริการดีมากพนักงานน่ารักส...</td>\n",
              "      <td>1</td>\n",
              "      <td>0.998467</td>\n",
              "      <td>[กิน, ดี, น้ำ, อาหาร, คน, เนื้อ, ทาน, ราคา, บา...</td>\n",
              "      <td>['เวลา']</td>\n",
              "    </tr>\n",
              "    <tr>\n",
              "      <th>1</th>\n",
              "      <td>Mo-Mo-Paradise (โม โม พาราไดซ์) เดอะมอลล์ บางกะปิ</td>\n",
              "      <td>นึกถึงชาบูญี่ปุ่นยังไงก็ต้อง คิดถึงโมโม่ พาราไ...</td>\n",
              "      <td>4</td>\n",
              "      <td>0.997341</td>\n",
              "      <td>[ดี, เนื้อ, ทาน, อร่อย, สาขา, น้ำ, เลือก, ราคา...</td>\n",
              "      <td>['ชาบู', 'บริการ', 'คุณภาพ', 'พนักงาน', 'นึก',...</td>\n",
              "    </tr>\n",
              "    <tr>\n",
              "      <th>2</th>\n",
              "      <td>Mo-Mo-Paradise (โม โม พาราไดซ์) เดอะมอลล์ บางกะปิ</td>\n",
              "      <td>มาทานช่วงนี้ สามารถนั่งโต๊ะเดียวกัน หม้อเดียวก...</td>\n",
              "      <td>2</td>\n",
              "      <td>0.999215</td>\n",
              "      <td>[เนื้อ, น้ำ, อร่อย, ทาน, เลือก, , ดี, ราคา, อา...</td>\n",
              "      <td>['', 'หมู', 'ไก่', 'ลอง']</td>\n",
              "    </tr>\n",
              "    <tr>\n",
              "      <th>3</th>\n",
              "      <td>Mo-Mo-Paradise (โม โม พาราไดซ์) เดอะมอลล์ บางกะปิ</td>\n",
              "      <td>ถ้านึกถึงชาบูที่มีเนื้อเน้นๆ ในราคาไม่โหดจนเกิ...</td>\n",
              "      <td>4</td>\n",
              "      <td>0.995929</td>\n",
              "      <td>[ดี, เนื้อ, ทาน, อร่อย, สาขา, น้ำ, เลือก, ราคา...</td>\n",
              "      <td>['ชาบู', 'บริการ', 'คุณภาพ', 'พนักงาน', 'นึก',...</td>\n",
              "    </tr>\n",
              "    <tr>\n",
              "      <th>4</th>\n",
              "      <td>Mo-Mo-Paradise (โม โม พาราไดซ์) เดอะมอลล์ บางกะปิ</td>\n",
              "      <td>เดินมาหน้าร้านแล้วได้กลิ่นชาบูหอมมาก ๆ  ประกอบ...</td>\n",
              "      <td>4</td>\n",
              "      <td>0.996865</td>\n",
              "      <td>[ดี, เนื้อ, ทาน, อร่อย, สาขา, น้ำ, เลือก, ราคา...</td>\n",
              "      <td>['ชาบู', 'บริการ', 'คุณภาพ', 'พนักงาน', 'นึก',...</td>\n",
              "    </tr>\n",
              "    <tr>\n",
              "      <th>5</th>\n",
              "      <td>Mo-Mo-Paradise (โม โม พาราไดซ์) เดอะมอลล์ บางกะปิ</td>\n",
              "      <td>ร้านบุฟเฟ่ ชาบูแนวญี่ปุ่น สายเนื้อหมู เนื้อวัว...</td>\n",
              "      <td>2</td>\n",
              "      <td>0.996423</td>\n",
              "      <td>[เนื้อ, น้ำ, อร่อย, ทาน, เลือก, , ดี, ราคา, อา...</td>\n",
              "      <td>['', 'หมู', 'ไก่', 'ลอง']</td>\n",
              "    </tr>\n",
              "    <tr>\n",
              "      <th>6</th>\n",
              "      <td>Mo-Mo-Paradise (โม โม พาราไดซ์) เดอะมอลล์ บางกะปิ</td>\n",
              "      <td>Number 20 : โมโม – พาราไดส์ (สาขาเดอะมอลบางกะป...</td>\n",
              "      <td>0</td>\n",
              "      <td>0.997597</td>\n",
              "      <td>[ทาน, อาหาร, ดี, น้ำ, เลือก, เนื้อ, กุ้ง, ราคา...</td>\n",
              "      <td>['เมนู', 'เทมปุระ', 'ซูชิ', 'บุฟเฟ่ต์', 'จิ้ม']</td>\n",
              "    </tr>\n",
              "    <tr>\n",
              "      <th>7</th>\n",
              "      <td>Mo-Mo-Paradise (โม โม พาราไดซ์) เดอะมอลล์ บางกะปิ</td>\n",
              "      <td>ร้านชาบูเฟรนไชส์รสชาติดีมากคุ้มค่าเหมาะสมกับรา...</td>\n",
              "      <td>1</td>\n",
              "      <td>0.997976</td>\n",
              "      <td>[กิน, ดี, น้ำ, อาหาร, คน, เนื้อ, ทาน, ราคา, บา...</td>\n",
              "      <td>['เวลา']</td>\n",
              "    </tr>\n",
              "    <tr>\n",
              "      <th>8</th>\n",
              "      <td>Shabushi (ชาบูชิ) เดอะมอลล์บางกะปิ ชั้น G</td>\n",
              "      <td>มา านที่ขาบูชิต้องมาตอนหิว ไม่งั้นจะไม่คุ้มนะค...</td>\n",
              "      <td>1</td>\n",
              "      <td>0.996851</td>\n",
              "      <td>[กิน, ดี, น้ำ, อาหาร, คน, เนื้อ, ทาน, ราคา, บา...</td>\n",
              "      <td>['เวลา']</td>\n",
              "    </tr>\n",
              "    <tr>\n",
              "      <th>9</th>\n",
              "      <td>Shabushi (ชาบูชิ) เดอะมอลล์บางกะปิ ชั้น G</td>\n",
              "      <td>ใครชอบกุ้งทอดเทมปุระ แค่กุ้งเทมปุระก็คุ้มแล้ว ...</td>\n",
              "      <td>0</td>\n",
              "      <td>0.997447</td>\n",
              "      <td>[ทาน, อาหาร, ดี, น้ำ, เลือก, เนื้อ, กุ้ง, ราคา...</td>\n",
              "      <td>['เมนู', 'เทมปุระ', 'ซูชิ', 'บุฟเฟ่ต์', 'จิ้ม']</td>\n",
              "    </tr>\n",
              "    <tr>\n",
              "      <th>10</th>\n",
              "      <td>Shabushi (ชาบูชิ) เดอะมอลล์บางกะปิ ชั้น G</td>\n",
              "      <td>กลับมาอัพเดทราคาชาบูชิ ตอนนี้อยู่ที่ 399 บาท n...</td>\n",
              "      <td>0</td>\n",
              "      <td>0.996292</td>\n",
              "      <td>[ทาน, อาหาร, ดี, น้ำ, เลือก, เนื้อ, กุ้ง, ราคา...</td>\n",
              "      <td>['เมนู', 'เทมปุระ', 'ซูชิ', 'บุฟเฟ่ต์', 'จิ้ม']</td>\n",
              "    </tr>\n",
              "    <tr>\n",
              "      <th>11</th>\n",
              "      <td>Shabushi (ชาบูชิ) เดอะมอลล์บางกะปิ ชั้น G</td>\n",
              "      <td>ห่างหายไปนานสำหรับชาบูชิ ตั้งแต่ทางร้านได้ปรับ...</td>\n",
              "      <td>1</td>\n",
              "      <td>0.999498</td>\n",
              "      <td>[กิน, ดี, น้ำ, อาหาร, คน, เนื้อ, ทาน, ราคา, บา...</td>\n",
              "      <td>['เวลา']</td>\n",
              "    </tr>\n",
              "    <tr>\n",
              "      <th>12</th>\n",
              "      <td>Shabushi (ชาบูชิ) เดอะมอลล์บางกะปิ ชั้น G</td>\n",
              "      <td>เมื่อหลายวันก่อนนัดหาข้าวทานกับเดอะแกงค์ และก็...</td>\n",
              "      <td>0</td>\n",
              "      <td>0.996778</td>\n",
              "      <td>[ทาน, อาหาร, ดี, น้ำ, เลือก, เนื้อ, กุ้ง, ราคา...</td>\n",
              "      <td>['เมนู', 'เทมปุระ', 'ซูชิ', 'บุฟเฟ่ต์', 'จิ้ม']</td>\n",
              "    </tr>\n",
              "    <tr>\n",
              "      <th>13</th>\n",
              "      <td>Shabushi (ชาบูชิ) เดอะมอลล์บางกะปิ ชั้น G</td>\n",
              "      <td>บอกตรงๆว่าหลายครั้งที่เลือกจะกินบุฟเฟต์จะต้องอ...</td>\n",
              "      <td>1</td>\n",
              "      <td>0.998150</td>\n",
              "      <td>[กิน, ดี, น้ำ, อาหาร, คน, เนื้อ, ทาน, ราคา, บา...</td>\n",
              "      <td>['เวลา']</td>\n",
              "    </tr>\n",
              "    <tr>\n",
              "      <th>14</th>\n",
              "      <td>Shabushi (ชาบูชิ) เดอะมอลล์บางกะปิ ชั้น G</td>\n",
              "      <td>สวัสดีครับวันนี้จะขอมารีวิวร้านชาบูชิ บุฟเฟขวั...</td>\n",
              "      <td>2</td>\n",
              "      <td>0.996423</td>\n",
              "      <td>[เนื้อ, น้ำ, อร่อย, ทาน, เลือก, , ดี, ราคา, อา...</td>\n",
              "      <td>['', 'หมู', 'ไก่', 'ลอง']</td>\n",
              "    </tr>\n",
              "    <tr>\n",
              "      <th>15</th>\n",
              "      <td>Shabushi (ชาบูชิ) เดอะมอลล์บางกะปิ ชั้น G</td>\n",
              "      <td>ชาบูชิ สาขาเดอะมอลล์บางกะปิ ตั้งอยู่ประตูหน้าห...</td>\n",
              "      <td>3</td>\n",
              "      <td>0.998592</td>\n",
              "      <td>[ดี, ทาน, เลือก, อาหาร, เนื้อ, ราคา, น้ำ, ค่า,...</td>\n",
              "      <td>['สาย', 'หม้อ', 'ติม', 'หน้า', 'ค่า', '3']</td>\n",
              "    </tr>\n",
              "    <tr>\n",
              "      <th>16</th>\n",
              "      <td>ข้าน้อยขอชาบู</td>\n",
              "      <td>หลังจากที่เคยลองสาขายูเนี่ยนมอลล์ไป รอบนี้มาที...</td>\n",
              "      <td>1</td>\n",
              "      <td>0.998588</td>\n",
              "      <td>[กิน, ดี, น้ำ, อาหาร, คน, เนื้อ, ทาน, ราคา, บา...</td>\n",
              "      <td>['เวลา']</td>\n",
              "    </tr>\n",
              "    <tr>\n",
              "      <th>17</th>\n",
              "      <td>ข้าน้อยขอชาบู</td>\n",
              "      <td>ร้านบุฟเฟ่ต์ที่มีโปรโมชั่นหัวละ199บาท ไม่รวมน้...</td>\n",
              "      <td>1</td>\n",
              "      <td>0.998297</td>\n",
              "      <td>[กิน, ดี, น้ำ, อาหาร, คน, เนื้อ, ทาน, ราคา, บา...</td>\n",
              "      <td>['เวลา']</td>\n",
              "    </tr>\n",
              "    <tr>\n",
              "      <th>18</th>\n",
              "      <td>ข้าน้อยขอชาบู</td>\n",
              "      <td>เคยรู้จักร้านนี้จากที่ union mall ไม่เคยได้ลอง...</td>\n",
              "      <td>2</td>\n",
              "      <td>0.996892</td>\n",
              "      <td>[เนื้อ, น้ำ, อร่อย, ทาน, เลือก, , ดี, ราคา, อา...</td>\n",
              "      <td>['', 'หมู', 'ไก่', 'ลอง']</td>\n",
              "    </tr>\n",
              "    <tr>\n",
              "      <th>19</th>\n",
              "      <td>ข้าน้อยขอชาบู</td>\n",
              "      <td>อร่อยมากค่ะ คุ้มค่าสมราคา บุฟเฟ่หมูผักต่างๆ รว...</td>\n",
              "      <td>4</td>\n",
              "      <td>0.997341</td>\n",
              "      <td>[ดี, เนื้อ, ทาน, อร่อย, สาขา, น้ำ, เลือก, ราคา...</td>\n",
              "      <td>['ชาบู', 'บริการ', 'คุณภาพ', 'พนักงาน', 'นึก',...</td>\n",
              "    </tr>\n",
              "    <tr>\n",
              "      <th>20</th>\n",
              "      <td>ข้าน้อยขอชาบู</td>\n",
              "      <td>ก็ตามที่เขียนเลยครับ ว่า ถ้าจะจ่ายในราคา 199 บ...</td>\n",
              "      <td>2</td>\n",
              "      <td>0.996808</td>\n",
              "      <td>[เนื้อ, น้ำ, อร่อย, ทาน, เลือก, , ดี, ราคา, อา...</td>\n",
              "      <td>['', 'หมู', 'ไก่', 'ลอง']</td>\n",
              "    </tr>\n",
              "  </tbody>\n",
              "</table>\n",
              "</div>"
            ],
            "text/plain": [
              "                                           Restaurant  ...                                            keyword\n",
              "0   Mo-Mo-Paradise (โม โม พาราไดซ์) เดอะมอลล์ บางกะปิ  ...                                           ['เวลา']\n",
              "1   Mo-Mo-Paradise (โม โม พาราไดซ์) เดอะมอลล์ บางกะปิ  ...  ['ชาบู', 'บริการ', 'คุณภาพ', 'พนักงาน', 'นึก',...\n",
              "2   Mo-Mo-Paradise (โม โม พาราไดซ์) เดอะมอลล์ บางกะปิ  ...                          ['', 'หมู', 'ไก่', 'ลอง']\n",
              "3   Mo-Mo-Paradise (โม โม พาราไดซ์) เดอะมอลล์ บางกะปิ  ...  ['ชาบู', 'บริการ', 'คุณภาพ', 'พนักงาน', 'นึก',...\n",
              "4   Mo-Mo-Paradise (โม โม พาราไดซ์) เดอะมอลล์ บางกะปิ  ...  ['ชาบู', 'บริการ', 'คุณภาพ', 'พนักงาน', 'นึก',...\n",
              "5   Mo-Mo-Paradise (โม โม พาราไดซ์) เดอะมอลล์ บางกะปิ  ...                          ['', 'หมู', 'ไก่', 'ลอง']\n",
              "6   Mo-Mo-Paradise (โม โม พาราไดซ์) เดอะมอลล์ บางกะปิ  ...    ['เมนู', 'เทมปุระ', 'ซูชิ', 'บุฟเฟ่ต์', 'จิ้ม']\n",
              "7   Mo-Mo-Paradise (โม โม พาราไดซ์) เดอะมอลล์ บางกะปิ  ...                                           ['เวลา']\n",
              "8           Shabushi (ชาบูชิ) เดอะมอลล์บางกะปิ ชั้น G  ...                                           ['เวลา']\n",
              "9           Shabushi (ชาบูชิ) เดอะมอลล์บางกะปิ ชั้น G  ...    ['เมนู', 'เทมปุระ', 'ซูชิ', 'บุฟเฟ่ต์', 'จิ้ม']\n",
              "10          Shabushi (ชาบูชิ) เดอะมอลล์บางกะปิ ชั้น G  ...    ['เมนู', 'เทมปุระ', 'ซูชิ', 'บุฟเฟ่ต์', 'จิ้ม']\n",
              "11          Shabushi (ชาบูชิ) เดอะมอลล์บางกะปิ ชั้น G  ...                                           ['เวลา']\n",
              "12          Shabushi (ชาบูชิ) เดอะมอลล์บางกะปิ ชั้น G  ...    ['เมนู', 'เทมปุระ', 'ซูชิ', 'บุฟเฟ่ต์', 'จิ้ม']\n",
              "13          Shabushi (ชาบูชิ) เดอะมอลล์บางกะปิ ชั้น G  ...                                           ['เวลา']\n",
              "14          Shabushi (ชาบูชิ) เดอะมอลล์บางกะปิ ชั้น G  ...                          ['', 'หมู', 'ไก่', 'ลอง']\n",
              "15          Shabushi (ชาบูชิ) เดอะมอลล์บางกะปิ ชั้น G  ...         ['สาย', 'หม้อ', 'ติม', 'หน้า', 'ค่า', '3']\n",
              "16                                      ข้าน้อยขอชาบู  ...                                           ['เวลา']\n",
              "17                                      ข้าน้อยขอชาบู  ...                                           ['เวลา']\n",
              "18                                      ข้าน้อยขอชาบู  ...                          ['', 'หมู', 'ไก่', 'ลอง']\n",
              "19                                      ข้าน้อยขอชาบู  ...  ['ชาบู', 'บริการ', 'คุณภาพ', 'พนักงาน', 'นึก',...\n",
              "20                                      ข้าน้อยขอชาบู  ...                          ['', 'หมู', 'ไก่', 'ลอง']\n",
              "\n",
              "[21 rows x 6 columns]"
            ]
          },
          "metadata": {
            "tags": []
          },
          "execution_count": 537
        }
      ]
    },
    {
      "cell_type": "code",
      "metadata": {
        "id": "xrQFqz3MpGhV"
      },
      "source": [
        "df[[ 'Review', 'topics','score','topic_name2','keyword']].to_csv('out.csv', index=False)"
      ],
      "execution_count": 401,
      "outputs": []
    },
    {
      "cell_type": "markdown",
      "metadata": {
        "id": "TsV5qUPo5l0m"
      },
      "source": [
        "#Result"
      ]
    },
    {
      "cell_type": "markdown",
      "metadata": {
        "id": "nlmoy1f0f3J9"
      },
      "source": [
        "จากการทดสอบพบว่า Topic Name สามารถแบ่งได้เป็น 5 Topic จากที่ดูจาก LDA Bubble chart พบว่า สามารถแบ่งกลุ่ม ได้แยกจากกันมากที่ ซึ่งโดย\n",
        "ทุกๆ Topic มี Keyword ร่วมกัน โดยจากการทำ intersect topic name กับทุกๆ Topic คือ\n",
        "\n",
        "'เลือก', 'เนื้อ', 'อาหาร', 'คุ้ม', 'ดี', 'น้ำ', 'ราคา', 'ทาน', 'อร่อย'\n",
        "ซึ่งในแต่ละ Review โดยส่วนใหญ่ มีพูดถึง เนื้อ อาหาร น้ำซุป ราคาอาหาร กิน ดี มีของหวาน\n",
        "แต่ก็จะมีบาง Topic จะมีเอกลักษณ์ที่พูดถึงแตกต่างกันไป ซึ่งดูจาก Different keywork ของแต่ละ Topic\n",
        "* Topic 0 พูดถึง เมนูเทมปุระ ซูชิ น้ำจิ้ม (accurancy : 55%)\n",
        "* Topic 1 พูดถึง เวลา (accurancy : 28%)\n",
        "* Topic 2 พูดถึง หมู ไก่ ลองกิน (accurancy : 70%)\n",
        "* Topic 3 พูดถึง สาย หม้อ ไอติม (accurancy : 100%)\n",
        "* Topic 4 พูดถึง ชาบู บริการ คุณภาพ พนักงาน (accurancy : 46%)\n",
        "\n",
        "ดังนั้นแต่ละ Topic ควรชื่อว่า\n",
        "* Topic 0 คุ้มดีเนื้ออร่อย มีเทมปุระ ซูชิ และน้ำจิ้ม\n",
        "* Topic 1 คุ้มดีเนื้ออร่อย มีเวลา\n",
        "* Topic 2 คุ้มดีเนื้ออร่อย มีลองกินหมูไก่\n",
        "* Topic 3 คุ้มดีเนื้ออร่อย มีหม้อมีไอติม\n",
        "* Topic 4 คุ้มดีชาบูอร่อย พนักงานบริการคุณภาพ\n"
      ]
    },
    {
      "cell_type": "code",
      "metadata": {
        "colab": {
          "base_uri": "https://localhost:8080/"
        },
        "id": "kPYuZMH2jZpm",
        "outputId": "1c857b34-6998-4e86-9f04-50147e4bf2ef"
      },
      "source": [
        "#Evaluate\n",
        "for i in c:\n",
        "  g = list()\n",
        "  for j in list(i):\n",
        "    # print(i,j)\n",
        "    g.append(df[df[\"keyword\"].str.contains(j)&df[\"Review\"].str.contains(j)]['Review'].count()/df[df[\"keyword\"].str.contains(j)]['keyword'].count())\n",
        "  print(i,\"\\naccurancy:\",sum(g)/len(g))\n"
      ],
      "execution_count": 549,
      "outputs": [
        {
          "output_type": "stream",
          "text": [
            "['เมนู', 'เทมปุระ', 'ซูชิ', 'บุฟเฟ่ต์', 'จิ้ม'] \n",
            "accurancy: 0.55\n",
            "['เวลา'] \n",
            "accurancy: 0.2857142857142857\n",
            "['', 'หมู', 'ไก่', 'ลอง'] \n",
            "accurancy: 0.7\n",
            "['สาย', 'หม้อ', 'ติม', 'หน้า', 'ค่า', '3'] \n",
            "accurancy: 1.0\n",
            "['ชาบู', 'บริการ', 'คุณภาพ', 'พนักงาน', 'นึก', 'นั่ง'] \n",
            "accurancy: 0.4583333333333333\n"
          ],
          "name": "stdout"
        }
      ]
    },
    {
      "cell_type": "code",
      "metadata": {
        "id": "hBAe5EbluiIJ"
      },
      "source": [
        ""
      ],
      "execution_count": null,
      "outputs": []
    }
  ]
}