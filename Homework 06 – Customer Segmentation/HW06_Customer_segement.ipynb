{
  "nbformat": 4,
  "nbformat_minor": 0,
  "metadata": {
    "colab": {
      "name": "HW06_Customer_segement.ipynb",
      "provenance": [],
      "collapsed_sections": []
    },
    "kernelspec": {
      "name": "python3",
      "display_name": "Python 3"
    },
    "language_info": {
      "name": "python"
    }
  },
  "cells": [
    {
      "cell_type": "code",
      "metadata": {
        "id": "SlK0Ci_y1fP6"
      },
      "source": [
        "\n",
        "# Import packages\n",
        "import os\n",
        "\n",
        "import matplotlib.pyplot as plt\n",
        "import pandas as pd\n",
        "import numpy as np\n",
        "\n",
        "%matplotlib inline \n",
        "from sklearn.cluster import KMeans\n",
        "from sklearn.metrics import silhouette_samples, silhouette_score\n",
        "from sklearn import datasets\n",
        "\n",
        "from sklearn.model_selection import train_test_split\n",
        "from sklearn.ensemble import RandomForestRegressor\n",
        "from sklearn.inspection import permutation_importance"
      ],
      "execution_count": 3,
      "outputs": []
    },
    {
      "cell_type": "markdown",
      "metadata": {
        "id": "rD2IbkfWdyHD"
      },
      "source": [
        "Preprocessing"
      ]
    },
    {
      "cell_type": "code",
      "metadata": {
        "id": "Oqiv8_6Udxvs"
      },
      "source": [
        "df = pd.read_csv('Supermarket Data.csv')"
      ],
      "execution_count": 7,
      "outputs": []
    },
    {
      "cell_type": "code",
      "metadata": {
        "colab": {
          "base_uri": "https://localhost:8080/"
        },
        "id": "yLR5OPHVeika",
        "outputId": "df769633-2aab-47a9-b76a-31cbe423dcb3"
      },
      "source": [
        "df.head"
      ],
      "execution_count": 8,
      "outputs": [
        {
          "output_type": "execute_result",
          "data": {
            "text/plain": [
              "<bound method NDFrame.head of         SHOP_WEEK  SHOP_DATE  ...  STORE_FORMAT  STORE_REGION\n",
              "0          200732   20071005  ...            LS           E02\n",
              "1          200733   20071010  ...            LS           E02\n",
              "2          200741   20071209  ...            LS           E02\n",
              "3          200731   20070929  ...            LS           E02\n",
              "4          200737   20071110  ...            LS           E02\n",
              "...           ...        ...  ...           ...           ...\n",
              "956569     200617   20060622  ...            LS           W01\n",
              "956570     200633   20061013  ...            LS           W01\n",
              "956571     200617   20060622  ...            LS           W01\n",
              "956572     200619   20060706  ...            LS           W01\n",
              "956573     200635   20061023  ...            LS           W01\n",
              "\n",
              "[956574 rows x 22 columns]>"
            ]
          },
          "metadata": {
            "tags": []
          },
          "execution_count": 8
        }
      ]
    },
    {
      "cell_type": "code",
      "metadata": {
        "colab": {
          "base_uri": "https://localhost:8080/"
        },
        "id": "li77eXSZemkO",
        "outputId": "5c92102b-5332-4334-f2ba-da65b91a8c3d"
      },
      "source": [
        "print(df.shape)\n",
        "print(df.columns)\n",
        "print(df.info())"
      ],
      "execution_count": 9,
      "outputs": [
        {
          "output_type": "stream",
          "text": [
            "(956574, 22)\n",
            "Index(['SHOP_WEEK', 'SHOP_DATE', 'SHOP_WEEKDAY', 'SHOP_HOUR', 'QUANTITY',\n",
            "       'SPEND', 'PROD_CODE', 'PROD_CODE_10', 'PROD_CODE_20', 'PROD_CODE_30',\n",
            "       'PROD_CODE_40', 'CUST_CODE', 'CUST_PRICE_SENSITIVITY', 'CUST_LIFESTAGE',\n",
            "       'BASKET_ID', 'BASKET_SIZE', 'BASKET_PRICE_SENSITIVITY', 'BASKET_TYPE',\n",
            "       'BASKET_DOMINANT_MISSION', 'STORE_CODE', 'STORE_FORMAT',\n",
            "       'STORE_REGION'],\n",
            "      dtype='object')\n",
            "<class 'pandas.core.frame.DataFrame'>\n",
            "RangeIndex: 956574 entries, 0 to 956573\n",
            "Data columns (total 22 columns):\n",
            " #   Column                    Non-Null Count   Dtype  \n",
            "---  ------                    --------------   -----  \n",
            " 0   SHOP_WEEK                 956574 non-null  int64  \n",
            " 1   SHOP_DATE                 956574 non-null  int64  \n",
            " 2   SHOP_WEEKDAY              956574 non-null  int64  \n",
            " 3   SHOP_HOUR                 956574 non-null  int64  \n",
            " 4   QUANTITY                  956574 non-null  int64  \n",
            " 5   SPEND                     956574 non-null  float64\n",
            " 6   PROD_CODE                 956574 non-null  object \n",
            " 7   PROD_CODE_10              956574 non-null  object \n",
            " 8   PROD_CODE_20              956574 non-null  object \n",
            " 9   PROD_CODE_30              956574 non-null  object \n",
            " 10  PROD_CODE_40              956574 non-null  object \n",
            " 11  CUST_CODE                 802892 non-null  object \n",
            " 12  CUST_PRICE_SENSITIVITY    802892 non-null  object \n",
            " 13  CUST_LIFESTAGE            697259 non-null  object \n",
            " 14  BASKET_ID                 956574 non-null  int64  \n",
            " 15  BASKET_SIZE               956574 non-null  object \n",
            " 16  BASKET_PRICE_SENSITIVITY  956574 non-null  object \n",
            " 17  BASKET_TYPE               956574 non-null  object \n",
            " 18  BASKET_DOMINANT_MISSION   956574 non-null  object \n",
            " 19  STORE_CODE                956574 non-null  object \n",
            " 20  STORE_FORMAT              956574 non-null  object \n",
            " 21  STORE_REGION              956574 non-null  object \n",
            "dtypes: float64(1), int64(6), object(15)\n",
            "memory usage: 160.6+ MB\n",
            "None\n"
          ],
          "name": "stdout"
        }
      ]
    },
    {
      "cell_type": "code",
      "metadata": {
        "colab": {
          "base_uri": "https://localhost:8080/",
          "height": 297
        },
        "id": "124bJmRFe74W",
        "outputId": "46a43228-c176-4ed9-ad9d-9b38669dc08a"
      },
      "source": [
        "df.describe()"
      ],
      "execution_count": 10,
      "outputs": [
        {
          "output_type": "execute_result",
          "data": {
            "text/html": [
              "<div>\n",
              "<style scoped>\n",
              "    .dataframe tbody tr th:only-of-type {\n",
              "        vertical-align: middle;\n",
              "    }\n",
              "\n",
              "    .dataframe tbody tr th {\n",
              "        vertical-align: top;\n",
              "    }\n",
              "\n",
              "    .dataframe thead th {\n",
              "        text-align: right;\n",
              "    }\n",
              "</style>\n",
              "<table border=\"1\" class=\"dataframe\">\n",
              "  <thead>\n",
              "    <tr style=\"text-align: right;\">\n",
              "      <th></th>\n",
              "      <th>SHOP_WEEK</th>\n",
              "      <th>SHOP_DATE</th>\n",
              "      <th>SHOP_WEEKDAY</th>\n",
              "      <th>SHOP_HOUR</th>\n",
              "      <th>QUANTITY</th>\n",
              "      <th>SPEND</th>\n",
              "      <th>BASKET_ID</th>\n",
              "    </tr>\n",
              "  </thead>\n",
              "  <tbody>\n",
              "    <tr>\n",
              "      <th>count</th>\n",
              "      <td>956574.000000</td>\n",
              "      <td>9.565740e+05</td>\n",
              "      <td>956574.000000</td>\n",
              "      <td>956574.000000</td>\n",
              "      <td>956574.000000</td>\n",
              "      <td>956574.000000</td>\n",
              "      <td>9.565740e+05</td>\n",
              "    </tr>\n",
              "    <tr>\n",
              "      <th>mean</th>\n",
              "      <td>200702.251671</td>\n",
              "      <td>2.006970e+07</td>\n",
              "      <td>3.996021</td>\n",
              "      <td>14.950665</td>\n",
              "      <td>1.514577</td>\n",
              "      <td>1.871697</td>\n",
              "      <td>9.941059e+14</td>\n",
              "    </tr>\n",
              "    <tr>\n",
              "      <th>std</th>\n",
              "      <td>65.857803</td>\n",
              "      <td>7.160957e+03</td>\n",
              "      <td>1.997058</td>\n",
              "      <td>3.636119</td>\n",
              "      <td>1.621021</td>\n",
              "      <td>2.767820</td>\n",
              "      <td>3.332150e+09</td>\n",
              "    </tr>\n",
              "    <tr>\n",
              "      <th>min</th>\n",
              "      <td>200607.000000</td>\n",
              "      <td>2.006041e+07</td>\n",
              "      <td>1.000000</td>\n",
              "      <td>8.000000</td>\n",
              "      <td>1.000000</td>\n",
              "      <td>0.010000</td>\n",
              "      <td>9.941001e+14</td>\n",
              "    </tr>\n",
              "    <tr>\n",
              "      <th>25%</th>\n",
              "      <td>200637.000000</td>\n",
              "      <td>2.006111e+07</td>\n",
              "      <td>2.000000</td>\n",
              "      <td>12.000000</td>\n",
              "      <td>1.000000</td>\n",
              "      <td>0.750000</td>\n",
              "      <td>9.941031e+14</td>\n",
              "    </tr>\n",
              "    <tr>\n",
              "      <th>50%</th>\n",
              "      <td>200713.000000</td>\n",
              "      <td>2.007052e+07</td>\n",
              "      <td>4.000000</td>\n",
              "      <td>15.000000</td>\n",
              "      <td>1.000000</td>\n",
              "      <td>1.200000</td>\n",
              "      <td>9.941059e+14</td>\n",
              "    </tr>\n",
              "    <tr>\n",
              "      <th>75%</th>\n",
              "      <td>200742.000000</td>\n",
              "      <td>2.007121e+07</td>\n",
              "      <td>6.000000</td>\n",
              "      <td>18.000000</td>\n",
              "      <td>1.000000</td>\n",
              "      <td>2.060000</td>\n",
              "      <td>9.941088e+14</td>\n",
              "    </tr>\n",
              "    <tr>\n",
              "      <th>max</th>\n",
              "      <td>200819.000000</td>\n",
              "      <td>2.008071e+07</td>\n",
              "      <td>7.000000</td>\n",
              "      <td>21.000000</td>\n",
              "      <td>129.000000</td>\n",
              "      <td>476.160000</td>\n",
              "      <td>9.941117e+14</td>\n",
              "    </tr>\n",
              "  </tbody>\n",
              "</table>\n",
              "</div>"
            ],
            "text/plain": [
              "           SHOP_WEEK     SHOP_DATE  ...          SPEND     BASKET_ID\n",
              "count  956574.000000  9.565740e+05  ...  956574.000000  9.565740e+05\n",
              "mean   200702.251671  2.006970e+07  ...       1.871697  9.941059e+14\n",
              "std        65.857803  7.160957e+03  ...       2.767820  3.332150e+09\n",
              "min    200607.000000  2.006041e+07  ...       0.010000  9.941001e+14\n",
              "25%    200637.000000  2.006111e+07  ...       0.750000  9.941031e+14\n",
              "50%    200713.000000  2.007052e+07  ...       1.200000  9.941059e+14\n",
              "75%    200742.000000  2.007121e+07  ...       2.060000  9.941088e+14\n",
              "max    200819.000000  2.008071e+07  ...     476.160000  9.941117e+14\n",
              "\n",
              "[8 rows x 7 columns]"
            ]
          },
          "metadata": {
            "tags": []
          },
          "execution_count": 10
        }
      ]
    },
    {
      "cell_type": "code",
      "metadata": {
        "colab": {
          "base_uri": "https://localhost:8080/",
          "height": 419
        },
        "id": "75qxbHVXGCX3",
        "outputId": "4cf7c034-3310-4cdb-d1c8-03d20ea6edf9"
      },
      "source": [
        "df[['CUST_CODE','CUST_LIFESTAGE','STORE_REGION']]"
      ],
      "execution_count": 11,
      "outputs": [
        {
          "output_type": "execute_result",
          "data": {
            "text/html": [
              "<div>\n",
              "<style scoped>\n",
              "    .dataframe tbody tr th:only-of-type {\n",
              "        vertical-align: middle;\n",
              "    }\n",
              "\n",
              "    .dataframe tbody tr th {\n",
              "        vertical-align: top;\n",
              "    }\n",
              "\n",
              "    .dataframe thead th {\n",
              "        text-align: right;\n",
              "    }\n",
              "</style>\n",
              "<table border=\"1\" class=\"dataframe\">\n",
              "  <thead>\n",
              "    <tr style=\"text-align: right;\">\n",
              "      <th></th>\n",
              "      <th>CUST_CODE</th>\n",
              "      <th>CUST_LIFESTAGE</th>\n",
              "      <th>STORE_REGION</th>\n",
              "    </tr>\n",
              "  </thead>\n",
              "  <tbody>\n",
              "    <tr>\n",
              "      <th>0</th>\n",
              "      <td>CUST0000583261</td>\n",
              "      <td>YF</td>\n",
              "      <td>E02</td>\n",
              "    </tr>\n",
              "    <tr>\n",
              "      <th>1</th>\n",
              "      <td>CUST0000537317</td>\n",
              "      <td>OF</td>\n",
              "      <td>E02</td>\n",
              "    </tr>\n",
              "    <tr>\n",
              "      <th>2</th>\n",
              "      <td>CUST0000472158</td>\n",
              "      <td>YF</td>\n",
              "      <td>E02</td>\n",
              "    </tr>\n",
              "    <tr>\n",
              "      <th>3</th>\n",
              "      <td>CUST0000099658</td>\n",
              "      <td>OF</td>\n",
              "      <td>E02</td>\n",
              "    </tr>\n",
              "    <tr>\n",
              "      <th>4</th>\n",
              "      <td>NaN</td>\n",
              "      <td>NaN</td>\n",
              "      <td>E02</td>\n",
              "    </tr>\n",
              "    <tr>\n",
              "      <th>...</th>\n",
              "      <td>...</td>\n",
              "      <td>...</td>\n",
              "      <td>...</td>\n",
              "    </tr>\n",
              "    <tr>\n",
              "      <th>956569</th>\n",
              "      <td>NaN</td>\n",
              "      <td>NaN</td>\n",
              "      <td>W01</td>\n",
              "    </tr>\n",
              "    <tr>\n",
              "      <th>956570</th>\n",
              "      <td>NaN</td>\n",
              "      <td>NaN</td>\n",
              "      <td>W01</td>\n",
              "    </tr>\n",
              "    <tr>\n",
              "      <th>956571</th>\n",
              "      <td>CUST0000544241</td>\n",
              "      <td>YA</td>\n",
              "      <td>W01</td>\n",
              "    </tr>\n",
              "    <tr>\n",
              "      <th>956572</th>\n",
              "      <td>CUST0000423155</td>\n",
              "      <td>YF</td>\n",
              "      <td>W01</td>\n",
              "    </tr>\n",
              "    <tr>\n",
              "      <th>956573</th>\n",
              "      <td>NaN</td>\n",
              "      <td>NaN</td>\n",
              "      <td>W01</td>\n",
              "    </tr>\n",
              "  </tbody>\n",
              "</table>\n",
              "<p>956574 rows × 3 columns</p>\n",
              "</div>"
            ],
            "text/plain": [
              "             CUST_CODE CUST_LIFESTAGE STORE_REGION\n",
              "0       CUST0000583261             YF          E02\n",
              "1       CUST0000537317             OF          E02\n",
              "2       CUST0000472158             YF          E02\n",
              "3       CUST0000099658             OF          E02\n",
              "4                  NaN            NaN          E02\n",
              "...                ...            ...          ...\n",
              "956569             NaN            NaN          W01\n",
              "956570             NaN            NaN          W01\n",
              "956571  CUST0000544241             YA          W01\n",
              "956572  CUST0000423155             YF          W01\n",
              "956573             NaN            NaN          W01\n",
              "\n",
              "[956574 rows x 3 columns]"
            ]
          },
          "metadata": {
            "tags": []
          },
          "execution_count": 11
        }
      ]
    },
    {
      "cell_type": "code",
      "metadata": {
        "id": "OYY7N-jGfEbB"
      },
      "source": [
        "df2 = df[['CUST_CODE','SPEND','QUANTITY','BASKET_ID','SHOP_HOUR','SHOP_WEEKDAY','BASKET_SIZE']]"
      ],
      "execution_count": 14,
      "outputs": []
    },
    {
      "cell_type": "code",
      "metadata": {
        "colab": {
          "base_uri": "https://localhost:8080/"
        },
        "id": "aIbABGMxguOY",
        "outputId": "0d241b45-3cfc-40e7-ae84-c575300cda21"
      },
      "source": [
        "df2.head"
      ],
      "execution_count": 15,
      "outputs": [
        {
          "output_type": "execute_result",
          "data": {
            "text/plain": [
              "<bound method NDFrame.head of              CUST_CODE  SPEND  QUANTITY  ...  SHOP_HOUR  SHOP_WEEKDAY  BASKET_SIZE\n",
              "0       CUST0000583261   6.75         3  ...         17             6            L\n",
              "1       CUST0000537317   6.75         3  ...         20             4            L\n",
              "2       CUST0000472158   2.25         1  ...         11             1            L\n",
              "3       CUST0000099658   2.25         1  ...         17             7            L\n",
              "4                  NaN   6.75         3  ...         14             7            L\n",
              "...                ...    ...       ...  ...        ...           ...          ...\n",
              "956569             NaN   3.96         3  ...         12             5            M\n",
              "956570             NaN   3.96         3  ...         20             6            L\n",
              "956571  CUST0000544241   3.96         3  ...         18             5            L\n",
              "956572  CUST0000423155   3.96         3  ...         19             5            L\n",
              "956573             NaN   3.96         3  ...         21             2            L\n",
              "\n",
              "[956574 rows x 7 columns]>"
            ]
          },
          "metadata": {
            "tags": []
          },
          "execution_count": 15
        }
      ]
    },
    {
      "cell_type": "code",
      "metadata": {
        "colab": {
          "base_uri": "https://localhost:8080/"
        },
        "id": "0LfOKIiTh9ep",
        "outputId": "fa83b29a-a742-4a30-83f3-094839439d1f"
      },
      "source": [
        "#Count null customer\n",
        "print(df2['CUST_CODE'].isnull().sum())"
      ],
      "execution_count": 17,
      "outputs": [
        {
          "output_type": "stream",
          "text": [
            "153682\n"
          ],
          "name": "stdout"
        }
      ]
    },
    {
      "cell_type": "code",
      "metadata": {
        "colab": {
          "base_uri": "https://localhost:8080/"
        },
        "id": "SOacl9HuiLwo",
        "outputId": "d35e6c09-df93-4113-a54d-b61d0899a023"
      },
      "source": [
        "#count customer\n",
        "df2['CUST_CODE'].count()"
      ],
      "execution_count": 24,
      "outputs": [
        {
          "output_type": "execute_result",
          "data": {
            "text/plain": [
              "802892"
            ]
          },
          "metadata": {
            "tags": []
          },
          "execution_count": 24
        }
      ]
    },
    {
      "cell_type": "code",
      "metadata": {
        "id": "sPZMJTQSmaOy"
      },
      "source": [
        ""
      ],
      "execution_count": null,
      "outputs": []
    },
    {
      "cell_type": "markdown",
      "metadata": {
        "id": "cPptCVO5hxyZ"
      },
      "source": [
        "Filter Member (There are Customer Code)"
      ]
    },
    {
      "cell_type": "code",
      "metadata": {
        "colab": {
          "base_uri": "https://localhost:8080/"
        },
        "id": "tu05KLCYhw3U",
        "outputId": "4100ee17-6a92-4760-faf5-57915a977fba"
      },
      "source": [
        "df_member = pd.read_csv('aggregate_data.csv')\n",
        "print(df_member['CUST_CODE'].count())\n",
        "print(df_member['CUST_CODE'].isnull().sum())"
      ],
      "execution_count": 33,
      "outputs": [
        {
          "output_type": "stream",
          "text": [
            "6100\n",
            "0\n"
          ],
          "name": "stdout"
        }
      ]
    },
    {
      "cell_type": "code",
      "metadata": {
        "colab": {
          "base_uri": "https://localhost:8080/",
          "height": 317
        },
        "id": "kvYZFT7djQ-r",
        "outputId": "d9968338-2acd-4771-e845-3222f6b3f59d"
      },
      "source": [
        "df_member.describe()"
      ],
      "execution_count": 48,
      "outputs": [
        {
          "output_type": "execute_result",
          "data": {
            "text/html": [
              "<div>\n",
              "<style scoped>\n",
              "    .dataframe tbody tr th:only-of-type {\n",
              "        vertical-align: middle;\n",
              "    }\n",
              "\n",
              "    .dataframe tbody tr th {\n",
              "        vertical-align: top;\n",
              "    }\n",
              "\n",
              "    .dataframe thead th {\n",
              "        text-align: right;\n",
              "    }\n",
              "</style>\n",
              "<table border=\"1\" class=\"dataframe\">\n",
              "  <thead>\n",
              "    <tr style=\"text-align: right;\">\n",
              "      <th></th>\n",
              "      <th>TOTAL_SPEND</th>\n",
              "      <th>TOTAL_VISIT</th>\n",
              "      <th>STD_TICKET_SIZE</th>\n",
              "      <th>DURING_SINCE_FIRST_PURCHASE</th>\n",
              "      <th>DURING_SINCE_LAST_PURCHASE</th>\n",
              "      <th>LENGHT_OF_STAY</th>\n",
              "      <th>AVERAGE_TIME_TO_EVENT</th>\n",
              "      <th>MODE_BASKET_SIZE</th>\n",
              "      <th>MODE_SHOP_TIME</th>\n",
              "      <th>MODE_WEEKDAY</th>\n",
              "      <th>AVERAGE_MONTHLY_VISIT</th>\n",
              "      <th>AVERAGE_MONTHLY_SPEND</th>\n",
              "      <th>STD_MONTHLY_SPEND</th>\n",
              "      <th>STD_MONTHLY_VISIT</th>\n",
              "    </tr>\n",
              "  </thead>\n",
              "  <tbody>\n",
              "    <tr>\n",
              "      <th>count</th>\n",
              "      <td>6100.000000</td>\n",
              "      <td>6100.000000</td>\n",
              "      <td>6100.000000</td>\n",
              "      <td>6100.000000</td>\n",
              "      <td>6100.000000</td>\n",
              "      <td>6100.000000</td>\n",
              "      <td>6100.000000</td>\n",
              "      <td>6100.000000</td>\n",
              "      <td>6100.000000</td>\n",
              "      <td>6100.000000</td>\n",
              "      <td>6100.000000</td>\n",
              "      <td>6100.000000</td>\n",
              "      <td>6100.000000</td>\n",
              "      <td>6100.000000</td>\n",
              "    </tr>\n",
              "    <tr>\n",
              "      <th>mean</th>\n",
              "      <td>246.038310</td>\n",
              "      <td>20.029180</td>\n",
              "      <td>1.473593</td>\n",
              "      <td>573.686230</td>\n",
              "      <td>243.070000</td>\n",
              "      <td>330.616230</td>\n",
              "      <td>46.170605</td>\n",
              "      <td>2.057049</td>\n",
              "      <td>2.167705</td>\n",
              "      <td>3.973443</td>\n",
              "      <td>9.646235</td>\n",
              "      <td>18.377850</td>\n",
              "      <td>8.656590</td>\n",
              "      <td>4.169706</td>\n",
              "    </tr>\n",
              "    <tr>\n",
              "      <th>std</th>\n",
              "      <td>704.599006</td>\n",
              "      <td>51.230247</td>\n",
              "      <td>1.850203</td>\n",
              "      <td>215.803423</td>\n",
              "      <td>247.437688</td>\n",
              "      <td>321.741491</td>\n",
              "      <td>68.231067</td>\n",
              "      <td>0.815306</td>\n",
              "      <td>0.698937</td>\n",
              "      <td>2.005228</td>\n",
              "      <td>14.236267</td>\n",
              "      <td>29.017284</td>\n",
              "      <td>14.976697</td>\n",
              "      <td>7.012247</td>\n",
              "    </tr>\n",
              "    <tr>\n",
              "      <th>min</th>\n",
              "      <td>0.010000</td>\n",
              "      <td>1.000000</td>\n",
              "      <td>0.000000</td>\n",
              "      <td>91.000000</td>\n",
              "      <td>0.000000</td>\n",
              "      <td>0.000000</td>\n",
              "      <td>0.000000</td>\n",
              "      <td>1.000000</td>\n",
              "      <td>1.000000</td>\n",
              "      <td>1.000000</td>\n",
              "      <td>1.000000</td>\n",
              "      <td>0.010000</td>\n",
              "      <td>0.000000</td>\n",
              "      <td>0.000000</td>\n",
              "    </tr>\n",
              "    <tr>\n",
              "      <th>25%</th>\n",
              "      <td>3.627500</td>\n",
              "      <td>1.000000</td>\n",
              "      <td>0.320000</td>\n",
              "      <td>396.000000</td>\n",
              "      <td>27.000000</td>\n",
              "      <td>0.000000</td>\n",
              "      <td>0.000000</td>\n",
              "      <td>1.000000</td>\n",
              "      <td>2.000000</td>\n",
              "      <td>2.000000</td>\n",
              "      <td>1.750000</td>\n",
              "      <td>2.220000</td>\n",
              "      <td>0.000000</td>\n",
              "      <td>0.000000</td>\n",
              "    </tr>\n",
              "    <tr>\n",
              "      <th>50%</th>\n",
              "      <td>19.145000</td>\n",
              "      <td>3.000000</td>\n",
              "      <td>1.136973</td>\n",
              "      <td>641.000000</td>\n",
              "      <td>139.000000</td>\n",
              "      <td>262.500000</td>\n",
              "      <td>15.476842</td>\n",
              "      <td>2.000000</td>\n",
              "      <td>2.000000</td>\n",
              "      <td>4.000000</td>\n",
              "      <td>4.000000</td>\n",
              "      <td>7.718929</td>\n",
              "      <td>1.184113</td>\n",
              "      <td>0.500000</td>\n",
              "    </tr>\n",
              "    <tr>\n",
              "      <th>75%</th>\n",
              "      <td>112.637500</td>\n",
              "      <td>11.000000</td>\n",
              "      <td>1.994921</td>\n",
              "      <td>768.000000</td>\n",
              "      <td>422.000000</td>\n",
              "      <td>670.000000</td>\n",
              "      <td>65.517857</td>\n",
              "      <td>3.000000</td>\n",
              "      <td>3.000000</td>\n",
              "      <td>6.000000</td>\n",
              "      <td>11.500000</td>\n",
              "      <td>22.087500</td>\n",
              "      <td>11.580436</td>\n",
              "      <td>5.656854</td>\n",
              "    </tr>\n",
              "    <tr>\n",
              "      <th>max</th>\n",
              "      <td>14998.110000</td>\n",
              "      <td>666.000000</td>\n",
              "      <td>32.007816</td>\n",
              "      <td>818.000000</td>\n",
              "      <td>818.000000</td>\n",
              "      <td>818.000000</td>\n",
              "      <td>402.500000</td>\n",
              "      <td>3.000000</td>\n",
              "      <td>3.000000</td>\n",
              "      <td>7.000000</td>\n",
              "      <td>129.750000</td>\n",
              "      <td>535.646786</td>\n",
              "      <td>156.524906</td>\n",
              "      <td>57.207216</td>\n",
              "    </tr>\n",
              "  </tbody>\n",
              "</table>\n",
              "</div>"
            ],
            "text/plain": [
              "        TOTAL_SPEND  TOTAL_VISIT  ...  STD_MONTHLY_SPEND  STD_MONTHLY_VISIT\n",
              "count   6100.000000  6100.000000  ...        6100.000000        6100.000000\n",
              "mean     246.038310    20.029180  ...           8.656590           4.169706\n",
              "std      704.599006    51.230247  ...          14.976697           7.012247\n",
              "min        0.010000     1.000000  ...           0.000000           0.000000\n",
              "25%        3.627500     1.000000  ...           0.000000           0.000000\n",
              "50%       19.145000     3.000000  ...           1.184113           0.500000\n",
              "75%      112.637500    11.000000  ...          11.580436           5.656854\n",
              "max    14998.110000   666.000000  ...         156.524906          57.207216\n",
              "\n",
              "[8 rows x 14 columns]"
            ]
          },
          "metadata": {
            "tags": []
          },
          "execution_count": 48
        }
      ]
    },
    {
      "cell_type": "code",
      "metadata": {
        "colab": {
          "base_uri": "https://localhost:8080/",
          "height": 439
        },
        "id": "1BbwuNzfk6VJ",
        "outputId": "539a6695-f0f0-4a10-8446-04280c8b5e3c"
      },
      "source": [
        "df_member"
      ],
      "execution_count": 35,
      "outputs": [
        {
          "output_type": "execute_result",
          "data": {
            "text/html": [
              "<div>\n",
              "<style scoped>\n",
              "    .dataframe tbody tr th:only-of-type {\n",
              "        vertical-align: middle;\n",
              "    }\n",
              "\n",
              "    .dataframe tbody tr th {\n",
              "        vertical-align: top;\n",
              "    }\n",
              "\n",
              "    .dataframe thead th {\n",
              "        text-align: right;\n",
              "    }\n",
              "</style>\n",
              "<table border=\"1\" class=\"dataframe\">\n",
              "  <thead>\n",
              "    <tr style=\"text-align: right;\">\n",
              "      <th></th>\n",
              "      <th>CUST_CODE</th>\n",
              "      <th>TOTAL_SPEND</th>\n",
              "      <th>TOTAL_VISIT</th>\n",
              "      <th>STD_TICKET_SIZE</th>\n",
              "      <th>DURING_SINCE_FIRST_PURCHASE</th>\n",
              "      <th>DURING_SINCE_LAST_PURCHASE</th>\n",
              "      <th>LENGHT_OF_STAY</th>\n",
              "      <th>AVERAGE_TIME_TO_EVENT</th>\n",
              "      <th>MODE_BASKET_SIZE</th>\n",
              "      <th>MODE_SHOP_TIME</th>\n",
              "      <th>MODE_WEEKDAY</th>\n",
              "      <th>AVERAGE_MONTHLY_VISIT</th>\n",
              "      <th>AVERAGE_MONTHLY_SPEND</th>\n",
              "      <th>STD_MONTHLY_SPEND</th>\n",
              "      <th>STD_MONTHLY_VISIT</th>\n",
              "    </tr>\n",
              "  </thead>\n",
              "  <tbody>\n",
              "    <tr>\n",
              "      <th>0</th>\n",
              "      <td>CUST0000125708</td>\n",
              "      <td>910.55</td>\n",
              "      <td>117</td>\n",
              "      <td>2.333555</td>\n",
              "      <td>816</td>\n",
              "      <td>3</td>\n",
              "      <td>813</td>\n",
              "      <td>6.948718</td>\n",
              "      <td>3</td>\n",
              "      <td>3</td>\n",
              "      <td>2</td>\n",
              "      <td>19.148148</td>\n",
              "      <td>33.724074</td>\n",
              "      <td>19.074771</td>\n",
              "      <td>10.280163</td>\n",
              "    </tr>\n",
              "    <tr>\n",
              "      <th>1</th>\n",
              "      <td>CUST0000708150</td>\n",
              "      <td>142.83</td>\n",
              "      <td>34</td>\n",
              "      <td>1.638586</td>\n",
              "      <td>584</td>\n",
              "      <td>22</td>\n",
              "      <td>562</td>\n",
              "      <td>16.529412</td>\n",
              "      <td>2</td>\n",
              "      <td>3</td>\n",
              "      <td>5</td>\n",
              "      <td>11.000000</td>\n",
              "      <td>15.870000</td>\n",
              "      <td>10.913139</td>\n",
              "      <td>7.055337</td>\n",
              "    </tr>\n",
              "    <tr>\n",
              "      <th>2</th>\n",
              "      <td>CUST0000978405</td>\n",
              "      <td>2094.86</td>\n",
              "      <td>151</td>\n",
              "      <td>1.661519</td>\n",
              "      <td>816</td>\n",
              "      <td>3</td>\n",
              "      <td>813</td>\n",
              "      <td>5.384106</td>\n",
              "      <td>3</td>\n",
              "      <td>3</td>\n",
              "      <td>2</td>\n",
              "      <td>44.178571</td>\n",
              "      <td>74.816429</td>\n",
              "      <td>58.939975</td>\n",
              "      <td>36.620694</td>\n",
              "    </tr>\n",
              "    <tr>\n",
              "      <th>3</th>\n",
              "      <td>CUST0000109773</td>\n",
              "      <td>1355.11</td>\n",
              "      <td>55</td>\n",
              "      <td>2.250789</td>\n",
              "      <td>667</td>\n",
              "      <td>0</td>\n",
              "      <td>667</td>\n",
              "      <td>12.127273</td>\n",
              "      <td>3</td>\n",
              "      <td>3</td>\n",
              "      <td>6</td>\n",
              "      <td>36.263158</td>\n",
              "      <td>71.321579</td>\n",
              "      <td>47.305724</td>\n",
              "      <td>22.853866</td>\n",
              "    </tr>\n",
              "    <tr>\n",
              "      <th>4</th>\n",
              "      <td>CUST0000361582</td>\n",
              "      <td>531.93</td>\n",
              "      <td>33</td>\n",
              "      <td>0.898602</td>\n",
              "      <td>281</td>\n",
              "      <td>32</td>\n",
              "      <td>249</td>\n",
              "      <td>7.545455</td>\n",
              "      <td>3</td>\n",
              "      <td>3</td>\n",
              "      <td>2</td>\n",
              "      <td>44.700000</td>\n",
              "      <td>53.193000</td>\n",
              "      <td>28.903252</td>\n",
              "      <td>25.306323</td>\n",
              "    </tr>\n",
              "    <tr>\n",
              "      <th>...</th>\n",
              "      <td>...</td>\n",
              "      <td>...</td>\n",
              "      <td>...</td>\n",
              "      <td>...</td>\n",
              "      <td>...</td>\n",
              "      <td>...</td>\n",
              "      <td>...</td>\n",
              "      <td>...</td>\n",
              "      <td>...</td>\n",
              "      <td>...</td>\n",
              "      <td>...</td>\n",
              "      <td>...</td>\n",
              "      <td>...</td>\n",
              "      <td>...</td>\n",
              "      <td>...</td>\n",
              "    </tr>\n",
              "    <tr>\n",
              "      <th>6095</th>\n",
              "      <td>CUST0000040844</td>\n",
              "      <td>112.85</td>\n",
              "      <td>22</td>\n",
              "      <td>0.939787</td>\n",
              "      <td>815</td>\n",
              "      <td>9</td>\n",
              "      <td>806</td>\n",
              "      <td>36.636364</td>\n",
              "      <td>2</td>\n",
              "      <td>1</td>\n",
              "      <td>7</td>\n",
              "      <td>12.500000</td>\n",
              "      <td>14.106250</td>\n",
              "      <td>9.970681</td>\n",
              "      <td>9.205976</td>\n",
              "    </tr>\n",
              "    <tr>\n",
              "      <th>6096</th>\n",
              "      <td>CUST0000863414</td>\n",
              "      <td>268.10</td>\n",
              "      <td>22</td>\n",
              "      <td>1.937037</td>\n",
              "      <td>744</td>\n",
              "      <td>82</td>\n",
              "      <td>662</td>\n",
              "      <td>30.090909</td>\n",
              "      <td>3</td>\n",
              "      <td>3</td>\n",
              "      <td>4</td>\n",
              "      <td>9.125000</td>\n",
              "      <td>16.756250</td>\n",
              "      <td>16.587149</td>\n",
              "      <td>8.107674</td>\n",
              "    </tr>\n",
              "    <tr>\n",
              "      <th>6097</th>\n",
              "      <td>CUST0000866895</td>\n",
              "      <td>49.66</td>\n",
              "      <td>22</td>\n",
              "      <td>1.118008</td>\n",
              "      <td>400</td>\n",
              "      <td>33</td>\n",
              "      <td>367</td>\n",
              "      <td>16.681818</td>\n",
              "      <td>2</td>\n",
              "      <td>3</td>\n",
              "      <td>6</td>\n",
              "      <td>5.000000</td>\n",
              "      <td>6.207500</td>\n",
              "      <td>7.141428</td>\n",
              "      <td>5.338539</td>\n",
              "    </tr>\n",
              "    <tr>\n",
              "      <th>6098</th>\n",
              "      <td>CUST0000798581</td>\n",
              "      <td>232.68</td>\n",
              "      <td>22</td>\n",
              "      <td>3.357500</td>\n",
              "      <td>752</td>\n",
              "      <td>29</td>\n",
              "      <td>723</td>\n",
              "      <td>32.863636</td>\n",
              "      <td>2</td>\n",
              "      <td>2</td>\n",
              "      <td>7</td>\n",
              "      <td>6.153846</td>\n",
              "      <td>17.898462</td>\n",
              "      <td>17.462066</td>\n",
              "      <td>4.638404</td>\n",
              "    </tr>\n",
              "    <tr>\n",
              "      <th>6099</th>\n",
              "      <td>CUST0000982235</td>\n",
              "      <td>347.69</td>\n",
              "      <td>22</td>\n",
              "      <td>1.181021</td>\n",
              "      <td>503</td>\n",
              "      <td>6</td>\n",
              "      <td>497</td>\n",
              "      <td>22.590909</td>\n",
              "      <td>3</td>\n",
              "      <td>2</td>\n",
              "      <td>2</td>\n",
              "      <td>23.800000</td>\n",
              "      <td>34.769000</td>\n",
              "      <td>26.832602</td>\n",
              "      <td>18.120706</td>\n",
              "    </tr>\n",
              "  </tbody>\n",
              "</table>\n",
              "<p>6100 rows × 15 columns</p>\n",
              "</div>"
            ],
            "text/plain": [
              "           CUST_CODE  TOTAL_SPEND  ...  STD_MONTHLY_SPEND  STD_MONTHLY_VISIT\n",
              "0     CUST0000125708       910.55  ...          19.074771          10.280163\n",
              "1     CUST0000708150       142.83  ...          10.913139           7.055337\n",
              "2     CUST0000978405      2094.86  ...          58.939975          36.620694\n",
              "3     CUST0000109773      1355.11  ...          47.305724          22.853866\n",
              "4     CUST0000361582       531.93  ...          28.903252          25.306323\n",
              "...              ...          ...  ...                ...                ...\n",
              "6095  CUST0000040844       112.85  ...           9.970681           9.205976\n",
              "6096  CUST0000863414       268.10  ...          16.587149           8.107674\n",
              "6097  CUST0000866895        49.66  ...           7.141428           5.338539\n",
              "6098  CUST0000798581       232.68  ...          17.462066           4.638404\n",
              "6099  CUST0000982235       347.69  ...          26.832602          18.120706\n",
              "\n",
              "[6100 rows x 15 columns]"
            ]
          },
          "metadata": {
            "tags": []
          },
          "execution_count": 35
        }
      ]
    },
    {
      "cell_type": "code",
      "metadata": {
        "colab": {
          "base_uri": "https://localhost:8080/"
        },
        "id": "kUUkjvunm1MQ",
        "outputId": "871432f2-4511-4ea4-a3a3-8ccd1e3c7d87"
      },
      "source": [
        "df_member.columns"
      ],
      "execution_count": 36,
      "outputs": [
        {
          "output_type": "execute_result",
          "data": {
            "text/plain": [
              "Index(['CUST_CODE', 'TOTAL_SPEND', 'TOTAL_VISIT', 'STD_TICKET_SIZE',\n",
              "       'DURING_SINCE_FIRST_PURCHASE', 'DURING_SINCE_LAST_PURCHASE',\n",
              "       'LENGHT_OF_STAY', 'AVERAGE_TIME_TO_EVENT', 'MODE_BASKET_SIZE',\n",
              "       'MODE_SHOP_TIME', 'MODE_WEEKDAY', 'AVERAGE_MONTHLY_VISIT',\n",
              "       'AVERAGE_MONTHLY_SPEND', 'STD_MONTHLY_SPEND', 'STD_MONTHLY_VISIT'],\n",
              "      dtype='object')"
            ]
          },
          "metadata": {
            "tags": []
          },
          "execution_count": 36
        }
      ]
    },
    {
      "cell_type": "code",
      "metadata": {
        "id": "0b6tX5S1ha4L"
      },
      "source": [
        "# df_member_1 = df_member.groupby('CUST_CODE').agg({'BASKET_ID': ['nunique'],\n",
        "#                                       'SPEND': ['sum']})\n",
        "# df_member_1 = df_member[['TOTAL_VISIT','TOTAL_SPEND']]\n",
        "\n",
        "# df_member_1 = df_member[['TOTAL_SPEND', 'TOTAL_VISIT', 'STD_TICKET_SIZE',\n",
        "#        'DURING_SINCE_FIRST_PURCHASE', 'DURING_SINCE_LAST_PURCHASE',\n",
        "#        'LENGHT_OF_STAY', 'AVERAGE_TIME_TO_EVENT', 'MODE_BASKET_SIZE',\n",
        "#        'MODE_SHOP_TIME', 'MODE_WEEKDAY', 'AVERAGE_MONTHLY_VISIT',\n",
        "#        'AVERAGE_MONTHLY_SPEND', 'STD_MONTHLY_SPEND', 'STD_MONTHLY_VISIT']]\n",
        "\n",
        "# df_member_1 = df_member[['TOTAL_SPEND', 'TOTAL_VISIT', \n",
        "#        'DURING_SINCE_FIRST_PURCHASE', 'DURING_SINCE_LAST_PURCHASE',\n",
        "#        'LENGHT_OF_STAY', 'AVERAGE_TIME_TO_EVENT', 'AVERAGE_MONTHLY_VISIT',\n",
        "#        'AVERAGE_MONTHLY_SPEND',]]\n",
        "\n",
        "df_member_1 = df_member[[ 'TOTAL_VISIT', 'STD_TICKET_SIZE',\n",
        "       'DURING_SINCE_FIRST_PURCHASE', 'DURING_SINCE_LAST_PURCHASE',\n",
        "       'LENGHT_OF_STAY', 'AVERAGE_TIME_TO_EVENT', 'MODE_BASKET_SIZE',\n",
        "       'MODE_SHOP_TIME', 'MODE_WEEKDAY', 'AVERAGE_MONTHLY_VISIT',\n",
        "       'AVERAGE_MONTHLY_SPEND', 'STD_MONTHLY_SPEND', 'STD_MONTHLY_VISIT']]"
      ],
      "execution_count": 113,
      "outputs": []
    },
    {
      "cell_type": "code",
      "metadata": {
        "colab": {
          "base_uri": "https://localhost:8080/",
          "height": 379
        },
        "id": "4RCvsGzelqCM",
        "outputId": "c0b26a64-0dd4-4fae-e431-acfb4b83a66a"
      },
      "source": [
        "df_member_1.head(10)"
      ],
      "execution_count": 114,
      "outputs": [
        {
          "output_type": "execute_result",
          "data": {
            "text/html": [
              "<div>\n",
              "<style scoped>\n",
              "    .dataframe tbody tr th:only-of-type {\n",
              "        vertical-align: middle;\n",
              "    }\n",
              "\n",
              "    .dataframe tbody tr th {\n",
              "        vertical-align: top;\n",
              "    }\n",
              "\n",
              "    .dataframe thead th {\n",
              "        text-align: right;\n",
              "    }\n",
              "</style>\n",
              "<table border=\"1\" class=\"dataframe\">\n",
              "  <thead>\n",
              "    <tr style=\"text-align: right;\">\n",
              "      <th></th>\n",
              "      <th>TOTAL_VISIT</th>\n",
              "      <th>STD_TICKET_SIZE</th>\n",
              "      <th>DURING_SINCE_FIRST_PURCHASE</th>\n",
              "      <th>DURING_SINCE_LAST_PURCHASE</th>\n",
              "      <th>LENGHT_OF_STAY</th>\n",
              "      <th>AVERAGE_TIME_TO_EVENT</th>\n",
              "      <th>MODE_BASKET_SIZE</th>\n",
              "      <th>MODE_SHOP_TIME</th>\n",
              "      <th>MODE_WEEKDAY</th>\n",
              "      <th>AVERAGE_MONTHLY_VISIT</th>\n",
              "      <th>AVERAGE_MONTHLY_SPEND</th>\n",
              "      <th>STD_MONTHLY_SPEND</th>\n",
              "      <th>STD_MONTHLY_VISIT</th>\n",
              "    </tr>\n",
              "  </thead>\n",
              "  <tbody>\n",
              "    <tr>\n",
              "      <th>0</th>\n",
              "      <td>117</td>\n",
              "      <td>2.333555</td>\n",
              "      <td>816</td>\n",
              "      <td>3</td>\n",
              "      <td>813</td>\n",
              "      <td>6.948718</td>\n",
              "      <td>3</td>\n",
              "      <td>3</td>\n",
              "      <td>2</td>\n",
              "      <td>19.148148</td>\n",
              "      <td>33.724074</td>\n",
              "      <td>19.074771</td>\n",
              "      <td>10.280163</td>\n",
              "    </tr>\n",
              "    <tr>\n",
              "      <th>1</th>\n",
              "      <td>34</td>\n",
              "      <td>1.638586</td>\n",
              "      <td>584</td>\n",
              "      <td>22</td>\n",
              "      <td>562</td>\n",
              "      <td>16.529412</td>\n",
              "      <td>2</td>\n",
              "      <td>3</td>\n",
              "      <td>5</td>\n",
              "      <td>11.000000</td>\n",
              "      <td>15.870000</td>\n",
              "      <td>10.913139</td>\n",
              "      <td>7.055337</td>\n",
              "    </tr>\n",
              "    <tr>\n",
              "      <th>2</th>\n",
              "      <td>151</td>\n",
              "      <td>1.661519</td>\n",
              "      <td>816</td>\n",
              "      <td>3</td>\n",
              "      <td>813</td>\n",
              "      <td>5.384106</td>\n",
              "      <td>3</td>\n",
              "      <td>3</td>\n",
              "      <td>2</td>\n",
              "      <td>44.178571</td>\n",
              "      <td>74.816429</td>\n",
              "      <td>58.939975</td>\n",
              "      <td>36.620694</td>\n",
              "    </tr>\n",
              "    <tr>\n",
              "      <th>3</th>\n",
              "      <td>55</td>\n",
              "      <td>2.250789</td>\n",
              "      <td>667</td>\n",
              "      <td>0</td>\n",
              "      <td>667</td>\n",
              "      <td>12.127273</td>\n",
              "      <td>3</td>\n",
              "      <td>3</td>\n",
              "      <td>6</td>\n",
              "      <td>36.263158</td>\n",
              "      <td>71.321579</td>\n",
              "      <td>47.305724</td>\n",
              "      <td>22.853866</td>\n",
              "    </tr>\n",
              "    <tr>\n",
              "      <th>4</th>\n",
              "      <td>33</td>\n",
              "      <td>0.898602</td>\n",
              "      <td>281</td>\n",
              "      <td>32</td>\n",
              "      <td>249</td>\n",
              "      <td>7.545455</td>\n",
              "      <td>3</td>\n",
              "      <td>3</td>\n",
              "      <td>2</td>\n",
              "      <td>44.700000</td>\n",
              "      <td>53.193000</td>\n",
              "      <td>28.903252</td>\n",
              "      <td>25.306323</td>\n",
              "    </tr>\n",
              "    <tr>\n",
              "      <th>5</th>\n",
              "      <td>308</td>\n",
              "      <td>3.410482</td>\n",
              "      <td>818</td>\n",
              "      <td>1</td>\n",
              "      <td>817</td>\n",
              "      <td>2.652597</td>\n",
              "      <td>3</td>\n",
              "      <td>2</td>\n",
              "      <td>5</td>\n",
              "      <td>73.357143</td>\n",
              "      <td>114.276786</td>\n",
              "      <td>43.462072</td>\n",
              "      <td>17.433986</td>\n",
              "    </tr>\n",
              "    <tr>\n",
              "      <th>6</th>\n",
              "      <td>26</td>\n",
              "      <td>2.746535</td>\n",
              "      <td>808</td>\n",
              "      <td>25</td>\n",
              "      <td>783</td>\n",
              "      <td>30.115385</td>\n",
              "      <td>2</td>\n",
              "      <td>2</td>\n",
              "      <td>4</td>\n",
              "      <td>5.222222</td>\n",
              "      <td>16.271111</td>\n",
              "      <td>7.130855</td>\n",
              "      <td>2.484520</td>\n",
              "    </tr>\n",
              "    <tr>\n",
              "      <th>7</th>\n",
              "      <td>292</td>\n",
              "      <td>1.283374</td>\n",
              "      <td>814</td>\n",
              "      <td>2</td>\n",
              "      <td>812</td>\n",
              "      <td>2.780822</td>\n",
              "      <td>3</td>\n",
              "      <td>2</td>\n",
              "      <td>2</td>\n",
              "      <td>113.035714</td>\n",
              "      <td>163.771429</td>\n",
              "      <td>42.786863</td>\n",
              "      <td>28.563816</td>\n",
              "    </tr>\n",
              "    <tr>\n",
              "      <th>8</th>\n",
              "      <td>69</td>\n",
              "      <td>2.287239</td>\n",
              "      <td>804</td>\n",
              "      <td>2</td>\n",
              "      <td>802</td>\n",
              "      <td>11.623188</td>\n",
              "      <td>2</td>\n",
              "      <td>2</td>\n",
              "      <td>5</td>\n",
              "      <td>10.909091</td>\n",
              "      <td>20.541818</td>\n",
              "      <td>15.322938</td>\n",
              "      <td>8.474073</td>\n",
              "    </tr>\n",
              "    <tr>\n",
              "      <th>9</th>\n",
              "      <td>103</td>\n",
              "      <td>2.327013</td>\n",
              "      <td>806</td>\n",
              "      <td>16</td>\n",
              "      <td>790</td>\n",
              "      <td>7.669903</td>\n",
              "      <td>3</td>\n",
              "      <td>3</td>\n",
              "      <td>6</td>\n",
              "      <td>44.370370</td>\n",
              "      <td>92.364074</td>\n",
              "      <td>50.744659</td>\n",
              "      <td>22.296235</td>\n",
              "    </tr>\n",
              "  </tbody>\n",
              "</table>\n",
              "</div>"
            ],
            "text/plain": [
              "   TOTAL_VISIT  STD_TICKET_SIZE  ...  STD_MONTHLY_SPEND  STD_MONTHLY_VISIT\n",
              "0          117         2.333555  ...          19.074771          10.280163\n",
              "1           34         1.638586  ...          10.913139           7.055337\n",
              "2          151         1.661519  ...          58.939975          36.620694\n",
              "3           55         2.250789  ...          47.305724          22.853866\n",
              "4           33         0.898602  ...          28.903252          25.306323\n",
              "5          308         3.410482  ...          43.462072          17.433986\n",
              "6           26         2.746535  ...           7.130855           2.484520\n",
              "7          292         1.283374  ...          42.786863          28.563816\n",
              "8           69         2.287239  ...          15.322938           8.474073\n",
              "9          103         2.327013  ...          50.744659          22.296235\n",
              "\n",
              "[10 rows x 13 columns]"
            ]
          },
          "metadata": {
            "tags": []
          },
          "execution_count": 114
        }
      ]
    },
    {
      "cell_type": "code",
      "metadata": {
        "colab": {
          "base_uri": "https://localhost:8080/"
        },
        "id": "TrJ7KFxAnZx1",
        "outputId": "c767179a-8a53-4fd0-e4a9-6d9fd3a0754b"
      },
      "source": [
        "print(df_member_1.columns)"
      ],
      "execution_count": 115,
      "outputs": [
        {
          "output_type": "stream",
          "text": [
            "Index(['TOTAL_VISIT', 'STD_TICKET_SIZE', 'DURING_SINCE_FIRST_PURCHASE',\n",
            "       'DURING_SINCE_LAST_PURCHASE', 'LENGHT_OF_STAY', 'AVERAGE_TIME_TO_EVENT',\n",
            "       'MODE_BASKET_SIZE', 'MODE_SHOP_TIME', 'MODE_WEEKDAY',\n",
            "       'AVERAGE_MONTHLY_VISIT', 'AVERAGE_MONTHLY_SPEND', 'STD_MONTHLY_SPEND',\n",
            "       'STD_MONTHLY_VISIT'],\n",
            "      dtype='object')\n"
          ],
          "name": "stdout"
        }
      ]
    },
    {
      "cell_type": "code",
      "metadata": {
        "colab": {
          "base_uri": "https://localhost:8080/"
        },
        "id": "ImJNP-LQnUad",
        "outputId": "6fef7f8b-deec-45c6-e410-0a0771514cf6"
      },
      "source": [
        "len_columns = len(list(df_member_1.columns))\n",
        "print(range(0,len_columns))\n",
        "list(range(0,len_columns))"
      ],
      "execution_count": 116,
      "outputs": [
        {
          "output_type": "stream",
          "text": [
            "range(0, 13)\n"
          ],
          "name": "stdout"
        },
        {
          "output_type": "execute_result",
          "data": {
            "text/plain": [
              "[0, 1, 2, 3, 4, 5, 6, 7, 8, 9, 10, 11, 12]"
            ]
          },
          "metadata": {
            "tags": []
          },
          "execution_count": 116
        }
      ]
    },
    {
      "cell_type": "code",
      "metadata": {
        "id": "edQOX9Nvf3po"
      },
      "source": [
        "def drawSSEPlot(df, column_indices, n_clusters=8, max_iter=300, tol=1e-04, init='k-means++', n_init=10, algorithm='auto'):\n",
        "    import matplotlib.pyplot as plt\n",
        "    inertia_values = []\n",
        "    for i in range(1, n_clusters+1):\n",
        "        km = KMeans(n_clusters=i, max_iter=max_iter, tol=tol, init=init, n_init=n_init, random_state=1, algorithm=algorithm)\n",
        "        km.fit_predict(df.iloc[:, column_indices])\n",
        "        inertia_values.append(km.inertia_)\n",
        "    fig, ax = plt.subplots(figsize=(8, 6))\n",
        "    plt.plot(range(1, n_clusters+1), inertia_values, color='red')\n",
        "    plt.xlabel('No. of Clusters', fontsize=15)\n",
        "    plt.ylabel('SSE / Inertia', fontsize=15)\n",
        "    plt.title('SSE / Inertia vs No. Of Clusters', fontsize=15)\n",
        "    plt.grid()\n",
        "    plt.show()"
      ],
      "execution_count": 117,
      "outputs": []
    },
    {
      "cell_type": "code",
      "metadata": {
        "colab": {
          "base_uri": "https://localhost:8080/",
          "height": 411
        },
        "id": "wZJLAAAon1JL",
        "outputId": "14beb40a-279b-4bd9-c57b-a1c7455138e0"
      },
      "source": [
        "drawSSEPlot(df_member_1, list(range(0,len_columns)))"
      ],
      "execution_count": 118,
      "outputs": [
        {
          "output_type": "display_data",
          "data": {
            "image/png": "[encoded data removed]",
            "text/plain": [
              "<Figure size 576x432 with 1 Axes>"
            ]
          },
          "metadata": {
            "tags": [],
            "needs_background": "light"
          }
        }
      ]
    },
    {
      "cell_type": "code",
      "metadata": {
        "colab": {
          "base_uri": "https://localhost:8080/",
          "height": 295
        },
        "id": "fWyj7vEFn8cO",
        "outputId": "77426020-c5e4-49e2-924e-9537dfd80126"
      },
      "source": [
        "distortions = []\n",
        "K = range(1,10)\n",
        "for k in K:\n",
        "    kmeanModel = KMeans(n_clusters=k)\n",
        "    kmeanModel.fit(df_member_1[df_member_1.columns])\n",
        "    distortions.append(kmeanModel.inertia_)\n",
        "plt.figure(figsize=(9,4))\n",
        "plt.plot(K, distortions, 'bx-')\n",
        "plt.xlabel('k')\n",
        "plt.ylabel('Distortion')\n",
        "plt.title('The Elbow Method showing the optimal k')\n",
        "plt.show()"
      ],
      "execution_count": 119,
      "outputs": [
        {
          "output_type": "display_data",
          "data": {
            "image/png": "[encoded data removed]",
            "text/plain": [
              "<Figure size 648x288 with 1 Axes>"
            ]
          },
          "metadata": {
            "tags": [],
            "needs_background": "light"
          }
        }
      ]
    },
    {
      "cell_type": "code",
      "metadata": {
        "colab": {
          "base_uri": "https://localhost:8080/"
        },
        "id": "hZwFLMYFp5PS",
        "outputId": "a5146cd7-bb94-4519-b9c0-8aee6d492931"
      },
      "source": [
        "distortions = []\n",
        "K = range(2,10)\n",
        "for k in K:\n",
        "    kmeanModel = KMeans(n_clusters=k)\n",
        "    # kmeanModel.fit(df_member_1[df_member_1.columns])\n",
        "    y_predict = kmeanModel.fit_predict(df_member_1)\n",
        "    centroids  = kmeanModel.cluster_centers_\n",
        "    # distortions.append(kmeanModel.inertia_)\n",
        "    # get silhouette\n",
        "    silhouette_vals = silhouette_samples(df_member_1,y_predict)\n",
        "    print('cluster:',k,'Average Silhouette:', sum(silhouette_vals)/len(silhouette_vals))\n",
        "    \n"
      ],
      "execution_count": 120,
      "outputs": [
        {
          "output_type": "stream",
          "text": [
            "cluster: 2 Average Silhouette: 0.5528259646310404\n",
            "cluster: 3 Average Silhouette: 0.5687327378326259\n",
            "cluster: 4 Average Silhouette: 0.5043314988334825\n",
            "cluster: 5 Average Silhouette: 0.4561886780512149\n",
            "cluster: 6 Average Silhouette: 0.4378029422945213\n",
            "cluster: 7 Average Silhouette: 0.44241039376641095\n",
            "cluster: 8 Average Silhouette: 0.4247597661607978\n",
            "cluster: 9 Average Silhouette: 0.40694483939984805\n"
          ],
          "name": "stdout"
        }
      ]
    },
    {
      "cell_type": "markdown",
      "metadata": {
        "id": "jYQ5cx9toLx3"
      },
      "source": [
        "Silhouette use K=3"
      ]
    },
    {
      "cell_type": "code",
      "metadata": {
        "id": "ZazXsYWJ1Ih5"
      },
      "source": [
        "df_k3 = pd.read_csv('result_no_total_spend.csv')"
      ],
      "execution_count": 14,
      "outputs": []
    },
    {
      "cell_type": "code",
      "metadata": {
        "colab": {
          "base_uri": "https://localhost:8080/",
          "height": 224
        },
        "id": "sNmEk7io4dyK",
        "outputId": "6527333d-c9e7-4a6d-b29b-23b52174ede4"
      },
      "source": [
        "df_k3.head(5)"
      ],
      "execution_count": 15,
      "outputs": [
        {
          "output_type": "execute_result",
          "data": {
            "text/html": [
              "<div>\n",
              "<style scoped>\n",
              "    .dataframe tbody tr th:only-of-type {\n",
              "        vertical-align: middle;\n",
              "    }\n",
              "\n",
              "    .dataframe tbody tr th {\n",
              "        vertical-align: top;\n",
              "    }\n",
              "\n",
              "    .dataframe thead th {\n",
              "        text-align: right;\n",
              "    }\n",
              "</style>\n",
              "<table border=\"1\" class=\"dataframe\">\n",
              "  <thead>\n",
              "    <tr style=\"text-align: right;\">\n",
              "      <th></th>\n",
              "      <th>CENTROID_ID</th>\n",
              "      <th>CUST_CODE</th>\n",
              "      <th>TOTAL_SPEND</th>\n",
              "      <th>TOTAL_VISIT</th>\n",
              "      <th>STD_TICKET_SIZE</th>\n",
              "      <th>DURING_SINCE_FIRST_PURCHASE</th>\n",
              "      <th>DURING_SINCE_LAST_PURCHASE</th>\n",
              "      <th>LENGHT_OF_STAY</th>\n",
              "      <th>AVERAGE_TIME_TO_EVENT</th>\n",
              "      <th>MODE_BASKET_SIZE</th>\n",
              "      <th>MODE_SHOP_TIME</th>\n",
              "      <th>MODE_WEEKDAY</th>\n",
              "      <th>AVERAGE_MONTHLY_VISIT</th>\n",
              "      <th>AVERAGE_MONTHLY_SPEND</th>\n",
              "      <th>STD_MONTHLY_SPEND</th>\n",
              "      <th>STD_MONTHLY_VISIT</th>\n",
              "    </tr>\n",
              "  </thead>\n",
              "  <tbody>\n",
              "    <tr>\n",
              "      <th>0</th>\n",
              "      <td>2</td>\n",
              "      <td>CUST0000161376</td>\n",
              "      <td>3146.67</td>\n",
              "      <td>127</td>\n",
              "      <td>2.632437</td>\n",
              "      <td>816</td>\n",
              "      <td>10</td>\n",
              "      <td>806</td>\n",
              "      <td>6.346457</td>\n",
              "      <td>3</td>\n",
              "      <td>2</td>\n",
              "      <td>1</td>\n",
              "      <td>57.407407</td>\n",
              "      <td>116.543333</td>\n",
              "      <td>58.523039</td>\n",
              "      <td>25.575247</td>\n",
              "    </tr>\n",
              "    <tr>\n",
              "      <th>1</th>\n",
              "      <td>2</td>\n",
              "      <td>CUST0000037123</td>\n",
              "      <td>2564.38</td>\n",
              "      <td>210</td>\n",
              "      <td>1.415367</td>\n",
              "      <td>817</td>\n",
              "      <td>3</td>\n",
              "      <td>814</td>\n",
              "      <td>3.876190</td>\n",
              "      <td>3</td>\n",
              "      <td>1</td>\n",
              "      <td>2</td>\n",
              "      <td>68.357143</td>\n",
              "      <td>91.585000</td>\n",
              "      <td>41.263924</td>\n",
              "      <td>28.866954</td>\n",
              "    </tr>\n",
              "    <tr>\n",
              "      <th>2</th>\n",
              "      <td>1</td>\n",
              "      <td>CUST0000708150</td>\n",
              "      <td>142.83</td>\n",
              "      <td>34</td>\n",
              "      <td>1.638586</td>\n",
              "      <td>584</td>\n",
              "      <td>22</td>\n",
              "      <td>562</td>\n",
              "      <td>16.529412</td>\n",
              "      <td>2</td>\n",
              "      <td>3</td>\n",
              "      <td>5</td>\n",
              "      <td>11.000000</td>\n",
              "      <td>15.870000</td>\n",
              "      <td>10.913139</td>\n",
              "      <td>7.055337</td>\n",
              "    </tr>\n",
              "    <tr>\n",
              "      <th>3</th>\n",
              "      <td>1</td>\n",
              "      <td>CUST0000635118</td>\n",
              "      <td>1038.09</td>\n",
              "      <td>136</td>\n",
              "      <td>2.551961</td>\n",
              "      <td>812</td>\n",
              "      <td>3</td>\n",
              "      <td>809</td>\n",
              "      <td>5.948529</td>\n",
              "      <td>3</td>\n",
              "      <td>3</td>\n",
              "      <td>3</td>\n",
              "      <td>20.142857</td>\n",
              "      <td>37.074643</td>\n",
              "      <td>30.421303</td>\n",
              "      <td>12.472009</td>\n",
              "    </tr>\n",
              "    <tr>\n",
              "      <th>4</th>\n",
              "      <td>1</td>\n",
              "      <td>CUST0000203439</td>\n",
              "      <td>535.54</td>\n",
              "      <td>151</td>\n",
              "      <td>1.237576</td>\n",
              "      <td>813</td>\n",
              "      <td>2</td>\n",
              "      <td>811</td>\n",
              "      <td>5.370861</td>\n",
              "      <td>2</td>\n",
              "      <td>1</td>\n",
              "      <td>1</td>\n",
              "      <td>12.464286</td>\n",
              "      <td>19.126429</td>\n",
              "      <td>10.488947</td>\n",
              "      <td>6.472371</td>\n",
              "    </tr>\n",
              "  </tbody>\n",
              "</table>\n",
              "</div>"
            ],
            "text/plain": [
              "   CENTROID_ID       CUST_CODE  ...  STD_MONTHLY_SPEND  STD_MONTHLY_VISIT\n",
              "0            2  CUST0000161376  ...          58.523039          25.575247\n",
              "1            2  CUST0000037123  ...          41.263924          28.866954\n",
              "2            1  CUST0000708150  ...          10.913139           7.055337\n",
              "3            1  CUST0000635118  ...          30.421303          12.472009\n",
              "4            1  CUST0000203439  ...          10.488947           6.472371\n",
              "\n",
              "[5 rows x 16 columns]"
            ]
          },
          "metadata": {
            "tags": []
          },
          "execution_count": 15
        }
      ]
    },
    {
      "cell_type": "code",
      "metadata": {
        "colab": {
          "base_uri": "https://localhost:8080/"
        },
        "id": "58C5e63V16i3",
        "outputId": "3f888843-194d-4d1e-c0eb-05219df75f42"
      },
      "source": [
        "df_k3.columns"
      ],
      "execution_count": 16,
      "outputs": [
        {
          "output_type": "execute_result",
          "data": {
            "text/plain": [
              "Index(['CENTROID_ID', 'CUST_CODE', 'TOTAL_SPEND', 'TOTAL_VISIT',\n",
              "       'STD_TICKET_SIZE', 'DURING_SINCE_FIRST_PURCHASE',\n",
              "       'DURING_SINCE_LAST_PURCHASE', 'LENGHT_OF_STAY', 'AVERAGE_TIME_TO_EVENT',\n",
              "       'MODE_BASKET_SIZE', 'MODE_SHOP_TIME', 'MODE_WEEKDAY',\n",
              "       'AVERAGE_MONTHLY_VISIT', 'AVERAGE_MONTHLY_SPEND', 'STD_MONTHLY_SPEND',\n",
              "       'STD_MONTHLY_VISIT'],\n",
              "      dtype='object')"
            ]
          },
          "metadata": {
            "tags": []
          },
          "execution_count": 16
        }
      ]
    },
    {
      "cell_type": "code",
      "metadata": {
        "id": "KSF_7Cl81PFD"
      },
      "source": [
        "X = df_k3[[  'TOTAL_VISIT',\n",
        "       'STD_TICKET_SIZE', 'DURING_SINCE_FIRST_PURCHASE',\n",
        "       'DURING_SINCE_LAST_PURCHASE', 'LENGHT_OF_STAY', 'AVERAGE_TIME_TO_EVENT',\n",
        "       'MODE_BASKET_SIZE', 'MODE_SHOP_TIME', 'MODE_WEEKDAY',\n",
        "       'AVERAGE_MONTHLY_VISIT', 'AVERAGE_MONTHLY_SPEND', 'STD_MONTHLY_SPEND',\n",
        "       'STD_MONTHLY_VISIT']]\n",
        "y = df_k3['CENTROID_ID']\n",
        "X_train, X_test, y_train, y_test = train_test_split(X, y, test_size=0.25, random_state=12)"
      ],
      "execution_count": 17,
      "outputs": []
    },
    {
      "cell_type": "code",
      "metadata": {
        "id": "vmh99M5z4WBt"
      },
      "source": [
        "rf = RandomForestRegressor(n_estimators=100)\n",
        "rf.fit(X_train, y_train)\n",
        "rf_feature_importance = rf.feature_importances_"
      ],
      "execution_count": 18,
      "outputs": []
    },
    {
      "cell_type": "code",
      "metadata": {
        "colab": {
          "base_uri": "https://localhost:8080/"
        },
        "id": "AnkeGrQk249-",
        "outputId": "0222f00e-552b-407a-b936-9f8e75bfa983"
      },
      "source": [
        "rf_feature_importance"
      ],
      "execution_count": 19,
      "outputs": [
        {
          "output_type": "execute_result",
          "data": {
            "text/plain": [
              "array([0.00347106, 0.01823296, 0.0077548 , 0.00650017, 0.66461497,\n",
              "       0.01974711, 0.02289343, 0.00234628, 0.00214009, 0.04776392,\n",
              "       0.08897452, 0.10655553, 0.00900515])"
            ]
          },
          "metadata": {
            "tags": []
          },
          "execution_count": 19
        }
      ]
    },
    {
      "cell_type": "code",
      "metadata": {
        "colab": {
          "base_uri": "https://localhost:8080/"
        },
        "id": "mA0qFbOA28DC",
        "outputId": "ba12f60e-ba4f-4d47-8567-08d2d10d3f6c"
      },
      "source": [
        "X.columns"
      ],
      "execution_count": 20,
      "outputs": [
        {
          "output_type": "execute_result",
          "data": {
            "text/plain": [
              "Index(['TOTAL_VISIT', 'STD_TICKET_SIZE', 'DURING_SINCE_FIRST_PURCHASE',\n",
              "       'DURING_SINCE_LAST_PURCHASE', 'LENGHT_OF_STAY', 'AVERAGE_TIME_TO_EVENT',\n",
              "       'MODE_BASKET_SIZE', 'MODE_SHOP_TIME', 'MODE_WEEKDAY',\n",
              "       'AVERAGE_MONTHLY_VISIT', 'AVERAGE_MONTHLY_SPEND', 'STD_MONTHLY_SPEND',\n",
              "       'STD_MONTHLY_VISIT'],\n",
              "      dtype='object')"
            ]
          },
          "metadata": {
            "tags": []
          },
          "execution_count": 20
        }
      ]
    },
    {
      "cell_type": "code",
      "metadata": {
        "id": "I2YVvijKQlM7"
      },
      "source": [
        "temp = list()\n",
        "for i in reversed(X.columns[sorted_idx]):\n",
        "  temp.append(i)\n"
      ],
      "execution_count": 49,
      "outputs": []
    },
    {
      "cell_type": "code",
      "metadata": {
        "colab": {
          "base_uri": "https://localhost:8080/"
        },
        "id": "DuH725sLRMV5",
        "outputId": "19e5f3bc-dbf6-4bad-adc6-cc12306d4bda"
      },
      "source": [
        "temp"
      ],
      "execution_count": 50,
      "outputs": [
        {
          "output_type": "execute_result",
          "data": {
            "text/plain": [
              "['LENGHT_OF_STAY',\n",
              " 'STD_MONTHLY_SPEND',\n",
              " 'AVERAGE_MONTHLY_SPEND',\n",
              " 'AVERAGE_MONTHLY_VISIT',\n",
              " 'MODE_BASKET_SIZE',\n",
              " 'AVERAGE_TIME_TO_EVENT',\n",
              " 'STD_TICKET_SIZE',\n",
              " 'STD_MONTHLY_VISIT',\n",
              " 'DURING_SINCE_FIRST_PURCHASE',\n",
              " 'DURING_SINCE_LAST_PURCHASE',\n",
              " 'TOTAL_VISIT',\n",
              " 'MODE_SHOP_TIME',\n",
              " 'MODE_WEEKDAY']"
            ]
          },
          "metadata": {
            "tags": []
          },
          "execution_count": 50
        }
      ]
    },
    {
      "cell_type": "code",
      "metadata": {
        "colab": {
          "base_uri": "https://localhost:8080/",
          "height": 296
        },
        "id": "AA39EvF83aGN",
        "outputId": "31de9765-e56b-408e-c672-df722df780de"
      },
      "source": [
        "# plt.barh(X.columns, rf.feature_importances_)\n",
        "\n",
        "sorted_idx = rf.feature_importances_.argsort()\n",
        "plt.barh(X.columns[sorted_idx], rf.feature_importances_[sorted_idx])\n",
        "plt.xlabel(\"Random Forest Feature Importance\")"
      ],
      "execution_count": 51,
      "outputs": [
        {
          "output_type": "execute_result",
          "data": {
            "text/plain": [
              "Text(0.5, 0, 'Random Forest Feature Importance')"
            ]
          },
          "metadata": {
            "tags": []
          },
          "execution_count": 51
        },
        {
          "output_type": "display_data",
          "data": {
            "image/png": "[encoded data removed]",
            "text/plain": [
              "<Figure size 432x288 with 1 Axes>"
            ]
          },
          "metadata": {
            "tags": [],
            "needs_background": "light"
          }
        }
      ]
    },
    {
      "cell_type": "markdown",
      "metadata": {
        "id": "YWTwnynqO2Cq"
      },
      "source": [
        "#EDA"
      ]
    },
    {
      "cell_type": "code",
      "metadata": {
        "id": "2exuyUi5O1m7"
      },
      "source": [
        "def density_plot(c,v):\n",
        "  # Converting to wide dataframe\n",
        "  data_wide = df_k3.pivot(columns = c,\n",
        "                      values = v)\n",
        "    \n",
        "  # plotting multiple density plot\n",
        "  data_wide.plot.kde(figsize = (8, 6))\n",
        "  print(v)"
      ],
      "execution_count": 60,
      "outputs": []
    },
    {
      "cell_type": "code",
      "metadata": {
        "colab": {
          "base_uri": "https://localhost:8080/",
          "height": 1000
        },
        "id": "3ZNVTR1kPu1z",
        "outputId": "a4637b79-c4e7-42dc-afa4-54e357bdb391"
      },
      "source": [
        "for colum in temp[:5]:\n",
        "  density_plot('CENTROID_ID',colum)\n",
        "  # print(colum)"
      ],
      "execution_count": 61,
      "outputs": [
        {
          "output_type": "stream",
          "text": [
            "LENGHT_OF_STAY\n",
            "STD_MONTHLY_SPEND\n",
            "AVERAGE_MONTHLY_SPEND\n",
            "AVERAGE_MONTHLY_VISIT\n",
            "MODE_BASKET_SIZE\n"
          ],
          "name": "stdout"
        },
        {
          "output_type": "display_data",
          "data": {
            "image/png": "[encoded data removed]",
            "text/plain": [
              "<Figure size 576x432 with 1 Axes>"
            ]
          },
          "metadata": {
            "tags": [],
            "needs_background": "light"
          }
        },
        {
          "output_type": "display_data",
          "data": {
            "image/png": "[encoded data removed]",
            "text/plain": [
              "<Figure size 576x432 with 1 Axes>"
            ]
          },
          "metadata": {
            "tags": [],
            "needs_background": "light"
          }
        },
        {
          "output_type": "display_data",
          "data": {
            "image/png": "[encoded data removed]",
            "text/plain": [
              "<Figure size 576x432 with 1 Axes>"
            ]
          },
          "metadata": {
            "tags": [],
            "needs_background": "light"
          }
        },
        {
          "output_type": "display_data",
          "data": {
            "image/png": "[encoded data removed]",
            "text/plain": [
              "<Figure size 576x432 with 1 Axes>"
            ]
          },
          "metadata": {
            "tags": [],
            "needs_background": "light"
          }
        },
        {
          "output_type": "display_data",
          "data": {
            "image/png": "[encoded data removed]",
            "text/plain": [
              "<Figure size 576x432 with 1 Axes>"
            ]
          },
          "metadata": {
            "tags": [],
            "needs_background": "light"
          }
        }
      ]
    },
    {
      "cell_type": "markdown",
      "metadata": {
        "id": "g3r3DJch1MHy"
      },
      "source": [
        "#Reference\n",
        "##SSE\n",
        "https://vitalflux.com/k-means-elbow-point-method-sse-inertia-plot-python/\n",
        "\n",
        "##Silhouette Analysis in K-means Clustering\n",
        "https://medium.com/@cmukesh8688/silhouette-analysis-in-k-means-clustering-cefa9a7ad111\n",
        "\n",
        "##Importance Feature with Random Forest\n",
        "https://mljar.com/blog/feature-importance-in-random-forest/#:~:text=Random%20Forest%20Built%2Din%20Feature,from%20the%20Random%20Forest%20structure.&text=The%20average%20over%20all%20trees,measure%20of%20the%20feature%20importance."
      ]
    },
    {
      "cell_type": "code",
      "metadata": {
        "id": "pRMXWfw61cHA"
      },
      "source": [
        ""
      ],
      "execution_count": null,
      "outputs": []
    }
  ]
}